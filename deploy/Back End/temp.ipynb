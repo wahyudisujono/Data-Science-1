{
 "cells": [
  {
   "cell_type": "code",
   "execution_count": 5,
   "metadata": {},
   "outputs": [],
   "source": [
    "import pickle\n",
    "import pandas as pd\n",
    "\n",
    "def open_model(model_path):\n",
    "    with open (model_path, 'rb') as f:\n",
    "        model = pickle.load(f)\n",
    "    return model\n",
    "\n",
    "model_cluster=open_model('finalpipe.pkl')"
   ]
  },
  {
   "cell_type": "code",
   "execution_count": 10,
   "metadata": {},
   "outputs": [
    {
     "data": {
      "text/plain": [
       "array([1])"
      ]
     },
     "execution_count": 10,
     "metadata": {},
     "output_type": "execute_result"
    }
   ],
   "source": [
    "data2={'Education':'Master', \n",
    "        'Income': 69142.0, \n",
    "        'Kidhome': 0, \n",
    "        'Teenhome': 1, \n",
    "        'Dt_Customer': 0,\n",
    "        'Recency': 50,\n",
    "        'MntWines': 448, \n",
    "        'MntFruits': 4, \n",
    "        'MntMeatProducts': 34, \n",
    "        'MntFishProducts': 6, \n",
    "        'MntSweetProducts': 4, \n",
    "        'MntGoldProds': 39,\n",
    "        'NumDealsPurchases': 3,\n",
    "        'NumWebPurchases': 8, \n",
    "        'NumCatalogPurchases': 1,\n",
    "        'NumStorePurchases': 7, \n",
    "        'NumWebVisitsMonth': 5, \n",
    "        'AcceptedCmp3': 1, \n",
    "        'AcceptedCmp4': 0, \n",
    "        'AcceptedCmp5': 0, \n",
    "        'AcceptedCmp1': 0, \n",
    "        'AcceptedCmp2' : 0,\n",
    "        'Complain': 0, \n",
    "        'Response':0, \n",
    "        'age':62\n",
    "\n",
    "}\n",
    "new_data=[\n",
    "        data2['Education'],\n",
    "        data2['Income'],\n",
    "        data2['Kidhome'],\n",
    "        data2['Teenhome'],\n",
    "        data2['Dt_Customer'],\n",
    "        data2['Recency'], \n",
    "        data2['MntWines'], \n",
    "        data2['MntFruits'], \n",
    "        data2['MntMeatProducts'], \n",
    "        data2['MntFishProducts'], \n",
    "        data2['MntSweetProducts'], \n",
    "        data2['MntGoldProds'],\n",
    "        data2['NumDealsPurchases'], \n",
    "        data2['NumWebPurchases'], \n",
    "        data2['NumCatalogPurchases'],\n",
    "        data2['NumStorePurchases'], \n",
    "        data2['NumWebVisitsMonth'], \n",
    "        data2['AcceptedCmp3'], \n",
    "        data2['AcceptedCmp4'], \n",
    "        data2['AcceptedCmp5'], \n",
    "        data2['AcceptedCmp1'], \n",
    "        data2['AcceptedCmp2'],       \n",
    "        data2['Complain'], \n",
    "        data2['Response'], \n",
    "        data2['age']\n",
    "        ]\n",
    "\n",
    "columns= ['Education', 'Income', 'Kidhome', 'Teenhome', 'Dt_Customer','Recency', \n",
    "        'MntWines', 'MntFruits', 'MntMeatProducts', 'MntFishProducts', 'MntSweetProducts', 'MntGoldProds',\n",
    "       'NumDealsPurchases', 'NumWebPurchases', 'NumCatalogPurchases','NumStorePurchases', 'NumWebVisitsMonth', \n",
    "       'AcceptedCmp3', 'AcceptedCmp4', 'AcceptedCmp5', 'AcceptedCmp1', 'AcceptedCmp2',\n",
    "       'Complain', 'Response', 'age']\n",
    "newdata=pd.DataFrame(data=[new_data], columns=columns)\n",
    "model_cluster.predict(newdata)"
   ]
  }
 ],
 "metadata": {
  "kernelspec": {
   "display_name": "Python 3.9.12 ('base')",
   "language": "python",
   "name": "python3"
  },
  "language_info": {
   "codemirror_mode": {
    "name": "ipython",
    "version": 3
   },
   "file_extension": ".py",
   "mimetype": "text/x-python",
   "name": "python",
   "nbconvert_exporter": "python",
   "pygments_lexer": "ipython3",
   "version": "3.9.12"
  },
  "orig_nbformat": 4,
  "vscode": {
   "interpreter": {
    "hash": "9048cbf2aa5c5605910089358556f0bf71534cc3a4ea7c995cde1c5f16d23cd7"
   }
  }
 },
 "nbformat": 4,
 "nbformat_minor": 2
}
