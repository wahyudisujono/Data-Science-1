{
 "cells": [
  {
   "cell_type": "code",
   "execution_count": 1,
   "metadata": {},
   "outputs": [],
   "source": [
    "# import web driver and pandas\n",
    "from selenium import webdriver\n",
    "\n",
    "from selenium.webdriver.support.ui import WebDriverWait\n",
    "from selenium.webdriver.support import expected_conditions as EC\n",
    "from selenium.webdriver.common.keys import Keys\n",
    "from selenium.webdriver.common.by import By\n"
   ]
  },
  {
   "cell_type": "code",
   "execution_count": 13,
   "metadata": {},
   "outputs": [
    {
     "name": "stderr",
     "output_type": "stream",
     "text": [
      "C:\\Users\\wahyu\\AppData\\Local\\Temp\\ipykernel_8956\\3428276795.py:2: DeprecationWarning: executable_path has been deprecated, please pass in a Service object\n",
      "  driver = webdriver.Chrome(\"Web Scraping/chromedriver\")\n"
     ]
    }
   ],
   "source": [
    "# specifies the path to the chromedriver.exe\n",
    "driver = webdriver.Chrome(\"Web Scraping/chromedriver\")"
   ]
  },
  {
   "cell_type": "code",
   "execution_count": 14,
   "metadata": {},
   "outputs": [],
   "source": [
    "# driver.get method() will navigate to a page given by the URL address\n",
    "driver.get(\"https://web.whatsapp.com/\")"
   ]
  },
  {
   "cell_type": "code",
   "execution_count": null,
   "metadata": {},
   "outputs": [],
   "source": [
    "# Replace 'name' with the name of your friend or group name\n",
    "myList = ['\"Ridho Fisika 13\"','\"Ahmad Zainuri\"']\n",
    "\n",
    "wait = WebDriverWait(driver, 1000)\n",
    "  \n",
    "for target in myList:\n",
    "    name = target.replace('\"','')\n",
    "\n",
    "    # Replace the below string with your own message\n",
    "    string = \"Hi \" + name + Keys.SHIFT +'\\n\\n'+ Keys.SHIFT + \"Welcome to my channel RoboPathshala https://www.youtube.com/channel/UCNOHaiZpf-HhyazeYqTeXvA?view_as=subscriber\"+ Keys.SHIFT +'\\n\\n'+ Keys.SHIFT + \"Regards\" + Keys.SHIFT +'\\n'+ Keys.SHIFT +\"*ALOK MISHRA*\"\n",
    "\n",
    "    x_arg = '//span[contains(@title,' + target + ')]'\n",
    "\n",
    "    group_title = wait.until(EC.presence_of_element_located((By.XPATH, x_arg)))\n",
    "\n",
    "    print (\"Wait for few seconds\")\n",
    "    group_title.click()\n",
    "\n",
    "    #locate message form by_xpath\n",
    "    message = driver.find_elements_by_xpath('//*[@id=\"main\"]/footer/div[1]/div[2]/div/div[2]')[0]\n",
    "\n",
    "\n",
    "    # send_keys() to simulate key strokes\n",
    "    message.send_keys(string)\n",
    "\n",
    "    sendbutton = driver.find_elements_by_xpath('//*[@id=\"main\"]/footer/div[1]/div[3]/button')[0]\n",
    "\n",
    "    sendbutton.click()\n",
    "    \n"
   ]
  },
  {
   "cell_type": "code",
   "execution_count": 12,
   "metadata": {},
   "outputs": [],
   "source": [
    "driver.close()\n",
    "        \n",
    "    "
   ]
  },
  {
   "cell_type": "code",
   "execution_count": null,
   "metadata": {},
   "outputs": [],
   "source": []
  }
 ],
 "metadata": {
  "kernelspec": {
   "display_name": "Python 3.9.12 ('base')",
   "language": "python",
   "name": "python3"
  },
  "language_info": {
   "codemirror_mode": {
    "name": "ipython",
    "version": 3
   },
   "file_extension": ".py",
   "mimetype": "text/x-python",
   "name": "python",
   "nbconvert_exporter": "python",
   "pygments_lexer": "ipython3",
   "version": "3.9.12"
  },
  "vscode": {
   "interpreter": {
    "hash": "9048cbf2aa5c5605910089358556f0bf71534cc3a4ea7c995cde1c5f16d23cd7"
   }
  }
 },
 "nbformat": 4,
 "nbformat_minor": 2
}
