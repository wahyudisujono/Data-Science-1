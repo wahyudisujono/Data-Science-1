{
  "cells": [
    {
      "cell_type": "markdown",
      "metadata": {
        "id": "MCKRVeG7Rz1D"
      },
      "source": [
        "# Week 3: Day 5 AM // Web Scraping"
      ]
    },
    {
      "cell_type": "markdown",
      "metadata": {
        "id": "j_P5dOK5WF1Z"
      },
      "source": [
        "## Tools Preparation\n",
        "Scrapping is basically one of the way to retrieve the data and this process is very important to know as a data scientist since sometimes we cannot get data easily as we querying the data from the database or download Kaggle. We're going to scrape Gramedia.com in this lesson using Beautifulsoup. Before we're going further, please install beautifulsoup.\n",
        "\n",
        "To install beautifulsoup, you may run one of the following commands on Anaconda Prompt (Windows) or Terminal (Linux/Mac/VSCode):\n",
        "\n",
        "```\n",
        "pip install bs4\n",
        "```\n",
        "\n",
        "and also you need to install requests to acces a web address by running:\n",
        "\n",
        "```\n",
        "pip install requests\n",
        "```"
      ]
    },
    {
      "cell_type": "markdown",
      "metadata": {
        "id": "7_Nj3uU2WF1b"
      },
      "source": [
        "## Basic Web Component\n",
        "\n",
        "The website that you are scraping in this lesson contains several components. Those are:\n",
        "- HTML — the main content of the page.\n",
        "- CSS — used to add styling to make the page look nicer.\n",
        "- JS — Javascript files add interactivity to web pages.\n",
        "- Images — image formats, such as JPG and PNG, allow web pages to show pictures.\n",
        "\n",
        "There’s a lot that happens behind the scenes to render a page nicely, but we don’t need to worry about most of it when we’re web scraping. When we perform web scraping, we’re interested in the main content of the web page, so we look primarily at the HTML. Hence, you need to know some HTML structure to ease your scraping works. But don't worry, you don't need to dive in deeply into it.\n",
        "\n",
        "### HTML Structure\n",
        "\n",
        "HyperText Markup Language (HTML) is the language that web pages are created in. HTML isn’t a programming language, like Python, though. It’s a markup language that tells a browser how to display content. \n",
        "\n",
        "HTML has many functions that are similar to what you might find in a word processor like Microsoft Word — it can make text bold, create paragraphs, and so on.\n",
        "\n",
        "Below an example of HTML structure:\n",
        "\n",
        "```html\n",
        "<HTML>\n",
        "    <HEAD>\n",
        "        <TITLE>My cool title</TITLE>\n",
        "    </HEAD>\n",
        "    <BODY>\n",
        "        <H1>This is a Header</H1>\n",
        "        <ul id=\"list\" class=\"coolList\">\n",
        "            <li>item 1</li>\n",
        "            <li>item 2</li>\n",
        "            <li>item 3</li>\n",
        "        </ul>\n",
        "    </BODY>\n",
        "</HTML>\n",
        "```\n",
        "\n",
        "- The red items are called as tag or element. Usually, tag follows \"<\".\n",
        "- HTML, HEAD, and BODY are the main elements and the rests are the content. For your attention, we will focus on the contents.\n",
        "- The orange items are attribut that give information about the tag.\n",
        "- The blue texts are the attribute value.\n"
      ]
    },
    {
      "cell_type": "markdown",
      "metadata": {
        "id": "EJVwKYbKWF1c"
      },
      "source": [
        "## Accessing the Web\n",
        "\n",
        "Now, we will access https://www.gramedia.com/categories/buku for this lesson. Before we go further, we need to understand how to access the url in Python. To do it, we use requests library."
      ]
    },
    {
      "cell_type": "code",
      "execution_count": 1,
      "metadata": {
        "id": "GtmnQkPIWF1f",
        "outputId": "1a8aea09-3ab6-43ff-f23f-649f4e9cc1f9"
      },
      "outputs": [],
      "source": [
        "import requests\n",
        "page = requests.get(\"https://www.gramedia.com/categories/buku\")\n",
        "respons=requests.get('https://news.ycombinator.com/')\n"
      ]
    },
    {
      "cell_type": "markdown",
      "metadata": {
        "id": "mcW1jiE0WF1k"
      },
      "source": [
        "If you see the output is <Response [200]>, then you are success to access the url. \"200\" refers to HTTP status codes. You can read https://id.wikipedia.org/wiki/Daftar_kode_status_HTTP for further explaination.\n",
        "\n",
        "Now, you can check the HTML content of the page in Python. However, you can also check it on your browser by right click and choose Inspect element to ease your understanding od the web structure."
      ]
    },
    {
      "cell_type": "markdown",
      "metadata": {
        "id": "rlq1BjXlWF1l"
      },
      "source": [
        "Above is the HTML structure that Python successfully access. We need to parsing the structure using Beautifulsoup to make it clear and accessible to scrape."
      ]
    },
    {
      "cell_type": "code",
      "execution_count": 3,
      "metadata": {},
      "outputs": [
        {
          "name": "stdout",
          "output_type": "stream",
          "text": [
            "Collecting selenium\n",
            "  Using cached selenium-4.2.0-py3-none-any.whl (983 kB)\n",
            "Collecting trio~=0.17\n",
            "  Using cached trio-0.20.0-py3-none-any.whl (359 kB)\n",
            "Requirement already satisfied: urllib3[secure,socks]~=1.26 in c:\\users\\wahyu\\anaconda3\\lib\\site-packages (from selenium) (1.26.9)\n",
            "Collecting trio-websocket~=0.9\n",
            "  Using cached trio_websocket-0.9.2-py3-none-any.whl (16 kB)\n",
            "Requirement already satisfied: sniffio in c:\\users\\wahyu\\anaconda3\\lib\\site-packages (from trio~=0.17->selenium) (1.2.0)\n",
            "Requirement already satisfied: sortedcontainers in c:\\users\\wahyu\\anaconda3\\lib\\site-packages (from trio~=0.17->selenium) (2.4.0)\n",
            "Requirement already satisfied: idna in c:\\users\\wahyu\\anaconda3\\lib\\site-packages (from trio~=0.17->selenium) (3.3)\n",
            "Requirement already satisfied: cffi>=1.14 in c:\\users\\wahyu\\anaconda3\\lib\\site-packages (from trio~=0.17->selenium) (1.15.0)\n",
            "Collecting async-generator>=1.9\n",
            "  Using cached async_generator-1.10-py3-none-any.whl (18 kB)\n",
            "Collecting outcome\n",
            "  Using cached outcome-1.1.0-py2.py3-none-any.whl (9.7 kB)\n",
            "Requirement already satisfied: attrs>=19.2.0 in c:\\users\\wahyu\\anaconda3\\lib\\site-packages (from trio~=0.17->selenium) (21.4.0)\n",
            "Requirement already satisfied: pycparser in c:\\users\\wahyu\\anaconda3\\lib\\site-packages (from cffi>=1.14->trio~=0.17->selenium) (2.21)\n",
            "Collecting wsproto>=0.14\n",
            "  Using cached wsproto-1.1.0-py3-none-any.whl (24 kB)\n",
            "Requirement already satisfied: pyOpenSSL>=0.14 in c:\\users\\wahyu\\anaconda3\\lib\\site-packages (from urllib3[secure,socks]~=1.26->selenium) (21.0.0)\n",
            "Requirement already satisfied: cryptography>=1.3.4 in c:\\users\\wahyu\\anaconda3\\lib\\site-packages (from urllib3[secure,socks]~=1.26->selenium) (3.4.8)\n",
            "Requirement already satisfied: certifi in c:\\users\\wahyu\\anaconda3\\lib\\site-packages (from urllib3[secure,socks]~=1.26->selenium) (2021.10.8)\n",
            "Requirement already satisfied: PySocks!=1.5.7,<2.0,>=1.5.6 in c:\\users\\wahyu\\anaconda3\\lib\\site-packages (from urllib3[secure,socks]~=1.26->selenium) (1.7.1)\n",
            "Requirement already satisfied: six>=1.5.2 in c:\\users\\wahyu\\anaconda3\\lib\\site-packages (from pyOpenSSL>=0.14->urllib3[secure,socks]~=1.26->selenium) (1.16.0)\n",
            "Collecting h11<1,>=0.9.0\n",
            "  Using cached h11-0.13.0-py3-none-any.whl (58 kB)\n",
            "Installing collected packages: outcome, h11, async-generator, wsproto, trio, trio-websocket, selenium\n",
            "Successfully installed async-generator-1.10 h11-0.13.0 outcome-1.1.0 selenium-4.2.0 trio-0.20.0 trio-websocket-0.9.2 wsproto-1.1.0\n"
          ]
        }
      ],
      "source": [
        "!pip install selenium"
      ]
    },
    {
      "cell_type": "code",
      "execution_count": 4,
      "metadata": {},
      "outputs": [],
      "source": [
        "from selenium import webdriver"
      ]
    },
    {
      "cell_type": "code",
      "execution_count": 5,
      "metadata": {
        "id": "r1rIohclWF1m",
        "outputId": "8152b840-1ad5-4084-93b6-e2b759fd5552"
      },
      "outputs": [
        {
          "name": "stderr",
          "output_type": "stream",
          "text": [
            "C:\\Users\\wahyu\\AppData\\Local\\Temp\\ipykernel_11896\\556061276.py:3: DeprecationWarning: executable_path has been deprecated, please pass in a Service object\n",
            "  driver = webdriver.Chrome('Web Scraping/chromedriver')\n"
          ]
        },
        {
          "name": "stdout",
          "output_type": "stream",
          "text": [
            "<html class=\"\" lang=\"id\">\n",
            " <head>\n",
            "  <base href=\"/\"/>\n",
            "  <meta charset=\"utf-8\"/>\n",
            "  <meta content=\"width=device-width, initial-scale=1\" name=\"viewport\"/>\n",
            "  <meta content=\"#281e5a\" name=\"theme-color\"/>\n",
            "  <meta content=\"index, follow\" name=\"robots\"/>\n",
            "  <link href=\"/assets/favicon.ico\" rel=\"icon\" type=\"image/x-icon\"/>\n",
            "  <link href=\"manifest.json\" rel=\"manifest\"/>\n",
            "  <link href=\"/assets/favicon.ico\" rel=\"shortcut icon\" type=\"image/x-icon\"/>\n",
            "  <meta content=\"z91Vp6ZYo9UoX5D4ur6i4Lrl0l1j3DDoCH08fD3n53g\" name=\"google-site-verification\"/>\n",
            "  <meta content=\"810657685650228\" property=\"fb:app_id\"/>\n",
            "  <style>\n",
            "   .async-hide {\n",
            "        opacity: 0 !important\n",
            "    }\n",
            "  </style>\n",
            "  <script async=\"\" src=\"https://app.\n"
          ]
        }
      ],
      "source": [
        "from bs4 import BeautifulSoup\n",
        "from selenium import webdriver\n",
        "driver = webdriver.Chrome('Web Scraping/chromedriver')\n",
        "\n",
        "url=\"https://www.gramedia.com/categories/buku\"\n",
        "driver.get(url)\n",
        "html = driver.page_source\n",
        "\n",
        "soup = BeautifulSoup(html, \"html.parser\")\n",
        "print(soup.prettify()[:700])"
      ]
    },
    {
      "cell_type": "markdown",
      "metadata": {
        "id": "K2817p7BWF1n"
      },
      "source": [
        "<img src=\"https://i.ibb.co/vsz2M33/message-Image-1636690176458.jpg\"></img>"
      ]
    },
    {
      "cell_type": "markdown",
      "metadata": {
        "id": "l5JHodL6WF1o"
      },
      "source": [
        "Let that we want to retrieve the books' title, so let's check the title position on the HTML out using Inspect element!\n",
        "\n",
        "We know that based on the Inspect element, the books' title lie on this code:\n",
        "\n",
        "```html\n",
        "<div _ngcontent-web-gramedia-c53=\"\" class=\"list-title\">Creepy Case Club 4: Kasus Pohon Pemanggil</div>\n",
        "```\n",
        "\n",
        "\"Creepy Case Club 4: Kasus Pohon Pemanggil\" located at **div** tag with attribute **class** and the value of \"*list-title*\". So we will use the information to inform the soup where the titles exist.\n",
        "\n",
        "So we need to find all div elements that contain attribute class and value \"list-title\". \n",
        "\n",
        "To do that, we use ```soup.find_all(\"<element>\",{\"<attribute>\":\"<attribute value>\"})```"
      ]
    },
    {
      "cell_type": "code",
      "execution_count": 6,
      "metadata": {
        "id": "Zx4CucwHWF1p",
        "outputId": "e151d3b7-65bf-48b0-fecd-bddc8d589272"
      },
      "outputs": [
        {
          "data": {
            "text/plain": [
              "[<div _ngcontent-web-gramedia-c26=\"\" class=\"list-title\">Keamanan Basis Data Relasional</div>,\n",
              " <div _ngcontent-web-gramedia-c26=\"\" class=\"list-title\">Manusia dalam Kemelut Sejarah</div>,\n",
              " <div _ngcontent-web-gramedia-c26=\"\" class=\"list-title\">Sejarah Berhala dan Jejak Risalah</div>,\n",
              " <div _ngcontent-web-gramedia-c26=\"\" class=\"list-title\">Raja Namrud: Diktator Pertama di Muka Bumi</div>,\n",
              " <div _ngcontent-web-gramedia-c26=\"\" class=\"list-title\">Sentuhan Al-Qur`an</div>,\n",
              " <div _ngcontent-web-gramedia-c26=\"\" class=\"list-title\">Berjalan Menembus Sepuluh Ribu Hijab</div>,\n",
              " <div _ngcontent-web-gramedia-c26=\"\" class=\"list-title\">Yamaha Accoustic Electric Cpx 600</div>,\n",
              " <div _ngcontent-web-gramedia-c26=\"\" class=\"list-title\">Russel Ampli Keyboard Multi Kb 70</div>,\n",
              " <div _ngcontent-web-gramedia-c26=\"\" class=\"list-title\">Yamaha Acoustic Elektrik Cx-40</div>,\n",
              " <div _ngcontent-web-gramedia-c26=\"\" class=\"list-title\">Yamaha Acoustic Electric Apxt2</div>,\n",
              " <div _ngcontent-web-gramedia-c26=\"\" class=\"list-title\">Yamaha Accoustic Guitar Junior 2 Nt</div>,\n",
              " <div _ngcontent-web-gramedia-c26=\"\" class=\"list-title\">Yamaha Pianica P 32 Dn</div>,\n",
              " <div _ngcontent-web-gramedia-c26=\"\" class=\"list-title\">Yamaha Recorder Yrs 20 Pink</div>,\n",
              " <div _ngcontent-web-gramedia-c26=\"\" class=\"list-title\">Yamaha Recorder Yrs 20 Biru</div>,\n",
              " <div _ngcontent-web-gramedia-c26=\"\" class=\"list-title\">Yamaha Accoustic Gitar Fs 100 C</div>,\n",
              " <div _ngcontent-web-gramedia-c26=\"\" class=\"list-title\">Yamaha Accoustic Gitar F 335 Tbs</div>,\n",
              " <div _ngcontent-web-gramedia-c26=\"\" class=\"list-title\">Yamaha Accoustic Gitar F 335 Nt</div>,\n",
              " <div _ngcontent-web-gramedia-c26=\"\" class=\"list-title\">Yamaha Accoustic Electric Guitar Fsx 315 Cnt</div>,\n",
              " <div _ngcontent-web-gramedia-c26=\"\" class=\"list-title\">Yamaha Accoustic Electric Guitar Fsx 315 C Tbs</div>,\n",
              " <div _ngcontent-web-gramedia-c26=\"\" class=\"list-title\">Yamaha Accoustic Electric Apx 600</div>]"
            ]
          },
          "execution_count": 6,
          "metadata": {},
          "output_type": "execute_result"
        }
      ],
      "source": [
        "soup.find_all('div',{\"class\":\"list-title\"})"
      ]
    },
    {
      "cell_type": "markdown",
      "metadata": {
        "id": "_1TUX1FJWF1p"
      },
      "source": [
        "We see that the soup found all div elements that contain attribute class and value \"list-title\" but we need the title text only. To extract it, just add .get_text() method to each list element."
      ]
    },
    {
      "cell_type": "code",
      "execution_count": 7,
      "metadata": {
        "id": "3-RLPkTeWF1q",
        "outputId": "320b39c2-a266-45d8-cb36-a3414c84d3ea"
      },
      "outputs": [
        {
          "name": "stdout",
          "output_type": "stream",
          "text": [
            "Keamanan Basis Data Relasional\n",
            "Manusia dalam Kemelut Sejarah\n",
            "Sejarah Berhala dan Jejak Risalah\n",
            "Raja Namrud: Diktator Pertama di Muka Bumi\n",
            "Sentuhan Al-Qur`an\n",
            "Berjalan Menembus Sepuluh Ribu Hijab\n",
            "Yamaha Accoustic Electric Cpx 600\n",
            "Russel Ampli Keyboard Multi Kb 70\n",
            "Yamaha Acoustic Elektrik Cx-40\n",
            "Yamaha Acoustic Electric Apxt2\n",
            "Yamaha Accoustic Guitar Junior 2 Nt\n",
            "Yamaha Pianica P 32 Dn\n",
            "Yamaha Recorder Yrs 20 Pink\n",
            "Yamaha Recorder Yrs 20 Biru\n",
            "Yamaha Accoustic Gitar Fs 100 C\n",
            "Yamaha Accoustic Gitar F 335 Tbs\n",
            "Yamaha Accoustic Gitar F 335 Nt\n",
            "Yamaha Accoustic Electric Guitar Fsx 315 Cnt\n",
            "Yamaha Accoustic Electric Guitar Fsx 315 C Tbs\n",
            "Yamaha Accoustic Electric Apx 600\n"
          ]
        }
      ],
      "source": [
        "for div_tag in soup.find_all('div',{\"class\":\"list-title\"}):\n",
        "    print(div_tag.get_text())"
      ]
    },
    {
      "cell_type": "markdown",
      "metadata": {
        "id": "0gKL3H-hWF1r"
      },
      "source": [
        "It is easy, isn't it?\n",
        "\n",
        "Next, we will do more. Our task is to get information about Title, Author, Price, Link to the book's page, and link refers to image.\n",
        "\n",
        "Based on the Inspect element, we know that those information locate on:\n",
        "- Title: ```<div _ngcontent-web-gramedia-c53=\"\" class=\"list-title\">Creepy Case Club 4: Kasus Pohon Pemanggil</div>```\n",
        "- Author: ```<p class=\"div-author\"><span _ngcontent-web-gramedia-c53=\"\" class=\"list-author ng-star-inserted\"> Arvidan None </span>```\n",
        "- Price: ```<p _ngcontent-web-gramedia-c53=\"\" class=\"formats-price\">Rp 79.000</p>```\n",
        "- Link: ```<div class=\"ng-star-inserted\"><a _ngcontent-web-gramedia-c53=\"\" href=\"/products/think-and-grow-rich-cara-para-jutawan-dan-miliarder-meraih-kekayaan\">```\n",
        "- Image: ```<img _ngcontent-web-gramedia-c26=\"\" class=\"product-list-img ng-star-inserted ng-lazyloaded\" src=\"https://cdn.gramedia.com/uploads/items/9786230405990_Think_and_Grow_Rich__w149_hauto.jpeg\" alt=\"Think And Grow Rich : Cara Para Jutawan Dan Miliarder Meraih Kekayaan\">```\n",
        "\n",
        "Let's we wrap up the code and then input the data into Pandas DataFrame."
      ]
    },
    {
      "cell_type": "code",
      "execution_count": 8,
      "metadata": {
        "id": "YVWjtjWcWF1u",
        "outputId": "33e6b4bb-e6f1-44a4-b49c-89b0ce80fa87"
      },
      "outputs": [
        {
          "data": {
            "text/html": [
              "<div>\n",
              "<style scoped>\n",
              "    .dataframe tbody tr th:only-of-type {\n",
              "        vertical-align: middle;\n",
              "    }\n",
              "\n",
              "    .dataframe tbody tr th {\n",
              "        vertical-align: top;\n",
              "    }\n",
              "\n",
              "    .dataframe thead th {\n",
              "        text-align: right;\n",
              "    }\n",
              "</style>\n",
              "<table border=\"1\" class=\"dataframe\">\n",
              "  <thead>\n",
              "    <tr style=\"text-align: right;\">\n",
              "      <th></th>\n",
              "      <th>Title</th>\n",
              "      <th>Author</th>\n",
              "      <th>Price</th>\n",
              "      <th>Image</th>\n",
              "      <th>Link</th>\n",
              "    </tr>\n",
              "  </thead>\n",
              "  <tbody>\n",
              "    <tr>\n",
              "      <th>0</th>\n",
              "      <td>Keamanan Basis Data Relasional</td>\n",
              "      <td>SUWANTO RAHARJO &amp; EMA UTAMI</td>\n",
              "      <td>Rp 67.150</td>\n",
              "      <td>https://cdn.gramedia.com/uploads/items/Keamana...</td>\n",
              "      <td>https://www.gramedia.com/products/keamanan-bas...</td>\n",
              "    </tr>\n",
              "    <tr>\n",
              "      <th>1</th>\n",
              "      <td>Manusia dalam Kemelut Sejarah</td>\n",
              "      <td>Taufik Abdullah, Aswab Mahasin, Daniel Dhakidae</td>\n",
              "      <td>Rp 59.500</td>\n",
              "      <td>https://cdn.gramedia.com/uploads/items/MANUSIA...</td>\n",
              "      <td>https://www.gramedia.com/products/manusia-dala...</td>\n",
              "    </tr>\n",
              "    <tr>\n",
              "      <th>2</th>\n",
              "      <td>Sejarah Berhala dan Jejak Risalah</td>\n",
              "      <td>Wisnu Tanggap Prabowo</td>\n",
              "      <td>Rp 72.250</td>\n",
              "      <td>https://cdn.gramedia.com/uploads/items/Sejarah...</td>\n",
              "      <td>https://www.gramedia.com/products/sejarah-berh...</td>\n",
              "    </tr>\n",
              "    <tr>\n",
              "      <th>3</th>\n",
              "      <td>Raja Namrud: Diktator Pertama di Muka Bumi</td>\n",
              "      <td>Manshur Abdul Hakim</td>\n",
              "      <td>Rp 55.250</td>\n",
              "      <td>https://cdn.gramedia.com/uploads/items/Raja_Na...</td>\n",
              "      <td>https://www.gramedia.com/products/raja-namrud-...</td>\n",
              "    </tr>\n",
              "    <tr>\n",
              "      <th>4</th>\n",
              "      <td>Sentuhan Al-Qur`an</td>\n",
              "      <td>Adham Syarqawi</td>\n",
              "      <td>Rp 76.500</td>\n",
              "      <td>https://cdn.gramedia.com/uploads/items/Sentuha...</td>\n",
              "      <td>https://www.gramedia.com/products/sentuhan-al-...</td>\n",
              "    </tr>\n",
              "    <tr>\n",
              "      <th>5</th>\n",
              "      <td>Berjalan Menembus Sepuluh Ribu Hijab</td>\n",
              "      <td>Maryam Kabeer</td>\n",
              "      <td>Rp 122.400</td>\n",
              "      <td>https://cdn.gramedia.com/uploads/items/Berjala...</td>\n",
              "      <td>https://www.gramedia.com/products/berjalan-men...</td>\n",
              "    </tr>\n",
              "    <tr>\n",
              "      <th>6</th>\n",
              "      <td>Yamaha Accoustic Electric Cpx 600</td>\n",
              "      <td></td>\n",
              "      <td>Rp 3.583.000</td>\n",
              "      <td>/assets/default-images/product.png</td>\n",
              "      <td>https://www.gramedia.com/products/yamaha-accou...</td>\n",
              "    </tr>\n",
              "    <tr>\n",
              "      <th>7</th>\n",
              "      <td>Russel Ampli Keyboard Multi Kb 70</td>\n",
              "      <td></td>\n",
              "      <td>Rp 3.179.000</td>\n",
              "      <td>/assets/default-images/product.png</td>\n",
              "      <td>https://www.gramedia.com/products/russel-ampli...</td>\n",
              "    </tr>\n",
              "    <tr>\n",
              "      <th>8</th>\n",
              "      <td>Yamaha Acoustic Elektrik Cx-40</td>\n",
              "      <td></td>\n",
              "      <td>Rp 1.847.000</td>\n",
              "      <td>/assets/default-images/product.png</td>\n",
              "      <td>https://www.gramedia.com/products/yamaha-acous...</td>\n",
              "    </tr>\n",
              "    <tr>\n",
              "      <th>9</th>\n",
              "      <td>Yamaha Acoustic Electric Apxt2</td>\n",
              "      <td></td>\n",
              "      <td>Rp 2.422.000</td>\n",
              "      <td>/assets/default-images/product.png</td>\n",
              "      <td>https://www.gramedia.com/products/yamaha-acous...</td>\n",
              "    </tr>\n",
              "    <tr>\n",
              "      <th>10</th>\n",
              "      <td>Yamaha Accoustic Guitar Junior 2 Nt</td>\n",
              "      <td></td>\n",
              "      <td>Rp 1.706.000</td>\n",
              "      <td>/assets/default-images/product.png</td>\n",
              "      <td>https://www.gramedia.com/products/yamaha-accou...</td>\n",
              "    </tr>\n",
              "    <tr>\n",
              "      <th>11</th>\n",
              "      <td>Yamaha Pianica P 32 Dn</td>\n",
              "      <td></td>\n",
              "      <td>Rp 500.000</td>\n",
              "      <td>/assets/default-images/product.png</td>\n",
              "      <td>https://www.gramedia.com/products/yamaha-piani...</td>\n",
              "    </tr>\n",
              "    <tr>\n",
              "      <th>12</th>\n",
              "      <td>Yamaha Recorder Yrs 20 Pink</td>\n",
              "      <td></td>\n",
              "      <td>Rp 47.000</td>\n",
              "      <td>/assets/default-images/product.png</td>\n",
              "      <td>https://www.gramedia.com/products/yamaha-recor...</td>\n",
              "    </tr>\n",
              "    <tr>\n",
              "      <th>13</th>\n",
              "      <td>Yamaha Recorder Yrs 20 Biru</td>\n",
              "      <td></td>\n",
              "      <td>Rp 47.000</td>\n",
              "      <td>/assets/default-images/product.png</td>\n",
              "      <td>https://www.gramedia.com/products/yamaha-recor...</td>\n",
              "    </tr>\n",
              "    <tr>\n",
              "      <th>14</th>\n",
              "      <td>Yamaha Accoustic Gitar Fs 100 C</td>\n",
              "      <td></td>\n",
              "      <td>Rp 1.534.000</td>\n",
              "      <td>/assets/default-images/product.png</td>\n",
              "      <td>https://www.gramedia.com/products/yamaha-accou...</td>\n",
              "    </tr>\n",
              "    <tr>\n",
              "      <th>15</th>\n",
              "      <td>Yamaha Accoustic Gitar F 335 Tbs</td>\n",
              "      <td></td>\n",
              "      <td>Rp 1.615.000</td>\n",
              "      <td>/assets/default-images/product.png</td>\n",
              "      <td>https://www.gramedia.com/products/yamaha-accou...</td>\n",
              "    </tr>\n",
              "    <tr>\n",
              "      <th>16</th>\n",
              "      <td>Yamaha Accoustic Gitar F 335 Nt</td>\n",
              "      <td></td>\n",
              "      <td>Rp 1.615.000</td>\n",
              "      <td>/assets/default-images/product.png</td>\n",
              "      <td>https://www.gramedia.com/products/yamaha-accou...</td>\n",
              "    </tr>\n",
              "    <tr>\n",
              "      <th>17</th>\n",
              "      <td>Yamaha Accoustic Electric Guitar Fsx 315 Cnt</td>\n",
              "      <td></td>\n",
              "      <td>Rp 2.513.000</td>\n",
              "      <td>/assets/default-images/product.png</td>\n",
              "      <td>https://www.gramedia.com/products/yamaha-accou...</td>\n",
              "    </tr>\n",
              "    <tr>\n",
              "      <th>18</th>\n",
              "      <td>Yamaha Accoustic Electric Guitar Fsx 315 C Tbs</td>\n",
              "      <td></td>\n",
              "      <td>Rp 2.513.000</td>\n",
              "      <td>/assets/default-images/product.png</td>\n",
              "      <td>https://www.gramedia.com/products/yamaha-accou...</td>\n",
              "    </tr>\n",
              "    <tr>\n",
              "      <th>19</th>\n",
              "      <td>Yamaha Accoustic Electric Apx 600</td>\n",
              "      <td></td>\n",
              "      <td>Rp 3.169.000</td>\n",
              "      <td>/assets/default-images/product.png</td>\n",
              "      <td>https://www.gramedia.com/products/yamaha-accou...</td>\n",
              "    </tr>\n",
              "  </tbody>\n",
              "</table>\n",
              "</div>"
            ],
            "text/plain": [
              "                                             Title  \\\n",
              "0                   Keamanan Basis Data Relasional   \n",
              "1                    Manusia dalam Kemelut Sejarah   \n",
              "2                Sejarah Berhala dan Jejak Risalah   \n",
              "3       Raja Namrud: Diktator Pertama di Muka Bumi   \n",
              "4                               Sentuhan Al-Qur`an   \n",
              "5             Berjalan Menembus Sepuluh Ribu Hijab   \n",
              "6                Yamaha Accoustic Electric Cpx 600   \n",
              "7                Russel Ampli Keyboard Multi Kb 70   \n",
              "8                   Yamaha Acoustic Elektrik Cx-40   \n",
              "9                   Yamaha Acoustic Electric Apxt2   \n",
              "10             Yamaha Accoustic Guitar Junior 2 Nt   \n",
              "11                          Yamaha Pianica P 32 Dn   \n",
              "12                     Yamaha Recorder Yrs 20 Pink   \n",
              "13                     Yamaha Recorder Yrs 20 Biru   \n",
              "14                 Yamaha Accoustic Gitar Fs 100 C   \n",
              "15                Yamaha Accoustic Gitar F 335 Tbs   \n",
              "16                 Yamaha Accoustic Gitar F 335 Nt   \n",
              "17    Yamaha Accoustic Electric Guitar Fsx 315 Cnt   \n",
              "18  Yamaha Accoustic Electric Guitar Fsx 315 C Tbs   \n",
              "19               Yamaha Accoustic Electric Apx 600   \n",
              "\n",
              "                                               Author         Price  \\\n",
              "0                        SUWANTO RAHARJO & EMA UTAMI      Rp 67.150   \n",
              "1    Taufik Abdullah, Aswab Mahasin, Daniel Dhakidae      Rp 59.500   \n",
              "2                              Wisnu Tanggap Prabowo      Rp 72.250   \n",
              "3                                Manshur Abdul Hakim      Rp 55.250   \n",
              "4                                     Adham Syarqawi      Rp 76.500   \n",
              "5                                      Maryam Kabeer     Rp 122.400   \n",
              "6                                                      Rp 3.583.000   \n",
              "7                                                      Rp 3.179.000   \n",
              "8                                                      Rp 1.847.000   \n",
              "9                                                      Rp 2.422.000   \n",
              "10                                                     Rp 1.706.000   \n",
              "11                                                       Rp 500.000   \n",
              "12                                                        Rp 47.000   \n",
              "13                                                        Rp 47.000   \n",
              "14                                                     Rp 1.534.000   \n",
              "15                                                     Rp 1.615.000   \n",
              "16                                                     Rp 1.615.000   \n",
              "17                                                     Rp 2.513.000   \n",
              "18                                                     Rp 2.513.000   \n",
              "19                                                     Rp 3.169.000   \n",
              "\n",
              "                                                Image  \\\n",
              "0   https://cdn.gramedia.com/uploads/items/Keamana...   \n",
              "1   https://cdn.gramedia.com/uploads/items/MANUSIA...   \n",
              "2   https://cdn.gramedia.com/uploads/items/Sejarah...   \n",
              "3   https://cdn.gramedia.com/uploads/items/Raja_Na...   \n",
              "4   https://cdn.gramedia.com/uploads/items/Sentuha...   \n",
              "5   https://cdn.gramedia.com/uploads/items/Berjala...   \n",
              "6                  /assets/default-images/product.png   \n",
              "7                  /assets/default-images/product.png   \n",
              "8                  /assets/default-images/product.png   \n",
              "9                  /assets/default-images/product.png   \n",
              "10                 /assets/default-images/product.png   \n",
              "11                 /assets/default-images/product.png   \n",
              "12                 /assets/default-images/product.png   \n",
              "13                 /assets/default-images/product.png   \n",
              "14                 /assets/default-images/product.png   \n",
              "15                 /assets/default-images/product.png   \n",
              "16                 /assets/default-images/product.png   \n",
              "17                 /assets/default-images/product.png   \n",
              "18                 /assets/default-images/product.png   \n",
              "19                 /assets/default-images/product.png   \n",
              "\n",
              "                                                 Link  \n",
              "0   https://www.gramedia.com/products/keamanan-bas...  \n",
              "1   https://www.gramedia.com/products/manusia-dala...  \n",
              "2   https://www.gramedia.com/products/sejarah-berh...  \n",
              "3   https://www.gramedia.com/products/raja-namrud-...  \n",
              "4   https://www.gramedia.com/products/sentuhan-al-...  \n",
              "5   https://www.gramedia.com/products/berjalan-men...  \n",
              "6   https://www.gramedia.com/products/yamaha-accou...  \n",
              "7   https://www.gramedia.com/products/russel-ampli...  \n",
              "8   https://www.gramedia.com/products/yamaha-acous...  \n",
              "9   https://www.gramedia.com/products/yamaha-acous...  \n",
              "10  https://www.gramedia.com/products/yamaha-accou...  \n",
              "11  https://www.gramedia.com/products/yamaha-piani...  \n",
              "12  https://www.gramedia.com/products/yamaha-recor...  \n",
              "13  https://www.gramedia.com/products/yamaha-recor...  \n",
              "14  https://www.gramedia.com/products/yamaha-accou...  \n",
              "15  https://www.gramedia.com/products/yamaha-accou...  \n",
              "16  https://www.gramedia.com/products/yamaha-accou...  \n",
              "17  https://www.gramedia.com/products/yamaha-accou...  \n",
              "18  https://www.gramedia.com/products/yamaha-accou...  \n",
              "19  https://www.gramedia.com/products/yamaha-accou...  "
            ]
          },
          "execution_count": 8,
          "metadata": {},
          "output_type": "execute_result"
        }
      ],
      "source": [
        "import pandas as pd\n",
        "\n",
        "data = pd.DataFrame()\n",
        "\n",
        "data['Title'] = [ title.get_text() for title in soup.find_all( 'div', {\"class\":\"list-title\"} ) ]\n",
        "data['Author'] = [ author.get_text() for author in soup.find_all( 'p', {\"class\":\"div-author\"} ) ]\n",
        "data['Price'] = [ price.get_text() for price in soup.find_all( 'p', {\"class\":\"formats-price\"} ) ]\n",
        "data['Image'] = [ img['src'] for img in soup.find_all( 'img',{\"class\":\"product-list-img\"} ) ]\n",
        "\n",
        "links = []\n",
        "for tag in soup.find_all( 'div',{\"_ngcontent-web-gramedia-c26\":\"\",\"class\":\"ng-star-inserted\"} ):\n",
        "    try:\n",
        "        links.append(\"https://www.gramedia.com\"+tag.find_all('a',{\"_ngcontent-web-gramedia-c26\":\"\"})[0]['href'])\n",
        "    except:\n",
        "        pass\n",
        "\n",
        "data['Link'] = links\n",
        "\n",
        "data"
      ]
    },
    {
      "cell_type": "markdown",
      "metadata": {
        "id": "M_fnIYd5WF1v"
      },
      "source": [
        "## Multipage"
      ]
    },
    {
      "cell_type": "markdown",
      "metadata": {
        "id": "gY-P6M67WF1w"
      },
      "source": [
        "Currently, we are working on a page. However, the rest of the web consist of more pages like below:\n",
        "\n",
        "<img src=\"https://i.ibb.co/CQ6JQLv/message-Image-1636716930335.jpg\"></img>\n",
        "\n",
        "If we look at the next page such as page 2, we can see that the url change to https://www.gramedia.com/categories/buku?page=2 and page 3: https://www.gramedia.com/categories/buku?page=3. Then we know each page has a numbering format on url so we can access many pages one time automatically using loop. We exclude the image since image loader is very depended on your connection. Let's check the code below."
      ]
    },
    {
      "cell_type": "code",
      "execution_count": 10,
      "metadata": {
        "id": "zUIEjSEPWF1x",
        "outputId": "ab4212d5-f7cf-4a58-de5e-39a141090fae"
      },
      "outputs": [
        {
          "name": "stderr",
          "output_type": "stream",
          "text": [
            "C:\\Users\\wahyu\\AppData\\Local\\Temp\\ipykernel_11896\\2364669648.py:7: DeprecationWarning: executable_path has been deprecated, please pass in a Service object\n",
            "  driver = webdriver.Chrome('Web Scraping/chromedriver')\n"
          ]
        },
        {
          "data": {
            "text/html": [
              "<div>\n",
              "<style scoped>\n",
              "    .dataframe tbody tr th:only-of-type {\n",
              "        vertical-align: middle;\n",
              "    }\n",
              "\n",
              "    .dataframe tbody tr th {\n",
              "        vertical-align: top;\n",
              "    }\n",
              "\n",
              "    .dataframe thead th {\n",
              "        text-align: right;\n",
              "    }\n",
              "</style>\n",
              "<table border=\"1\" class=\"dataframe\">\n",
              "  <thead>\n",
              "    <tr style=\"text-align: right;\">\n",
              "      <th></th>\n",
              "      <th>Title</th>\n",
              "      <th>Author</th>\n",
              "      <th>Price</th>\n",
              "      <th>Image</th>\n",
              "      <th>Link</th>\n",
              "    </tr>\n",
              "  </thead>\n",
              "  <tbody>\n",
              "    <tr>\n",
              "      <th>0</th>\n",
              "      <td>Keamanan Basis Data Relasional</td>\n",
              "      <td>SUWANTO RAHARJO &amp; EMA UTAMI</td>\n",
              "      <td>Rp 67.150</td>\n",
              "      <td>https://cdn.gramedia.com/uploads/items/Keamana...</td>\n",
              "      <td>https://www.gramedia.com/products/keamanan-bas...</td>\n",
              "    </tr>\n",
              "    <tr>\n",
              "      <th>1</th>\n",
              "      <td>Manusia dalam Kemelut Sejarah</td>\n",
              "      <td>Taufik Abdullah, Aswab Mahasin, Daniel Dhakidae</td>\n",
              "      <td>Rp 59.500</td>\n",
              "      <td>https://cdn.gramedia.com/uploads/items/MANUSIA...</td>\n",
              "      <td>https://www.gramedia.com/products/manusia-dala...</td>\n",
              "    </tr>\n",
              "    <tr>\n",
              "      <th>2</th>\n",
              "      <td>Sejarah Berhala dan Jejak Risalah</td>\n",
              "      <td>Wisnu Tanggap Prabowo</td>\n",
              "      <td>Rp 72.250</td>\n",
              "      <td>https://cdn.gramedia.com/uploads/items/Sejarah...</td>\n",
              "      <td>https://www.gramedia.com/products/sejarah-berh...</td>\n",
              "    </tr>\n",
              "    <tr>\n",
              "      <th>3</th>\n",
              "      <td>Raja Namrud: Diktator Pertama di Muka Bumi</td>\n",
              "      <td>Manshur Abdul Hakim</td>\n",
              "      <td>Rp 55.250</td>\n",
              "      <td>https://cdn.gramedia.com/uploads/items/Raja_Na...</td>\n",
              "      <td>https://www.gramedia.com/products/raja-namrud-...</td>\n",
              "    </tr>\n",
              "    <tr>\n",
              "      <th>4</th>\n",
              "      <td>Sentuhan Al-Qur`an</td>\n",
              "      <td>Adham Syarqawi</td>\n",
              "      <td>Rp 76.500</td>\n",
              "      <td>https://cdn.gramedia.com/uploads/items/Sentuha...</td>\n",
              "      <td>https://www.gramedia.com/products/sentuhan-al-...</td>\n",
              "    </tr>\n",
              "    <tr>\n",
              "      <th>...</th>\n",
              "      <td>...</td>\n",
              "      <td>...</td>\n",
              "      <td>...</td>\n",
              "      <td>...</td>\n",
              "      <td>...</td>\n",
              "    </tr>\n",
              "    <tr>\n",
              "      <th>375</th>\n",
              "      <td>Buku Referensi  Program  Keluarga  Berencana  ...</td>\n",
              "      <td>DR. Ai Yeyeh Rukiyah,  S.SiT. dkk  Dr. Ai Yey...</td>\n",
              "      <td>Rp 59.000</td>\n",
              "      <td>/assets/default-images/product.png</td>\n",
              "      <td>https://www.gramedia.com/products/buku-referen...</td>\n",
              "    </tr>\n",
              "    <tr>\n",
              "      <th>376</th>\n",
              "      <td>Hukum Keperawatan (Sebuah Paradigma Kebebasan ...</td>\n",
              "      <td>Aris Prio Agus Santoso, A.Md.Kep, SH., MH.Kes...</td>\n",
              "      <td>Rp 89.000</td>\n",
              "      <td>/assets/default-images/product.png</td>\n",
              "      <td>https://www.gramedia.com/products/hukum-kepera...</td>\n",
              "    </tr>\n",
              "    <tr>\n",
              "      <th>377</th>\n",
              "      <td>Anatomi dan Fisiologi untuk Mahasiswa Keperawatan</td>\n",
              "      <td>Ns. Tarwoto, S.Kep  Tarwoto</td>\n",
              "      <td>Rp 89.000</td>\n",
              "      <td>/assets/default-images/product.png</td>\n",
              "      <td>https://www.gramedia.com/products/anatomi-dan-...</td>\n",
              "    </tr>\n",
              "    <tr>\n",
              "      <th>378</th>\n",
              "      <td>Disleksia - Perkembangan Di Indonesia</td>\n",
              "      <td>Harwintha Y. Anjarningsih</td>\n",
              "      <td>Rp 45.000</td>\n",
              "      <td>/assets/default-images/product.png</td>\n",
              "      <td>https://www.gramedia.com/products/disleksia-pe...</td>\n",
              "    </tr>\n",
              "    <tr>\n",
              "      <th>379</th>\n",
              "      <td>Buku Ajar Panduan Lengkap Imunisasi</td>\n",
              "      <td>MARLIANA RAHMA  Marliana Rahma, SST., M.Keb.,...</td>\n",
              "      <td>Rp 45.000</td>\n",
              "      <td>/assets/default-images/product.png</td>\n",
              "      <td>https://www.gramedia.com/products/buku-ajar-pa...</td>\n",
              "    </tr>\n",
              "  </tbody>\n",
              "</table>\n",
              "<p>380 rows × 5 columns</p>\n",
              "</div>"
            ],
            "text/plain": [
              "                                                 Title  \\\n",
              "0                       Keamanan Basis Data Relasional   \n",
              "1                        Manusia dalam Kemelut Sejarah   \n",
              "2                    Sejarah Berhala dan Jejak Risalah   \n",
              "3           Raja Namrud: Diktator Pertama di Muka Bumi   \n",
              "4                                   Sentuhan Al-Qur`an   \n",
              "..                                                 ...   \n",
              "375  Buku Referensi  Program  Keluarga  Berencana  ...   \n",
              "376  Hukum Keperawatan (Sebuah Paradigma Kebebasan ...   \n",
              "377  Anatomi dan Fisiologi untuk Mahasiswa Keperawatan   \n",
              "378              Disleksia - Perkembangan Di Indonesia   \n",
              "379                Buku Ajar Panduan Lengkap Imunisasi   \n",
              "\n",
              "                                                Author      Price  \\\n",
              "0                         SUWANTO RAHARJO & EMA UTAMI   Rp 67.150   \n",
              "1     Taufik Abdullah, Aswab Mahasin, Daniel Dhakidae   Rp 59.500   \n",
              "2                               Wisnu Tanggap Prabowo   Rp 72.250   \n",
              "3                                 Manshur Abdul Hakim   Rp 55.250   \n",
              "4                                      Adham Syarqawi   Rp 76.500   \n",
              "..                                                 ...        ...   \n",
              "375   DR. Ai Yeyeh Rukiyah,  S.SiT. dkk  Dr. Ai Yey...  Rp 59.000   \n",
              "376   Aris Prio Agus Santoso, A.Md.Kep, SH., MH.Kes...  Rp 89.000   \n",
              "377                       Ns. Tarwoto, S.Kep  Tarwoto   Rp 89.000   \n",
              "378                         Harwintha Y. Anjarningsih   Rp 45.000   \n",
              "379   MARLIANA RAHMA  Marliana Rahma, SST., M.Keb.,...  Rp 45.000   \n",
              "\n",
              "                                                 Image  \\\n",
              "0    https://cdn.gramedia.com/uploads/items/Keamana...   \n",
              "1    https://cdn.gramedia.com/uploads/items/MANUSIA...   \n",
              "2    https://cdn.gramedia.com/uploads/items/Sejarah...   \n",
              "3    https://cdn.gramedia.com/uploads/items/Raja_Na...   \n",
              "4    https://cdn.gramedia.com/uploads/items/Sentuha...   \n",
              "..                                                 ...   \n",
              "375                 /assets/default-images/product.png   \n",
              "376                 /assets/default-images/product.png   \n",
              "377                 /assets/default-images/product.png   \n",
              "378                 /assets/default-images/product.png   \n",
              "379                 /assets/default-images/product.png   \n",
              "\n",
              "                                                  Link  \n",
              "0    https://www.gramedia.com/products/keamanan-bas...  \n",
              "1    https://www.gramedia.com/products/manusia-dala...  \n",
              "2    https://www.gramedia.com/products/sejarah-berh...  \n",
              "3    https://www.gramedia.com/products/raja-namrud-...  \n",
              "4    https://www.gramedia.com/products/sentuhan-al-...  \n",
              "..                                                 ...  \n",
              "375  https://www.gramedia.com/products/buku-referen...  \n",
              "376  https://www.gramedia.com/products/hukum-kepera...  \n",
              "377  https://www.gramedia.com/products/anatomi-dan-...  \n",
              "378  https://www.gramedia.com/products/disleksia-pe...  \n",
              "379  https://www.gramedia.com/products/buku-ajar-pa...  \n",
              "\n",
              "[380 rows x 5 columns]"
            ]
          },
          "execution_count": 10,
          "metadata": {},
          "output_type": "execute_result"
        }
      ],
      "source": [
        "title = []\n",
        "author = []\n",
        "price = []\n",
        "image = []\n",
        "Links = []\n",
        "\n",
        "driver = webdriver.Chrome('Web Scraping/chromedriver')\n",
        "\n",
        "for i in range(1,21):\n",
        "    url=\"https://www.gramedia.com/categories/buku?page={}\".format(i)\n",
        "    driver.get(url)\n",
        "    html = driver.page_source\n",
        "    soup = BeautifulSoup(html, \"html.parser\")\n",
        "\n",
        "    title += [ title.get_text() for title in soup.find_all( 'div', {\"class\":\"list-title\"} ) ]\n",
        "    author += [ author.get_text() for author in soup.find_all( 'p', {\"class\":\"div-author\"} ) ]\n",
        "    price += [ price.get_text() for price in soup.find_all( 'p', {\"class\":\"formats-price\"} ) ]\n",
        "    image += [ img['src'] for img in soup.find_all( 'img',{\"class\":\"product-list-img\"} ) ]\n",
        "\n",
        "    links = []\n",
        "    for tag in soup.find_all( 'div',{\"_ngcontent-web-gramedia-c26\":\"\",\"class\":\"ng-star-inserted\"} ):\n",
        "        try:\n",
        "            links.append(\"https://www.gramedia.com\"+tag.find_all('a',{\"_ngcontent-web-gramedia-c26\":\"\"})[0]['href'])\n",
        "        except:\n",
        "            pass\n",
        "    Links += links\n",
        "\n",
        "data_multipage = pd.DataFrame()\n",
        "data_multipage['Title'] = title\n",
        "data_multipage['Author'] = author\n",
        "data_multipage['Price'] = price\n",
        "data_multipage['Image'] = image\n",
        "data_multipage['Link'] = Links\n",
        "\n",
        "data_multipage"
      ]
    },
    {
      "cell_type": "markdown",
      "metadata": {
        "id": "HuM6952RWF1x"
      },
      "source": [
        "## Accessing Individual Page\n",
        "\n",
        "<img src=\"https://i.ibb.co/F8D5bCy/message-Image-1637134633305.jpg\"></img>\n",
        "\n",
        "Suppose that we want to get more detail information about the books, but the information are on the individual page. So, we will access the individual page and scrape some information on it. We will catch title, author, price, description, number of pages, date of issue and publisher."
      ]
    },
    {
      "cell_type": "code",
      "execution_count": 11,
      "metadata": {
        "id": "vOQe7bEeWF1z",
        "outputId": "1393a8f7-4cd9-4172-9962-ef9a6ccdb74a"
      },
      "outputs": [
        {
          "name": "stderr",
          "output_type": "stream",
          "text": [
            "C:\\Users\\wahyu\\AppData\\Local\\Temp\\ipykernel_11896\\1562797886.py:9: DeprecationWarning: executable_path has been deprecated, please pass in a Service object\n",
            "  driver = webdriver.Chrome('Web Scraping/chromedriver')\n"
          ]
        },
        {
          "ename": "ValueError",
          "evalue": "Length of values (14) does not match length of index (20)",
          "output_type": "error",
          "traceback": [
            "\u001b[1;31m---------------------------------------------------------------------------\u001b[0m",
            "\u001b[1;31mValueError\u001b[0m                                Traceback (most recent call last)",
            "\u001b[1;32mc:\\Users\\wahyu\\data_science\\learning_journal\\phase_0\\week_3\\d5pm WEB scraping.ipynb Cell 22'\u001b[0m in \u001b[0;36m<cell line: 37>\u001b[1;34m()\u001b[0m\n\u001b[0;32m     <a href='vscode-notebook-cell:/c%3A/Users/wahyu/data_science/learning_journal/phase_0/week_3/d5pm%20WEB%20scraping.ipynb#ch0000021?line=34'>35</a>\u001b[0m pages \u001b[39m=\u001b[39m pd\u001b[39m.\u001b[39mDataFrame()\n\u001b[0;32m     <a href='vscode-notebook-cell:/c%3A/Users/wahyu/data_science/learning_journal/phase_0/week_3/d5pm%20WEB%20scraping.ipynb#ch0000021?line=35'>36</a>\u001b[0m pages[\u001b[39m'\u001b[39m\u001b[39mTitle\u001b[39m\u001b[39m'\u001b[39m] \u001b[39m=\u001b[39m title\n\u001b[1;32m---> <a href='vscode-notebook-cell:/c%3A/Users/wahyu/data_science/learning_journal/phase_0/week_3/d5pm%20WEB%20scraping.ipynb#ch0000021?line=36'>37</a>\u001b[0m pages[\u001b[39m'\u001b[39m\u001b[39mAuthor\u001b[39m\u001b[39m'\u001b[39m] \u001b[39m=\u001b[39m author\n\u001b[0;32m     <a href='vscode-notebook-cell:/c%3A/Users/wahyu/data_science/learning_journal/phase_0/week_3/d5pm%20WEB%20scraping.ipynb#ch0000021?line=37'>38</a>\u001b[0m pages[\u001b[39m'\u001b[39m\u001b[39mPrice\u001b[39m\u001b[39m'\u001b[39m] \u001b[39m=\u001b[39m price\n\u001b[0;32m     <a href='vscode-notebook-cell:/c%3A/Users/wahyu/data_science/learning_journal/phase_0/week_3/d5pm%20WEB%20scraping.ipynb#ch0000021?line=38'>39</a>\u001b[0m pages[\u001b[39m'\u001b[39m\u001b[39mDesc\u001b[39m\u001b[39m'\u001b[39m] \u001b[39m=\u001b[39m desc\n",
            "File \u001b[1;32mc:\\Users\\wahyu\\anaconda3\\lib\\site-packages\\pandas\\core\\frame.py:3655\u001b[0m, in \u001b[0;36mDataFrame.__setitem__\u001b[1;34m(self, key, value)\u001b[0m\n\u001b[0;32m   <a href='file:///c%3A/Users/wahyu/anaconda3/lib/site-packages/pandas/core/frame.py?line=3651'>3652</a>\u001b[0m     \u001b[39mself\u001b[39m\u001b[39m.\u001b[39m_setitem_array([key], value)\n\u001b[0;32m   <a href='file:///c%3A/Users/wahyu/anaconda3/lib/site-packages/pandas/core/frame.py?line=3652'>3653</a>\u001b[0m \u001b[39melse\u001b[39;00m:\n\u001b[0;32m   <a href='file:///c%3A/Users/wahyu/anaconda3/lib/site-packages/pandas/core/frame.py?line=3653'>3654</a>\u001b[0m     \u001b[39m# set column\u001b[39;00m\n\u001b[1;32m-> <a href='file:///c%3A/Users/wahyu/anaconda3/lib/site-packages/pandas/core/frame.py?line=3654'>3655</a>\u001b[0m     \u001b[39mself\u001b[39;49m\u001b[39m.\u001b[39;49m_set_item(key, value)\n",
            "File \u001b[1;32mc:\\Users\\wahyu\\anaconda3\\lib\\site-packages\\pandas\\core\\frame.py:3832\u001b[0m, in \u001b[0;36mDataFrame._set_item\u001b[1;34m(self, key, value)\u001b[0m\n\u001b[0;32m   <a href='file:///c%3A/Users/wahyu/anaconda3/lib/site-packages/pandas/core/frame.py?line=3821'>3822</a>\u001b[0m \u001b[39mdef\u001b[39;00m \u001b[39m_set_item\u001b[39m(\u001b[39mself\u001b[39m, key, value) \u001b[39m-\u001b[39m\u001b[39m>\u001b[39m \u001b[39mNone\u001b[39;00m:\n\u001b[0;32m   <a href='file:///c%3A/Users/wahyu/anaconda3/lib/site-packages/pandas/core/frame.py?line=3822'>3823</a>\u001b[0m     \u001b[39m\"\"\"\u001b[39;00m\n\u001b[0;32m   <a href='file:///c%3A/Users/wahyu/anaconda3/lib/site-packages/pandas/core/frame.py?line=3823'>3824</a>\u001b[0m \u001b[39m    Add series to DataFrame in specified column.\u001b[39;00m\n\u001b[0;32m   <a href='file:///c%3A/Users/wahyu/anaconda3/lib/site-packages/pandas/core/frame.py?line=3824'>3825</a>\u001b[0m \n\u001b[1;32m   (...)\u001b[0m\n\u001b[0;32m   <a href='file:///c%3A/Users/wahyu/anaconda3/lib/site-packages/pandas/core/frame.py?line=3829'>3830</a>\u001b[0m \u001b[39m    ensure homogeneity.\u001b[39;00m\n\u001b[0;32m   <a href='file:///c%3A/Users/wahyu/anaconda3/lib/site-packages/pandas/core/frame.py?line=3830'>3831</a>\u001b[0m \u001b[39m    \"\"\"\u001b[39;00m\n\u001b[1;32m-> <a href='file:///c%3A/Users/wahyu/anaconda3/lib/site-packages/pandas/core/frame.py?line=3831'>3832</a>\u001b[0m     value \u001b[39m=\u001b[39m \u001b[39mself\u001b[39;49m\u001b[39m.\u001b[39;49m_sanitize_column(value)\n\u001b[0;32m   <a href='file:///c%3A/Users/wahyu/anaconda3/lib/site-packages/pandas/core/frame.py?line=3833'>3834</a>\u001b[0m     \u001b[39mif\u001b[39;00m (\n\u001b[0;32m   <a href='file:///c%3A/Users/wahyu/anaconda3/lib/site-packages/pandas/core/frame.py?line=3834'>3835</a>\u001b[0m         key \u001b[39min\u001b[39;00m \u001b[39mself\u001b[39m\u001b[39m.\u001b[39mcolumns\n\u001b[0;32m   <a href='file:///c%3A/Users/wahyu/anaconda3/lib/site-packages/pandas/core/frame.py?line=3835'>3836</a>\u001b[0m         \u001b[39mand\u001b[39;00m value\u001b[39m.\u001b[39mndim \u001b[39m==\u001b[39m \u001b[39m1\u001b[39m\n\u001b[0;32m   <a href='file:///c%3A/Users/wahyu/anaconda3/lib/site-packages/pandas/core/frame.py?line=3836'>3837</a>\u001b[0m         \u001b[39mand\u001b[39;00m \u001b[39mnot\u001b[39;00m is_extension_array_dtype(value)\n\u001b[0;32m   <a href='file:///c%3A/Users/wahyu/anaconda3/lib/site-packages/pandas/core/frame.py?line=3837'>3838</a>\u001b[0m     ):\n\u001b[0;32m   <a href='file:///c%3A/Users/wahyu/anaconda3/lib/site-packages/pandas/core/frame.py?line=3838'>3839</a>\u001b[0m         \u001b[39m# broadcast across multiple columns if necessary\u001b[39;00m\n\u001b[0;32m   <a href='file:///c%3A/Users/wahyu/anaconda3/lib/site-packages/pandas/core/frame.py?line=3839'>3840</a>\u001b[0m         \u001b[39mif\u001b[39;00m \u001b[39mnot\u001b[39;00m \u001b[39mself\u001b[39m\u001b[39m.\u001b[39mcolumns\u001b[39m.\u001b[39mis_unique \u001b[39mor\u001b[39;00m \u001b[39misinstance\u001b[39m(\u001b[39mself\u001b[39m\u001b[39m.\u001b[39mcolumns, MultiIndex):\n",
            "File \u001b[1;32mc:\\Users\\wahyu\\anaconda3\\lib\\site-packages\\pandas\\core\\frame.py:4535\u001b[0m, in \u001b[0;36mDataFrame._sanitize_column\u001b[1;34m(self, value)\u001b[0m\n\u001b[0;32m   <a href='file:///c%3A/Users/wahyu/anaconda3/lib/site-packages/pandas/core/frame.py?line=4531'>4532</a>\u001b[0m     \u001b[39mreturn\u001b[39;00m _reindex_for_setitem(value, \u001b[39mself\u001b[39m\u001b[39m.\u001b[39mindex)\n\u001b[0;32m   <a href='file:///c%3A/Users/wahyu/anaconda3/lib/site-packages/pandas/core/frame.py?line=4533'>4534</a>\u001b[0m \u001b[39mif\u001b[39;00m is_list_like(value):\n\u001b[1;32m-> <a href='file:///c%3A/Users/wahyu/anaconda3/lib/site-packages/pandas/core/frame.py?line=4534'>4535</a>\u001b[0m     com\u001b[39m.\u001b[39;49mrequire_length_match(value, \u001b[39mself\u001b[39;49m\u001b[39m.\u001b[39;49mindex)\n\u001b[0;32m   <a href='file:///c%3A/Users/wahyu/anaconda3/lib/site-packages/pandas/core/frame.py?line=4535'>4536</a>\u001b[0m \u001b[39mreturn\u001b[39;00m sanitize_array(value, \u001b[39mself\u001b[39m\u001b[39m.\u001b[39mindex, copy\u001b[39m=\u001b[39m\u001b[39mTrue\u001b[39;00m, allow_2d\u001b[39m=\u001b[39m\u001b[39mTrue\u001b[39;00m)\n",
            "File \u001b[1;32mc:\\Users\\wahyu\\anaconda3\\lib\\site-packages\\pandas\\core\\common.py:557\u001b[0m, in \u001b[0;36mrequire_length_match\u001b[1;34m(data, index)\u001b[0m\n\u001b[0;32m    <a href='file:///c%3A/Users/wahyu/anaconda3/lib/site-packages/pandas/core/common.py?line=552'>553</a>\u001b[0m \u001b[39m\"\"\"\u001b[39;00m\n\u001b[0;32m    <a href='file:///c%3A/Users/wahyu/anaconda3/lib/site-packages/pandas/core/common.py?line=553'>554</a>\u001b[0m \u001b[39mCheck the length of data matches the length of the index.\u001b[39;00m\n\u001b[0;32m    <a href='file:///c%3A/Users/wahyu/anaconda3/lib/site-packages/pandas/core/common.py?line=554'>555</a>\u001b[0m \u001b[39m\"\"\"\u001b[39;00m\n\u001b[0;32m    <a href='file:///c%3A/Users/wahyu/anaconda3/lib/site-packages/pandas/core/common.py?line=555'>556</a>\u001b[0m \u001b[39mif\u001b[39;00m \u001b[39mlen\u001b[39m(data) \u001b[39m!=\u001b[39m \u001b[39mlen\u001b[39m(index):\n\u001b[1;32m--> <a href='file:///c%3A/Users/wahyu/anaconda3/lib/site-packages/pandas/core/common.py?line=556'>557</a>\u001b[0m     \u001b[39mraise\u001b[39;00m \u001b[39mValueError\u001b[39;00m(\n\u001b[0;32m    <a href='file:///c%3A/Users/wahyu/anaconda3/lib/site-packages/pandas/core/common.py?line=557'>558</a>\u001b[0m         \u001b[39m\"\u001b[39m\u001b[39mLength of values \u001b[39m\u001b[39m\"\u001b[39m\n\u001b[0;32m    <a href='file:///c%3A/Users/wahyu/anaconda3/lib/site-packages/pandas/core/common.py?line=558'>559</a>\u001b[0m         \u001b[39mf\u001b[39m\u001b[39m\"\u001b[39m\u001b[39m(\u001b[39m\u001b[39m{\u001b[39;00m\u001b[39mlen\u001b[39m(data)\u001b[39m}\u001b[39;00m\u001b[39m) \u001b[39m\u001b[39m\"\u001b[39m\n\u001b[0;32m    <a href='file:///c%3A/Users/wahyu/anaconda3/lib/site-packages/pandas/core/common.py?line=559'>560</a>\u001b[0m         \u001b[39m\"\u001b[39m\u001b[39mdoes not match length of index \u001b[39m\u001b[39m\"\u001b[39m\n\u001b[0;32m    <a href='file:///c%3A/Users/wahyu/anaconda3/lib/site-packages/pandas/core/common.py?line=560'>561</a>\u001b[0m         \u001b[39mf\u001b[39m\u001b[39m\"\u001b[39m\u001b[39m(\u001b[39m\u001b[39m{\u001b[39;00m\u001b[39mlen\u001b[39m(index)\u001b[39m}\u001b[39;00m\u001b[39m)\u001b[39m\u001b[39m\"\u001b[39m\n\u001b[0;32m    <a href='file:///c%3A/Users/wahyu/anaconda3/lib/site-packages/pandas/core/common.py?line=561'>562</a>\u001b[0m     )\n",
            "\u001b[1;31mValueError\u001b[0m: Length of values (14) does not match length of index (20)"
          ]
        }
      ],
      "source": [
        "title = []\n",
        "author = []\n",
        "price = []\n",
        "desc = []\n",
        "num_pages = []\n",
        "date_issue = []\n",
        "publisher = []\n",
        "\n",
        "driver = webdriver.Chrome('Web Scraping/chromedriver')\n",
        "\n",
        "for i in range(1,3):\n",
        "    url=\"https://www.gramedia.com/categories/buku?page={}\".format(i)\n",
        "    driver.get(url)\n",
        "    html = driver.page_source\n",
        "    soup = BeautifulSoup(html, \"html.parser\")\n",
        "\n",
        "    for tag in soup.find_all( 'div',{\"_ngcontent-web-gramedia-c26\":\"\",\"class\":\"ng-star-inserted\"} ):\n",
        "        try:\n",
        "            link = \"https://www.gramedia.com\"+tag.find('a',{\"_ngcontent-web-gramedia-c26\":\"\"})['href']\n",
        "            driver.get(link)\n",
        "            html_ind = driver.page_source\n",
        "            soup_ind = BeautifulSoup(html_ind, \"html.parser\")\n",
        "\n",
        "            title.append( soup_ind.find( 'div', {\"class\":\"book-title\"} ).get_text() )\n",
        "            author.append( soup_ind.find('span',{\"class\":\"title-author\"}).get_text() )\n",
        "            price.append( soup_ind.find('div', {'class':'price-product'}).get_text() )\n",
        "            desc.append( soup_ind.find('pre').get_text() )\n",
        "            num_pages.append( soup_ind.find('div',{'class':'detail-section'}).find_all('p')[0].get_text() )\n",
        "            date_issue.append( soup_ind.find('div',{'class':'detail-section'}).find_all('p')[2].get_text() )\n",
        "            publisher.append( soup_ind.find('div',{'class':'detail-section'}).find_all('p')[1].get_text() )\n",
        "\n",
        "        except:\n",
        "            pass\n",
        "\n",
        "pages = pd.DataFrame()\n",
        "pages['Title'] = title\n",
        "pages['Author'] = author\n",
        "pages['Price'] = price\n",
        "pages['Desc'] = desc\n",
        "pages['Num Pages'] = num_pages\n",
        "pages['Date Issue'] = date_issue\n",
        "pages['Publisher'] = publisher\n",
        "\n",
        "pages"
      ]
    },
    {
      "cell_type": "code",
      "execution_count": null,
      "metadata": {},
      "outputs": [
        {
          "ename": "",
          "evalue": "",
          "output_type": "error",
          "traceback": [
            "\u001b[1;31mFailed to start the Kernel. \n",
            "Unable to start Kernel 'base (Python 3.9.12)' due to connection timeout. \n",
            "View Jupyter <a href='command:jupyter.viewOutput'>log</a> for further details."
          ]
        }
      ],
      "source": [
        "from bs4 import BeautifulSoup"
      ]
    },
    {
      "cell_type": "code",
      "execution_count": null,
      "metadata": {},
      "outputs": [
        {
          "ename": "",
          "evalue": "",
          "output_type": "error",
          "traceback": [
            "\u001b[1;31mFailed to start the Kernel. \n",
            "Unable to start Kernel 'base (Python 3.9.12)' due to connection timeout. \n",
            "View Jupyter <a href='command:jupyter.viewOutput'>log</a> for further details."
          ]
        }
      ],
      "source": [
        "import pandas as pd"
      ]
    },
    {
      "cell_type": "code",
      "execution_count": 14,
      "metadata": {},
      "outputs": [],
      "source": [
        "respons=requests.get('https://news.ycombinator.com/').text\n",
        "soup=BeautifulSoup(respons, 'lxml')\n",
        "#title=soup.find_all('a',class='score')\n",
        "#data1=pd.DataFrame()\n",
        "#data2=pd.DataFrame()\n",
        "#data3=pd.DataFrame()\n",
        "#title=soup.find_all('a', class='titlelink').text\n",
        "data1['title']=[title.text for title in soup.find_all('a',class_='titlelink')]"
      ]
    }
  ],
  "metadata": {
    "colab": {
      "collapsed_sections": [],
      "name": "d1pm.ipynb",
      "provenance": []
    },
    "interpreter": {
      "hash": "9048cbf2aa5c5605910089358556f0bf71534cc3a4ea7c995cde1c5f16d23cd7"
    },
    "kernelspec": {
      "display_name": "Python 3.9.12 ('base')",
      "language": "python",
      "name": "python3"
    },
    "language_info": {
      "codemirror_mode": {
        "name": "ipython",
        "version": 3
      },
      "file_extension": ".py",
      "mimetype": "text/x-python",
      "name": "python",
      "nbconvert_exporter": "python",
      "pygments_lexer": "ipython3",
      "version": "3.9.12"
    }
  },
  "nbformat": 4,
  "nbformat_minor": 0
}
