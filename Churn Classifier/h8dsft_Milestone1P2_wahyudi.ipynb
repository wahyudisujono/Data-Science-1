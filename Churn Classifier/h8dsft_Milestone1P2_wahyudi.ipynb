{
  "cells": [
    {
      "cell_type": "markdown",
      "metadata": {
        "id": "WDRqAIgpeKBg"
      },
      "source": [
        "# Perkenalan\n",
        "\n",
        "Nama : Wahyudi\n",
        "\n",
        "Batch : FTDS 12\n",
        "\n",
        "Dataset : Telco Customer Churn\n",
        "\n",
        "Objective : Membuat model yang dapat digunakan untuk melakukan prediksi/klasifikasi apakah pelanggan churn atau tidak.\n"
      ]
    },
    {
      "cell_type": "markdown",
      "metadata": {
        "id": "kdJT-Jc8eKBq"
      },
      "source": [
        "# Import Library"
      ]
    },
    {
      "cell_type": "code",
      "execution_count": 1,
      "metadata": {
        "id": "zdd7tXxYeKBr"
      },
      "outputs": [],
      "source": [
        "# Import Libraries\n",
        "import pandas as pd\n",
        "import numpy as np\n",
        "import wahyu_lib\n",
        "import tensorflow as tf\n",
        "\n",
        "import seaborn as sns\n",
        "import matplotlib.pyplot as plt\n",
        "\n",
        "\n",
        "from sklearn.preprocessing import StandardScaler\n",
        "from sklearn.preprocessing import OrdinalEncoder\n",
        "from sklearn.compose import ColumnTransformer\n",
        "from sklearn.preprocessing import LabelEncoder\n",
        "from sklearn.ensemble import RandomForestClassifier\n",
        "from imblearn.over_sampling import SMOTENC\n",
        "\n",
        "from sklearn.metrics import classification_report\n"
      ]
    },
    {
      "cell_type": "markdown",
      "metadata": {
        "id": "8jMCBTJQeKBt"
      },
      "source": [
        "# Data Loading"
      ]
    },
    {
      "cell_type": "code",
      "execution_count": 2,
      "metadata": {
        "colab": {
          "base_uri": "https://localhost:8080/",
          "height": 661
        },
        "id": "Et-5CdRpeKBu",
        "outputId": "5d3da2bb-2e64-46cb-92b2-1fe595511dc6"
      },
      "outputs": [
        {
          "data": {
            "text/html": [
              "<div>\n",
              "<style scoped>\n",
              "    .dataframe tbody tr th:only-of-type {\n",
              "        vertical-align: middle;\n",
              "    }\n",
              "\n",
              "    .dataframe tbody tr th {\n",
              "        vertical-align: top;\n",
              "    }\n",
              "\n",
              "    .dataframe thead th {\n",
              "        text-align: right;\n",
              "    }\n",
              "</style>\n",
              "<table border=\"1\" class=\"dataframe\">\n",
              "  <thead>\n",
              "    <tr style=\"text-align: right;\">\n",
              "      <th></th>\n",
              "      <th>customerID</th>\n",
              "      <th>gender</th>\n",
              "      <th>SeniorCitizen</th>\n",
              "      <th>Partner</th>\n",
              "      <th>Dependents</th>\n",
              "      <th>tenure</th>\n",
              "      <th>PhoneService</th>\n",
              "      <th>MultipleLines</th>\n",
              "      <th>InternetService</th>\n",
              "      <th>OnlineSecurity</th>\n",
              "      <th>...</th>\n",
              "      <th>DeviceProtection</th>\n",
              "      <th>TechSupport</th>\n",
              "      <th>StreamingTV</th>\n",
              "      <th>StreamingMovies</th>\n",
              "      <th>Contract</th>\n",
              "      <th>PaperlessBilling</th>\n",
              "      <th>PaymentMethod</th>\n",
              "      <th>MonthlyCharges</th>\n",
              "      <th>TotalCharges</th>\n",
              "      <th>Churn</th>\n",
              "    </tr>\n",
              "  </thead>\n",
              "  <tbody>\n",
              "    <tr>\n",
              "      <th>0</th>\n",
              "      <td>7590-VHVEG</td>\n",
              "      <td>Female</td>\n",
              "      <td>0</td>\n",
              "      <td>Yes</td>\n",
              "      <td>No</td>\n",
              "      <td>1</td>\n",
              "      <td>No</td>\n",
              "      <td>No phone service</td>\n",
              "      <td>DSL</td>\n",
              "      <td>No</td>\n",
              "      <td>...</td>\n",
              "      <td>No</td>\n",
              "      <td>No</td>\n",
              "      <td>No</td>\n",
              "      <td>No</td>\n",
              "      <td>Month-to-month</td>\n",
              "      <td>Yes</td>\n",
              "      <td>Electronic check</td>\n",
              "      <td>29.85</td>\n",
              "      <td>29.85</td>\n",
              "      <td>No</td>\n",
              "    </tr>\n",
              "    <tr>\n",
              "      <th>1</th>\n",
              "      <td>5575-GNVDE</td>\n",
              "      <td>Male</td>\n",
              "      <td>0</td>\n",
              "      <td>No</td>\n",
              "      <td>No</td>\n",
              "      <td>34</td>\n",
              "      <td>Yes</td>\n",
              "      <td>No</td>\n",
              "      <td>DSL</td>\n",
              "      <td>Yes</td>\n",
              "      <td>...</td>\n",
              "      <td>Yes</td>\n",
              "      <td>No</td>\n",
              "      <td>No</td>\n",
              "      <td>No</td>\n",
              "      <td>One year</td>\n",
              "      <td>No</td>\n",
              "      <td>Mailed check</td>\n",
              "      <td>56.95</td>\n",
              "      <td>1889.5</td>\n",
              "      <td>No</td>\n",
              "    </tr>\n",
              "    <tr>\n",
              "      <th>2</th>\n",
              "      <td>3668-QPYBK</td>\n",
              "      <td>Male</td>\n",
              "      <td>0</td>\n",
              "      <td>No</td>\n",
              "      <td>No</td>\n",
              "      <td>2</td>\n",
              "      <td>Yes</td>\n",
              "      <td>No</td>\n",
              "      <td>DSL</td>\n",
              "      <td>Yes</td>\n",
              "      <td>...</td>\n",
              "      <td>No</td>\n",
              "      <td>No</td>\n",
              "      <td>No</td>\n",
              "      <td>No</td>\n",
              "      <td>Month-to-month</td>\n",
              "      <td>Yes</td>\n",
              "      <td>Mailed check</td>\n",
              "      <td>53.85</td>\n",
              "      <td>108.15</td>\n",
              "      <td>Yes</td>\n",
              "    </tr>\n",
              "    <tr>\n",
              "      <th>3</th>\n",
              "      <td>7795-CFOCW</td>\n",
              "      <td>Male</td>\n",
              "      <td>0</td>\n",
              "      <td>No</td>\n",
              "      <td>No</td>\n",
              "      <td>45</td>\n",
              "      <td>No</td>\n",
              "      <td>No phone service</td>\n",
              "      <td>DSL</td>\n",
              "      <td>Yes</td>\n",
              "      <td>...</td>\n",
              "      <td>Yes</td>\n",
              "      <td>Yes</td>\n",
              "      <td>No</td>\n",
              "      <td>No</td>\n",
              "      <td>One year</td>\n",
              "      <td>No</td>\n",
              "      <td>Bank transfer (automatic)</td>\n",
              "      <td>42.30</td>\n",
              "      <td>1840.75</td>\n",
              "      <td>No</td>\n",
              "    </tr>\n",
              "    <tr>\n",
              "      <th>4</th>\n",
              "      <td>9237-HQITU</td>\n",
              "      <td>Female</td>\n",
              "      <td>0</td>\n",
              "      <td>No</td>\n",
              "      <td>No</td>\n",
              "      <td>2</td>\n",
              "      <td>Yes</td>\n",
              "      <td>No</td>\n",
              "      <td>Fiber optic</td>\n",
              "      <td>No</td>\n",
              "      <td>...</td>\n",
              "      <td>No</td>\n",
              "      <td>No</td>\n",
              "      <td>No</td>\n",
              "      <td>No</td>\n",
              "      <td>Month-to-month</td>\n",
              "      <td>Yes</td>\n",
              "      <td>Electronic check</td>\n",
              "      <td>70.70</td>\n",
              "      <td>151.65</td>\n",
              "      <td>Yes</td>\n",
              "    </tr>\n",
              "    <tr>\n",
              "      <th>...</th>\n",
              "      <td>...</td>\n",
              "      <td>...</td>\n",
              "      <td>...</td>\n",
              "      <td>...</td>\n",
              "      <td>...</td>\n",
              "      <td>...</td>\n",
              "      <td>...</td>\n",
              "      <td>...</td>\n",
              "      <td>...</td>\n",
              "      <td>...</td>\n",
              "      <td>...</td>\n",
              "      <td>...</td>\n",
              "      <td>...</td>\n",
              "      <td>...</td>\n",
              "      <td>...</td>\n",
              "      <td>...</td>\n",
              "      <td>...</td>\n",
              "      <td>...</td>\n",
              "      <td>...</td>\n",
              "      <td>...</td>\n",
              "      <td>...</td>\n",
              "    </tr>\n",
              "    <tr>\n",
              "      <th>7038</th>\n",
              "      <td>6840-RESVB</td>\n",
              "      <td>Male</td>\n",
              "      <td>0</td>\n",
              "      <td>Yes</td>\n",
              "      <td>Yes</td>\n",
              "      <td>24</td>\n",
              "      <td>Yes</td>\n",
              "      <td>Yes</td>\n",
              "      <td>DSL</td>\n",
              "      <td>Yes</td>\n",
              "      <td>...</td>\n",
              "      <td>Yes</td>\n",
              "      <td>Yes</td>\n",
              "      <td>Yes</td>\n",
              "      <td>Yes</td>\n",
              "      <td>One year</td>\n",
              "      <td>Yes</td>\n",
              "      <td>Mailed check</td>\n",
              "      <td>84.80</td>\n",
              "      <td>1990.5</td>\n",
              "      <td>No</td>\n",
              "    </tr>\n",
              "    <tr>\n",
              "      <th>7039</th>\n",
              "      <td>2234-XADUH</td>\n",
              "      <td>Female</td>\n",
              "      <td>0</td>\n",
              "      <td>Yes</td>\n",
              "      <td>Yes</td>\n",
              "      <td>72</td>\n",
              "      <td>Yes</td>\n",
              "      <td>Yes</td>\n",
              "      <td>Fiber optic</td>\n",
              "      <td>No</td>\n",
              "      <td>...</td>\n",
              "      <td>Yes</td>\n",
              "      <td>No</td>\n",
              "      <td>Yes</td>\n",
              "      <td>Yes</td>\n",
              "      <td>One year</td>\n",
              "      <td>Yes</td>\n",
              "      <td>Credit card (automatic)</td>\n",
              "      <td>103.20</td>\n",
              "      <td>7362.9</td>\n",
              "      <td>No</td>\n",
              "    </tr>\n",
              "    <tr>\n",
              "      <th>7040</th>\n",
              "      <td>4801-JZAZL</td>\n",
              "      <td>Female</td>\n",
              "      <td>0</td>\n",
              "      <td>Yes</td>\n",
              "      <td>Yes</td>\n",
              "      <td>11</td>\n",
              "      <td>No</td>\n",
              "      <td>No phone service</td>\n",
              "      <td>DSL</td>\n",
              "      <td>Yes</td>\n",
              "      <td>...</td>\n",
              "      <td>No</td>\n",
              "      <td>No</td>\n",
              "      <td>No</td>\n",
              "      <td>No</td>\n",
              "      <td>Month-to-month</td>\n",
              "      <td>Yes</td>\n",
              "      <td>Electronic check</td>\n",
              "      <td>29.60</td>\n",
              "      <td>346.45</td>\n",
              "      <td>No</td>\n",
              "    </tr>\n",
              "    <tr>\n",
              "      <th>7041</th>\n",
              "      <td>8361-LTMKD</td>\n",
              "      <td>Male</td>\n",
              "      <td>1</td>\n",
              "      <td>Yes</td>\n",
              "      <td>No</td>\n",
              "      <td>4</td>\n",
              "      <td>Yes</td>\n",
              "      <td>Yes</td>\n",
              "      <td>Fiber optic</td>\n",
              "      <td>No</td>\n",
              "      <td>...</td>\n",
              "      <td>No</td>\n",
              "      <td>No</td>\n",
              "      <td>No</td>\n",
              "      <td>No</td>\n",
              "      <td>Month-to-month</td>\n",
              "      <td>Yes</td>\n",
              "      <td>Mailed check</td>\n",
              "      <td>74.40</td>\n",
              "      <td>306.6</td>\n",
              "      <td>Yes</td>\n",
              "    </tr>\n",
              "    <tr>\n",
              "      <th>7042</th>\n",
              "      <td>3186-AJIEK</td>\n",
              "      <td>Male</td>\n",
              "      <td>0</td>\n",
              "      <td>No</td>\n",
              "      <td>No</td>\n",
              "      <td>66</td>\n",
              "      <td>Yes</td>\n",
              "      <td>No</td>\n",
              "      <td>Fiber optic</td>\n",
              "      <td>Yes</td>\n",
              "      <td>...</td>\n",
              "      <td>Yes</td>\n",
              "      <td>Yes</td>\n",
              "      <td>Yes</td>\n",
              "      <td>Yes</td>\n",
              "      <td>Two year</td>\n",
              "      <td>Yes</td>\n",
              "      <td>Bank transfer (automatic)</td>\n",
              "      <td>105.65</td>\n",
              "      <td>6844.5</td>\n",
              "      <td>No</td>\n",
              "    </tr>\n",
              "  </tbody>\n",
              "</table>\n",
              "<p>7043 rows × 21 columns</p>\n",
              "</div>"
            ],
            "text/plain": [
              "      customerID  gender  SeniorCitizen Partner Dependents  tenure  \\\n",
              "0     7590-VHVEG  Female              0     Yes         No       1   \n",
              "1     5575-GNVDE    Male              0      No         No      34   \n",
              "2     3668-QPYBK    Male              0      No         No       2   \n",
              "3     7795-CFOCW    Male              0      No         No      45   \n",
              "4     9237-HQITU  Female              0      No         No       2   \n",
              "...          ...     ...            ...     ...        ...     ...   \n",
              "7038  6840-RESVB    Male              0     Yes        Yes      24   \n",
              "7039  2234-XADUH  Female              0     Yes        Yes      72   \n",
              "7040  4801-JZAZL  Female              0     Yes        Yes      11   \n",
              "7041  8361-LTMKD    Male              1     Yes         No       4   \n",
              "7042  3186-AJIEK    Male              0      No         No      66   \n",
              "\n",
              "     PhoneService     MultipleLines InternetService OnlineSecurity  ...  \\\n",
              "0              No  No phone service             DSL             No  ...   \n",
              "1             Yes                No             DSL            Yes  ...   \n",
              "2             Yes                No             DSL            Yes  ...   \n",
              "3              No  No phone service             DSL            Yes  ...   \n",
              "4             Yes                No     Fiber optic             No  ...   \n",
              "...           ...               ...             ...            ...  ...   \n",
              "7038          Yes               Yes             DSL            Yes  ...   \n",
              "7039          Yes               Yes     Fiber optic             No  ...   \n",
              "7040           No  No phone service             DSL            Yes  ...   \n",
              "7041          Yes               Yes     Fiber optic             No  ...   \n",
              "7042          Yes                No     Fiber optic            Yes  ...   \n",
              "\n",
              "     DeviceProtection TechSupport StreamingTV StreamingMovies        Contract  \\\n",
              "0                  No          No          No              No  Month-to-month   \n",
              "1                 Yes          No          No              No        One year   \n",
              "2                  No          No          No              No  Month-to-month   \n",
              "3                 Yes         Yes          No              No        One year   \n",
              "4                  No          No          No              No  Month-to-month   \n",
              "...               ...         ...         ...             ...             ...   \n",
              "7038              Yes         Yes         Yes             Yes        One year   \n",
              "7039              Yes          No         Yes             Yes        One year   \n",
              "7040               No          No          No              No  Month-to-month   \n",
              "7041               No          No          No              No  Month-to-month   \n",
              "7042              Yes         Yes         Yes             Yes        Two year   \n",
              "\n",
              "     PaperlessBilling              PaymentMethod MonthlyCharges  TotalCharges  \\\n",
              "0                 Yes           Electronic check          29.85         29.85   \n",
              "1                  No               Mailed check          56.95        1889.5   \n",
              "2                 Yes               Mailed check          53.85        108.15   \n",
              "3                  No  Bank transfer (automatic)          42.30       1840.75   \n",
              "4                 Yes           Electronic check          70.70        151.65   \n",
              "...               ...                        ...            ...           ...   \n",
              "7038              Yes               Mailed check          84.80        1990.5   \n",
              "7039              Yes    Credit card (automatic)         103.20        7362.9   \n",
              "7040              Yes           Electronic check          29.60        346.45   \n",
              "7041              Yes               Mailed check          74.40         306.6   \n",
              "7042              Yes  Bank transfer (automatic)         105.65        6844.5   \n",
              "\n",
              "     Churn  \n",
              "0       No  \n",
              "1       No  \n",
              "2      Yes  \n",
              "3       No  \n",
              "4      Yes  \n",
              "...    ...  \n",
              "7038    No  \n",
              "7039    No  \n",
              "7040    No  \n",
              "7041   Yes  \n",
              "7042    No  \n",
              "\n",
              "[7043 rows x 21 columns]"
            ]
          },
          "execution_count": 2,
          "metadata": {},
          "output_type": "execute_result"
        }
      ],
      "source": [
        "# data loading\n",
        "data=pd.read_csv('Telco-Customer-Churn.csv')\n",
        "data"
      ]
    },
    {
      "cell_type": "code",
      "execution_count": 3,
      "metadata": {
        "colab": {
          "base_uri": "https://localhost:8080/"
        },
        "id": "snH3fWeyeKBv",
        "outputId": "3ccad071-8fff-48f2-a06a-ba47ece6ee0a"
      },
      "outputs": [
        {
          "name": "stdout",
          "output_type": "stream",
          "text": [
            "<class 'pandas.core.frame.DataFrame'>\n",
            "RangeIndex: 7043 entries, 0 to 7042\n",
            "Data columns (total 21 columns):\n",
            " #   Column            Non-Null Count  Dtype  \n",
            "---  ------            --------------  -----  \n",
            " 0   customerID        7043 non-null   object \n",
            " 1   gender            7043 non-null   object \n",
            " 2   SeniorCitizen     7043 non-null   int64  \n",
            " 3   Partner           7043 non-null   object \n",
            " 4   Dependents        7043 non-null   object \n",
            " 5   tenure            7043 non-null   int64  \n",
            " 6   PhoneService      7043 non-null   object \n",
            " 7   MultipleLines     7043 non-null   object \n",
            " 8   InternetService   7043 non-null   object \n",
            " 9   OnlineSecurity    7043 non-null   object \n",
            " 10  OnlineBackup      7043 non-null   object \n",
            " 11  DeviceProtection  7043 non-null   object \n",
            " 12  TechSupport       7043 non-null   object \n",
            " 13  StreamingTV       7043 non-null   object \n",
            " 14  StreamingMovies   7043 non-null   object \n",
            " 15  Contract          7043 non-null   object \n",
            " 16  PaperlessBilling  7043 non-null   object \n",
            " 17  PaymentMethod     7043 non-null   object \n",
            " 18  MonthlyCharges    7043 non-null   float64\n",
            " 19  TotalCharges      7043 non-null   object \n",
            " 20  Churn             7043 non-null   object \n",
            "dtypes: float64(1), int64(2), object(18)\n",
            "memory usage: 1.1+ MB\n"
          ]
        }
      ],
      "source": [
        "data.info()"
      ]
    },
    {
      "cell_type": "markdown",
      "metadata": {
        "id": "U8gGfGJLeKBw"
      },
      "source": [
        "> Menarik hampir semua kolom bersi data object kecuali `MonthlyCharges`, `SeniorCitizen`, `tenure`. Artinya data pada dataset ini didominasi oleh data kategorikal. Dta kategorikal ini nanti akan kita lakukan encoding agar data dapat di kenali oleh model yang akan kita buat. \n"
      ]
    },
    {
      "cell_type": "markdown",
      "metadata": {
        "id": "eKTpdsUIeKBx"
      },
      "source": [
        "Ada yang aneh pada fitur Total Charge. Seharusnya total charge adalah fitur yang bertipe int atau float, namun diatas kita temukan bahwa fitur tersebut bertipe data object. Kemungkinan ada sisipan data yang merupakan string sehingga semua data terbaca sebagai data object."
      ]
    },
    {
      "cell_type": "code",
      "execution_count": 4,
      "metadata": {
        "colab": {
          "base_uri": "https://localhost:8080/",
          "height": 678
        },
        "id": "6yTZGGdHeKBz",
        "outputId": "a020f211-18bb-47d6-fe45-21551672da4c"
      },
      "outputs": [
        {
          "data": {
            "text/html": [
              "<div>\n",
              "<style scoped>\n",
              "    .dataframe tbody tr th:only-of-type {\n",
              "        vertical-align: middle;\n",
              "    }\n",
              "\n",
              "    .dataframe tbody tr th {\n",
              "        vertical-align: top;\n",
              "    }\n",
              "\n",
              "    .dataframe thead th {\n",
              "        text-align: right;\n",
              "    }\n",
              "</style>\n",
              "<table border=\"1\" class=\"dataframe\">\n",
              "  <thead>\n",
              "    <tr style=\"text-align: right;\">\n",
              "      <th></th>\n",
              "      <th>customerID</th>\n",
              "      <th>gender</th>\n",
              "      <th>SeniorCitizen</th>\n",
              "      <th>Partner</th>\n",
              "      <th>Dependents</th>\n",
              "      <th>tenure</th>\n",
              "      <th>PhoneService</th>\n",
              "      <th>MultipleLines</th>\n",
              "      <th>InternetService</th>\n",
              "      <th>OnlineSecurity</th>\n",
              "      <th>...</th>\n",
              "      <th>DeviceProtection</th>\n",
              "      <th>TechSupport</th>\n",
              "      <th>StreamingTV</th>\n",
              "      <th>StreamingMovies</th>\n",
              "      <th>Contract</th>\n",
              "      <th>PaperlessBilling</th>\n",
              "      <th>PaymentMethod</th>\n",
              "      <th>MonthlyCharges</th>\n",
              "      <th>TotalCharges</th>\n",
              "      <th>Churn</th>\n",
              "    </tr>\n",
              "  </thead>\n",
              "  <tbody>\n",
              "    <tr>\n",
              "      <th>488</th>\n",
              "      <td>4472-LVYGI</td>\n",
              "      <td>Female</td>\n",
              "      <td>0</td>\n",
              "      <td>Yes</td>\n",
              "      <td>Yes</td>\n",
              "      <td>0</td>\n",
              "      <td>No</td>\n",
              "      <td>No phone service</td>\n",
              "      <td>DSL</td>\n",
              "      <td>Yes</td>\n",
              "      <td>...</td>\n",
              "      <td>Yes</td>\n",
              "      <td>Yes</td>\n",
              "      <td>Yes</td>\n",
              "      <td>No</td>\n",
              "      <td>Two year</td>\n",
              "      <td>Yes</td>\n",
              "      <td>Bank transfer (automatic)</td>\n",
              "      <td>52.55</td>\n",
              "      <td></td>\n",
              "      <td>No</td>\n",
              "    </tr>\n",
              "    <tr>\n",
              "      <th>753</th>\n",
              "      <td>3115-CZMZD</td>\n",
              "      <td>Male</td>\n",
              "      <td>0</td>\n",
              "      <td>No</td>\n",
              "      <td>Yes</td>\n",
              "      <td>0</td>\n",
              "      <td>Yes</td>\n",
              "      <td>No</td>\n",
              "      <td>No</td>\n",
              "      <td>No internet service</td>\n",
              "      <td>...</td>\n",
              "      <td>No internet service</td>\n",
              "      <td>No internet service</td>\n",
              "      <td>No internet service</td>\n",
              "      <td>No internet service</td>\n",
              "      <td>Two year</td>\n",
              "      <td>No</td>\n",
              "      <td>Mailed check</td>\n",
              "      <td>20.25</td>\n",
              "      <td></td>\n",
              "      <td>No</td>\n",
              "    </tr>\n",
              "    <tr>\n",
              "      <th>936</th>\n",
              "      <td>5709-LVOEQ</td>\n",
              "      <td>Female</td>\n",
              "      <td>0</td>\n",
              "      <td>Yes</td>\n",
              "      <td>Yes</td>\n",
              "      <td>0</td>\n",
              "      <td>Yes</td>\n",
              "      <td>No</td>\n",
              "      <td>DSL</td>\n",
              "      <td>Yes</td>\n",
              "      <td>...</td>\n",
              "      <td>Yes</td>\n",
              "      <td>No</td>\n",
              "      <td>Yes</td>\n",
              "      <td>Yes</td>\n",
              "      <td>Two year</td>\n",
              "      <td>No</td>\n",
              "      <td>Mailed check</td>\n",
              "      <td>80.85</td>\n",
              "      <td></td>\n",
              "      <td>No</td>\n",
              "    </tr>\n",
              "    <tr>\n",
              "      <th>1082</th>\n",
              "      <td>4367-NUYAO</td>\n",
              "      <td>Male</td>\n",
              "      <td>0</td>\n",
              "      <td>Yes</td>\n",
              "      <td>Yes</td>\n",
              "      <td>0</td>\n",
              "      <td>Yes</td>\n",
              "      <td>Yes</td>\n",
              "      <td>No</td>\n",
              "      <td>No internet service</td>\n",
              "      <td>...</td>\n",
              "      <td>No internet service</td>\n",
              "      <td>No internet service</td>\n",
              "      <td>No internet service</td>\n",
              "      <td>No internet service</td>\n",
              "      <td>Two year</td>\n",
              "      <td>No</td>\n",
              "      <td>Mailed check</td>\n",
              "      <td>25.75</td>\n",
              "      <td></td>\n",
              "      <td>No</td>\n",
              "    </tr>\n",
              "    <tr>\n",
              "      <th>1340</th>\n",
              "      <td>1371-DWPAZ</td>\n",
              "      <td>Female</td>\n",
              "      <td>0</td>\n",
              "      <td>Yes</td>\n",
              "      <td>Yes</td>\n",
              "      <td>0</td>\n",
              "      <td>No</td>\n",
              "      <td>No phone service</td>\n",
              "      <td>DSL</td>\n",
              "      <td>Yes</td>\n",
              "      <td>...</td>\n",
              "      <td>Yes</td>\n",
              "      <td>Yes</td>\n",
              "      <td>Yes</td>\n",
              "      <td>No</td>\n",
              "      <td>Two year</td>\n",
              "      <td>No</td>\n",
              "      <td>Credit card (automatic)</td>\n",
              "      <td>56.05</td>\n",
              "      <td></td>\n",
              "      <td>No</td>\n",
              "    </tr>\n",
              "    <tr>\n",
              "      <th>3331</th>\n",
              "      <td>7644-OMVMY</td>\n",
              "      <td>Male</td>\n",
              "      <td>0</td>\n",
              "      <td>Yes</td>\n",
              "      <td>Yes</td>\n",
              "      <td>0</td>\n",
              "      <td>Yes</td>\n",
              "      <td>No</td>\n",
              "      <td>No</td>\n",
              "      <td>No internet service</td>\n",
              "      <td>...</td>\n",
              "      <td>No internet service</td>\n",
              "      <td>No internet service</td>\n",
              "      <td>No internet service</td>\n",
              "      <td>No internet service</td>\n",
              "      <td>Two year</td>\n",
              "      <td>No</td>\n",
              "      <td>Mailed check</td>\n",
              "      <td>19.85</td>\n",
              "      <td></td>\n",
              "      <td>No</td>\n",
              "    </tr>\n",
              "    <tr>\n",
              "      <th>3826</th>\n",
              "      <td>3213-VVOLG</td>\n",
              "      <td>Male</td>\n",
              "      <td>0</td>\n",
              "      <td>Yes</td>\n",
              "      <td>Yes</td>\n",
              "      <td>0</td>\n",
              "      <td>Yes</td>\n",
              "      <td>Yes</td>\n",
              "      <td>No</td>\n",
              "      <td>No internet service</td>\n",
              "      <td>...</td>\n",
              "      <td>No internet service</td>\n",
              "      <td>No internet service</td>\n",
              "      <td>No internet service</td>\n",
              "      <td>No internet service</td>\n",
              "      <td>Two year</td>\n",
              "      <td>No</td>\n",
              "      <td>Mailed check</td>\n",
              "      <td>25.35</td>\n",
              "      <td></td>\n",
              "      <td>No</td>\n",
              "    </tr>\n",
              "    <tr>\n",
              "      <th>4380</th>\n",
              "      <td>2520-SGTTA</td>\n",
              "      <td>Female</td>\n",
              "      <td>0</td>\n",
              "      <td>Yes</td>\n",
              "      <td>Yes</td>\n",
              "      <td>0</td>\n",
              "      <td>Yes</td>\n",
              "      <td>No</td>\n",
              "      <td>No</td>\n",
              "      <td>No internet service</td>\n",
              "      <td>...</td>\n",
              "      <td>No internet service</td>\n",
              "      <td>No internet service</td>\n",
              "      <td>No internet service</td>\n",
              "      <td>No internet service</td>\n",
              "      <td>Two year</td>\n",
              "      <td>No</td>\n",
              "      <td>Mailed check</td>\n",
              "      <td>20.00</td>\n",
              "      <td></td>\n",
              "      <td>No</td>\n",
              "    </tr>\n",
              "    <tr>\n",
              "      <th>5218</th>\n",
              "      <td>2923-ARZLG</td>\n",
              "      <td>Male</td>\n",
              "      <td>0</td>\n",
              "      <td>Yes</td>\n",
              "      <td>Yes</td>\n",
              "      <td>0</td>\n",
              "      <td>Yes</td>\n",
              "      <td>No</td>\n",
              "      <td>No</td>\n",
              "      <td>No internet service</td>\n",
              "      <td>...</td>\n",
              "      <td>No internet service</td>\n",
              "      <td>No internet service</td>\n",
              "      <td>No internet service</td>\n",
              "      <td>No internet service</td>\n",
              "      <td>One year</td>\n",
              "      <td>Yes</td>\n",
              "      <td>Mailed check</td>\n",
              "      <td>19.70</td>\n",
              "      <td></td>\n",
              "      <td>No</td>\n",
              "    </tr>\n",
              "    <tr>\n",
              "      <th>6670</th>\n",
              "      <td>4075-WKNIU</td>\n",
              "      <td>Female</td>\n",
              "      <td>0</td>\n",
              "      <td>Yes</td>\n",
              "      <td>Yes</td>\n",
              "      <td>0</td>\n",
              "      <td>Yes</td>\n",
              "      <td>Yes</td>\n",
              "      <td>DSL</td>\n",
              "      <td>No</td>\n",
              "      <td>...</td>\n",
              "      <td>Yes</td>\n",
              "      <td>Yes</td>\n",
              "      <td>Yes</td>\n",
              "      <td>No</td>\n",
              "      <td>Two year</td>\n",
              "      <td>No</td>\n",
              "      <td>Mailed check</td>\n",
              "      <td>73.35</td>\n",
              "      <td></td>\n",
              "      <td>No</td>\n",
              "    </tr>\n",
              "    <tr>\n",
              "      <th>6754</th>\n",
              "      <td>2775-SEFEE</td>\n",
              "      <td>Male</td>\n",
              "      <td>0</td>\n",
              "      <td>No</td>\n",
              "      <td>Yes</td>\n",
              "      <td>0</td>\n",
              "      <td>Yes</td>\n",
              "      <td>Yes</td>\n",
              "      <td>DSL</td>\n",
              "      <td>Yes</td>\n",
              "      <td>...</td>\n",
              "      <td>No</td>\n",
              "      <td>Yes</td>\n",
              "      <td>No</td>\n",
              "      <td>No</td>\n",
              "      <td>Two year</td>\n",
              "      <td>Yes</td>\n",
              "      <td>Bank transfer (automatic)</td>\n",
              "      <td>61.90</td>\n",
              "      <td></td>\n",
              "      <td>No</td>\n",
              "    </tr>\n",
              "  </tbody>\n",
              "</table>\n",
              "<p>11 rows × 21 columns</p>\n",
              "</div>"
            ],
            "text/plain": [
              "      customerID  gender  SeniorCitizen Partner Dependents  tenure  \\\n",
              "488   4472-LVYGI  Female              0     Yes        Yes       0   \n",
              "753   3115-CZMZD    Male              0      No        Yes       0   \n",
              "936   5709-LVOEQ  Female              0     Yes        Yes       0   \n",
              "1082  4367-NUYAO    Male              0     Yes        Yes       0   \n",
              "1340  1371-DWPAZ  Female              0     Yes        Yes       0   \n",
              "3331  7644-OMVMY    Male              0     Yes        Yes       0   \n",
              "3826  3213-VVOLG    Male              0     Yes        Yes       0   \n",
              "4380  2520-SGTTA  Female              0     Yes        Yes       0   \n",
              "5218  2923-ARZLG    Male              0     Yes        Yes       0   \n",
              "6670  4075-WKNIU  Female              0     Yes        Yes       0   \n",
              "6754  2775-SEFEE    Male              0      No        Yes       0   \n",
              "\n",
              "     PhoneService     MultipleLines InternetService       OnlineSecurity  ...  \\\n",
              "488            No  No phone service             DSL                  Yes  ...   \n",
              "753           Yes                No              No  No internet service  ...   \n",
              "936           Yes                No             DSL                  Yes  ...   \n",
              "1082          Yes               Yes              No  No internet service  ...   \n",
              "1340           No  No phone service             DSL                  Yes  ...   \n",
              "3331          Yes                No              No  No internet service  ...   \n",
              "3826          Yes               Yes              No  No internet service  ...   \n",
              "4380          Yes                No              No  No internet service  ...   \n",
              "5218          Yes                No              No  No internet service  ...   \n",
              "6670          Yes               Yes             DSL                   No  ...   \n",
              "6754          Yes               Yes             DSL                  Yes  ...   \n",
              "\n",
              "         DeviceProtection          TechSupport          StreamingTV  \\\n",
              "488                   Yes                  Yes                  Yes   \n",
              "753   No internet service  No internet service  No internet service   \n",
              "936                   Yes                   No                  Yes   \n",
              "1082  No internet service  No internet service  No internet service   \n",
              "1340                  Yes                  Yes                  Yes   \n",
              "3331  No internet service  No internet service  No internet service   \n",
              "3826  No internet service  No internet service  No internet service   \n",
              "4380  No internet service  No internet service  No internet service   \n",
              "5218  No internet service  No internet service  No internet service   \n",
              "6670                  Yes                  Yes                  Yes   \n",
              "6754                   No                  Yes                   No   \n",
              "\n",
              "          StreamingMovies  Contract PaperlessBilling  \\\n",
              "488                    No  Two year              Yes   \n",
              "753   No internet service  Two year               No   \n",
              "936                   Yes  Two year               No   \n",
              "1082  No internet service  Two year               No   \n",
              "1340                   No  Two year               No   \n",
              "3331  No internet service  Two year               No   \n",
              "3826  No internet service  Two year               No   \n",
              "4380  No internet service  Two year               No   \n",
              "5218  No internet service  One year              Yes   \n",
              "6670                   No  Two year               No   \n",
              "6754                   No  Two year              Yes   \n",
              "\n",
              "                  PaymentMethod MonthlyCharges  TotalCharges Churn  \n",
              "488   Bank transfer (automatic)          52.55                  No  \n",
              "753                Mailed check          20.25                  No  \n",
              "936                Mailed check          80.85                  No  \n",
              "1082               Mailed check          25.75                  No  \n",
              "1340    Credit card (automatic)          56.05                  No  \n",
              "3331               Mailed check          19.85                  No  \n",
              "3826               Mailed check          25.35                  No  \n",
              "4380               Mailed check          20.00                  No  \n",
              "5218               Mailed check          19.70                  No  \n",
              "6670               Mailed check          73.35                  No  \n",
              "6754  Bank transfer (automatic)          61.90                  No  \n",
              "\n",
              "[11 rows x 21 columns]"
            ]
          },
          "execution_count": 4,
          "metadata": {},
          "output_type": "execute_result"
        }
      ],
      "source": [
        "#cek data yang berisi space ' '\n",
        "data[data.TotalCharges.str.isspace()]"
      ]
    },
    {
      "cell_type": "markdown",
      "metadata": {
        "id": "rwyVcRX6eKB1"
      },
      "source": [
        "Setelah dilakukan pengecekan rupanya terdapat data yang berupa `space` ' '. Selain itu, ditemukan juga bahwa semua data `total charge` yang berisi space adalah pelanggan yang memiliki tenure `0`. Untik memastikannya kembali, saya juga perlu mengecek apakah semua pelanggan yang memiliki tenure `0` adalah pelanggan yang `total charge` nya adalah spasi"
      ]
    },
    {
      "cell_type": "code",
      "execution_count": 5,
      "metadata": {
        "colab": {
          "base_uri": "https://localhost:8080/",
          "height": 678
        },
        "id": "A741qziaeKB1",
        "outputId": "056e325b-8f44-4cf0-a3b1-be1d16c90bf7"
      },
      "outputs": [
        {
          "data": {
            "text/html": [
              "<div>\n",
              "<style scoped>\n",
              "    .dataframe tbody tr th:only-of-type {\n",
              "        vertical-align: middle;\n",
              "    }\n",
              "\n",
              "    .dataframe tbody tr th {\n",
              "        vertical-align: top;\n",
              "    }\n",
              "\n",
              "    .dataframe thead th {\n",
              "        text-align: right;\n",
              "    }\n",
              "</style>\n",
              "<table border=\"1\" class=\"dataframe\">\n",
              "  <thead>\n",
              "    <tr style=\"text-align: right;\">\n",
              "      <th></th>\n",
              "      <th>customerID</th>\n",
              "      <th>gender</th>\n",
              "      <th>SeniorCitizen</th>\n",
              "      <th>Partner</th>\n",
              "      <th>Dependents</th>\n",
              "      <th>tenure</th>\n",
              "      <th>PhoneService</th>\n",
              "      <th>MultipleLines</th>\n",
              "      <th>InternetService</th>\n",
              "      <th>OnlineSecurity</th>\n",
              "      <th>...</th>\n",
              "      <th>DeviceProtection</th>\n",
              "      <th>TechSupport</th>\n",
              "      <th>StreamingTV</th>\n",
              "      <th>StreamingMovies</th>\n",
              "      <th>Contract</th>\n",
              "      <th>PaperlessBilling</th>\n",
              "      <th>PaymentMethod</th>\n",
              "      <th>MonthlyCharges</th>\n",
              "      <th>TotalCharges</th>\n",
              "      <th>Churn</th>\n",
              "    </tr>\n",
              "  </thead>\n",
              "  <tbody>\n",
              "    <tr>\n",
              "      <th>488</th>\n",
              "      <td>4472-LVYGI</td>\n",
              "      <td>Female</td>\n",
              "      <td>0</td>\n",
              "      <td>Yes</td>\n",
              "      <td>Yes</td>\n",
              "      <td>0</td>\n",
              "      <td>No</td>\n",
              "      <td>No phone service</td>\n",
              "      <td>DSL</td>\n",
              "      <td>Yes</td>\n",
              "      <td>...</td>\n",
              "      <td>Yes</td>\n",
              "      <td>Yes</td>\n",
              "      <td>Yes</td>\n",
              "      <td>No</td>\n",
              "      <td>Two year</td>\n",
              "      <td>Yes</td>\n",
              "      <td>Bank transfer (automatic)</td>\n",
              "      <td>52.55</td>\n",
              "      <td></td>\n",
              "      <td>No</td>\n",
              "    </tr>\n",
              "    <tr>\n",
              "      <th>753</th>\n",
              "      <td>3115-CZMZD</td>\n",
              "      <td>Male</td>\n",
              "      <td>0</td>\n",
              "      <td>No</td>\n",
              "      <td>Yes</td>\n",
              "      <td>0</td>\n",
              "      <td>Yes</td>\n",
              "      <td>No</td>\n",
              "      <td>No</td>\n",
              "      <td>No internet service</td>\n",
              "      <td>...</td>\n",
              "      <td>No internet service</td>\n",
              "      <td>No internet service</td>\n",
              "      <td>No internet service</td>\n",
              "      <td>No internet service</td>\n",
              "      <td>Two year</td>\n",
              "      <td>No</td>\n",
              "      <td>Mailed check</td>\n",
              "      <td>20.25</td>\n",
              "      <td></td>\n",
              "      <td>No</td>\n",
              "    </tr>\n",
              "    <tr>\n",
              "      <th>936</th>\n",
              "      <td>5709-LVOEQ</td>\n",
              "      <td>Female</td>\n",
              "      <td>0</td>\n",
              "      <td>Yes</td>\n",
              "      <td>Yes</td>\n",
              "      <td>0</td>\n",
              "      <td>Yes</td>\n",
              "      <td>No</td>\n",
              "      <td>DSL</td>\n",
              "      <td>Yes</td>\n",
              "      <td>...</td>\n",
              "      <td>Yes</td>\n",
              "      <td>No</td>\n",
              "      <td>Yes</td>\n",
              "      <td>Yes</td>\n",
              "      <td>Two year</td>\n",
              "      <td>No</td>\n",
              "      <td>Mailed check</td>\n",
              "      <td>80.85</td>\n",
              "      <td></td>\n",
              "      <td>No</td>\n",
              "    </tr>\n",
              "    <tr>\n",
              "      <th>1082</th>\n",
              "      <td>4367-NUYAO</td>\n",
              "      <td>Male</td>\n",
              "      <td>0</td>\n",
              "      <td>Yes</td>\n",
              "      <td>Yes</td>\n",
              "      <td>0</td>\n",
              "      <td>Yes</td>\n",
              "      <td>Yes</td>\n",
              "      <td>No</td>\n",
              "      <td>No internet service</td>\n",
              "      <td>...</td>\n",
              "      <td>No internet service</td>\n",
              "      <td>No internet service</td>\n",
              "      <td>No internet service</td>\n",
              "      <td>No internet service</td>\n",
              "      <td>Two year</td>\n",
              "      <td>No</td>\n",
              "      <td>Mailed check</td>\n",
              "      <td>25.75</td>\n",
              "      <td></td>\n",
              "      <td>No</td>\n",
              "    </tr>\n",
              "    <tr>\n",
              "      <th>1340</th>\n",
              "      <td>1371-DWPAZ</td>\n",
              "      <td>Female</td>\n",
              "      <td>0</td>\n",
              "      <td>Yes</td>\n",
              "      <td>Yes</td>\n",
              "      <td>0</td>\n",
              "      <td>No</td>\n",
              "      <td>No phone service</td>\n",
              "      <td>DSL</td>\n",
              "      <td>Yes</td>\n",
              "      <td>...</td>\n",
              "      <td>Yes</td>\n",
              "      <td>Yes</td>\n",
              "      <td>Yes</td>\n",
              "      <td>No</td>\n",
              "      <td>Two year</td>\n",
              "      <td>No</td>\n",
              "      <td>Credit card (automatic)</td>\n",
              "      <td>56.05</td>\n",
              "      <td></td>\n",
              "      <td>No</td>\n",
              "    </tr>\n",
              "    <tr>\n",
              "      <th>3331</th>\n",
              "      <td>7644-OMVMY</td>\n",
              "      <td>Male</td>\n",
              "      <td>0</td>\n",
              "      <td>Yes</td>\n",
              "      <td>Yes</td>\n",
              "      <td>0</td>\n",
              "      <td>Yes</td>\n",
              "      <td>No</td>\n",
              "      <td>No</td>\n",
              "      <td>No internet service</td>\n",
              "      <td>...</td>\n",
              "      <td>No internet service</td>\n",
              "      <td>No internet service</td>\n",
              "      <td>No internet service</td>\n",
              "      <td>No internet service</td>\n",
              "      <td>Two year</td>\n",
              "      <td>No</td>\n",
              "      <td>Mailed check</td>\n",
              "      <td>19.85</td>\n",
              "      <td></td>\n",
              "      <td>No</td>\n",
              "    </tr>\n",
              "    <tr>\n",
              "      <th>3826</th>\n",
              "      <td>3213-VVOLG</td>\n",
              "      <td>Male</td>\n",
              "      <td>0</td>\n",
              "      <td>Yes</td>\n",
              "      <td>Yes</td>\n",
              "      <td>0</td>\n",
              "      <td>Yes</td>\n",
              "      <td>Yes</td>\n",
              "      <td>No</td>\n",
              "      <td>No internet service</td>\n",
              "      <td>...</td>\n",
              "      <td>No internet service</td>\n",
              "      <td>No internet service</td>\n",
              "      <td>No internet service</td>\n",
              "      <td>No internet service</td>\n",
              "      <td>Two year</td>\n",
              "      <td>No</td>\n",
              "      <td>Mailed check</td>\n",
              "      <td>25.35</td>\n",
              "      <td></td>\n",
              "      <td>No</td>\n",
              "    </tr>\n",
              "    <tr>\n",
              "      <th>4380</th>\n",
              "      <td>2520-SGTTA</td>\n",
              "      <td>Female</td>\n",
              "      <td>0</td>\n",
              "      <td>Yes</td>\n",
              "      <td>Yes</td>\n",
              "      <td>0</td>\n",
              "      <td>Yes</td>\n",
              "      <td>No</td>\n",
              "      <td>No</td>\n",
              "      <td>No internet service</td>\n",
              "      <td>...</td>\n",
              "      <td>No internet service</td>\n",
              "      <td>No internet service</td>\n",
              "      <td>No internet service</td>\n",
              "      <td>No internet service</td>\n",
              "      <td>Two year</td>\n",
              "      <td>No</td>\n",
              "      <td>Mailed check</td>\n",
              "      <td>20.00</td>\n",
              "      <td></td>\n",
              "      <td>No</td>\n",
              "    </tr>\n",
              "    <tr>\n",
              "      <th>5218</th>\n",
              "      <td>2923-ARZLG</td>\n",
              "      <td>Male</td>\n",
              "      <td>0</td>\n",
              "      <td>Yes</td>\n",
              "      <td>Yes</td>\n",
              "      <td>0</td>\n",
              "      <td>Yes</td>\n",
              "      <td>No</td>\n",
              "      <td>No</td>\n",
              "      <td>No internet service</td>\n",
              "      <td>...</td>\n",
              "      <td>No internet service</td>\n",
              "      <td>No internet service</td>\n",
              "      <td>No internet service</td>\n",
              "      <td>No internet service</td>\n",
              "      <td>One year</td>\n",
              "      <td>Yes</td>\n",
              "      <td>Mailed check</td>\n",
              "      <td>19.70</td>\n",
              "      <td></td>\n",
              "      <td>No</td>\n",
              "    </tr>\n",
              "    <tr>\n",
              "      <th>6670</th>\n",
              "      <td>4075-WKNIU</td>\n",
              "      <td>Female</td>\n",
              "      <td>0</td>\n",
              "      <td>Yes</td>\n",
              "      <td>Yes</td>\n",
              "      <td>0</td>\n",
              "      <td>Yes</td>\n",
              "      <td>Yes</td>\n",
              "      <td>DSL</td>\n",
              "      <td>No</td>\n",
              "      <td>...</td>\n",
              "      <td>Yes</td>\n",
              "      <td>Yes</td>\n",
              "      <td>Yes</td>\n",
              "      <td>No</td>\n",
              "      <td>Two year</td>\n",
              "      <td>No</td>\n",
              "      <td>Mailed check</td>\n",
              "      <td>73.35</td>\n",
              "      <td></td>\n",
              "      <td>No</td>\n",
              "    </tr>\n",
              "    <tr>\n",
              "      <th>6754</th>\n",
              "      <td>2775-SEFEE</td>\n",
              "      <td>Male</td>\n",
              "      <td>0</td>\n",
              "      <td>No</td>\n",
              "      <td>Yes</td>\n",
              "      <td>0</td>\n",
              "      <td>Yes</td>\n",
              "      <td>Yes</td>\n",
              "      <td>DSL</td>\n",
              "      <td>Yes</td>\n",
              "      <td>...</td>\n",
              "      <td>No</td>\n",
              "      <td>Yes</td>\n",
              "      <td>No</td>\n",
              "      <td>No</td>\n",
              "      <td>Two year</td>\n",
              "      <td>Yes</td>\n",
              "      <td>Bank transfer (automatic)</td>\n",
              "      <td>61.90</td>\n",
              "      <td></td>\n",
              "      <td>No</td>\n",
              "    </tr>\n",
              "  </tbody>\n",
              "</table>\n",
              "<p>11 rows × 21 columns</p>\n",
              "</div>"
            ],
            "text/plain": [
              "      customerID  gender  SeniorCitizen Partner Dependents  tenure  \\\n",
              "488   4472-LVYGI  Female              0     Yes        Yes       0   \n",
              "753   3115-CZMZD    Male              0      No        Yes       0   \n",
              "936   5709-LVOEQ  Female              0     Yes        Yes       0   \n",
              "1082  4367-NUYAO    Male              0     Yes        Yes       0   \n",
              "1340  1371-DWPAZ  Female              0     Yes        Yes       0   \n",
              "3331  7644-OMVMY    Male              0     Yes        Yes       0   \n",
              "3826  3213-VVOLG    Male              0     Yes        Yes       0   \n",
              "4380  2520-SGTTA  Female              0     Yes        Yes       0   \n",
              "5218  2923-ARZLG    Male              0     Yes        Yes       0   \n",
              "6670  4075-WKNIU  Female              0     Yes        Yes       0   \n",
              "6754  2775-SEFEE    Male              0      No        Yes       0   \n",
              "\n",
              "     PhoneService     MultipleLines InternetService       OnlineSecurity  ...  \\\n",
              "488            No  No phone service             DSL                  Yes  ...   \n",
              "753           Yes                No              No  No internet service  ...   \n",
              "936           Yes                No             DSL                  Yes  ...   \n",
              "1082          Yes               Yes              No  No internet service  ...   \n",
              "1340           No  No phone service             DSL                  Yes  ...   \n",
              "3331          Yes                No              No  No internet service  ...   \n",
              "3826          Yes               Yes              No  No internet service  ...   \n",
              "4380          Yes                No              No  No internet service  ...   \n",
              "5218          Yes                No              No  No internet service  ...   \n",
              "6670          Yes               Yes             DSL                   No  ...   \n",
              "6754          Yes               Yes             DSL                  Yes  ...   \n",
              "\n",
              "         DeviceProtection          TechSupport          StreamingTV  \\\n",
              "488                   Yes                  Yes                  Yes   \n",
              "753   No internet service  No internet service  No internet service   \n",
              "936                   Yes                   No                  Yes   \n",
              "1082  No internet service  No internet service  No internet service   \n",
              "1340                  Yes                  Yes                  Yes   \n",
              "3331  No internet service  No internet service  No internet service   \n",
              "3826  No internet service  No internet service  No internet service   \n",
              "4380  No internet service  No internet service  No internet service   \n",
              "5218  No internet service  No internet service  No internet service   \n",
              "6670                  Yes                  Yes                  Yes   \n",
              "6754                   No                  Yes                   No   \n",
              "\n",
              "          StreamingMovies  Contract PaperlessBilling  \\\n",
              "488                    No  Two year              Yes   \n",
              "753   No internet service  Two year               No   \n",
              "936                   Yes  Two year               No   \n",
              "1082  No internet service  Two year               No   \n",
              "1340                   No  Two year               No   \n",
              "3331  No internet service  Two year               No   \n",
              "3826  No internet service  Two year               No   \n",
              "4380  No internet service  Two year               No   \n",
              "5218  No internet service  One year              Yes   \n",
              "6670                   No  Two year               No   \n",
              "6754                   No  Two year              Yes   \n",
              "\n",
              "                  PaymentMethod MonthlyCharges  TotalCharges Churn  \n",
              "488   Bank transfer (automatic)          52.55                  No  \n",
              "753                Mailed check          20.25                  No  \n",
              "936                Mailed check          80.85                  No  \n",
              "1082               Mailed check          25.75                  No  \n",
              "1340    Credit card (automatic)          56.05                  No  \n",
              "3331               Mailed check          19.85                  No  \n",
              "3826               Mailed check          25.35                  No  \n",
              "4380               Mailed check          20.00                  No  \n",
              "5218               Mailed check          19.70                  No  \n",
              "6670               Mailed check          73.35                  No  \n",
              "6754  Bank transfer (automatic)          61.90                  No  \n",
              "\n",
              "[11 rows x 21 columns]"
            ]
          },
          "execution_count": 5,
          "metadata": {},
          "output_type": "execute_result"
        }
      ],
      "source": [
        "#meampilkan data yang nilai tenure nya adalah 0\n",
        "data[data.tenure==0]"
      ]
    },
    {
      "cell_type": "markdown",
      "metadata": {
        "id": "u7f9Yo5ueKB2"
      },
      "source": [
        "Setelah dilakukan pengecekan rupanya benar bahwa pelanggan yang memiliki `total charge` berupa spasi dikarenakan pelanggannya merupakan pelanggan yang memiliki tenure = `0`. Karena hal itu saya mengganti nilai spasi pada fitur `total charge` dengan asumsi bahwa pelanggan yang memiliki tenure `0` tidak dikenakan **charge**"
      ]
    },
    {
      "cell_type": "code",
      "execution_count": 6,
      "metadata": {
        "id": "UensL7z8eKB3"
      },
      "outputs": [],
      "source": [
        "#menggganti nilai space dengan nilai 0 dan merubah data menjadi bentuk numerik.\n",
        "data.TotalCharges.replace(' ', 0, inplace=True)\n",
        "data.TotalCharges=pd.to_numeric(data.TotalCharges)"
      ]
    },
    {
      "cell_type": "code",
      "execution_count": 7,
      "metadata": {
        "colab": {
          "base_uri": "https://localhost:8080/",
          "height": 300
        },
        "id": "qMqrg0sZeKB4",
        "outputId": "5a24bc4d-7a54-4bf8-eaa1-b1c3651f485d"
      },
      "outputs": [
        {
          "data": {
            "text/html": [
              "<div>\n",
              "<style scoped>\n",
              "    .dataframe tbody tr th:only-of-type {\n",
              "        vertical-align: middle;\n",
              "    }\n",
              "\n",
              "    .dataframe tbody tr th {\n",
              "        vertical-align: top;\n",
              "    }\n",
              "\n",
              "    .dataframe thead th {\n",
              "        text-align: right;\n",
              "    }\n",
              "</style>\n",
              "<table border=\"1\" class=\"dataframe\">\n",
              "  <thead>\n",
              "    <tr style=\"text-align: right;\">\n",
              "      <th></th>\n",
              "      <th>SeniorCitizen</th>\n",
              "      <th>tenure</th>\n",
              "      <th>MonthlyCharges</th>\n",
              "      <th>TotalCharges</th>\n",
              "    </tr>\n",
              "  </thead>\n",
              "  <tbody>\n",
              "    <tr>\n",
              "      <th>count</th>\n",
              "      <td>7043.000000</td>\n",
              "      <td>7043.000000</td>\n",
              "      <td>7043.000000</td>\n",
              "      <td>7043.000000</td>\n",
              "    </tr>\n",
              "    <tr>\n",
              "      <th>mean</th>\n",
              "      <td>0.162147</td>\n",
              "      <td>32.371149</td>\n",
              "      <td>64.761692</td>\n",
              "      <td>2279.734304</td>\n",
              "    </tr>\n",
              "    <tr>\n",
              "      <th>std</th>\n",
              "      <td>0.368612</td>\n",
              "      <td>24.559481</td>\n",
              "      <td>30.090047</td>\n",
              "      <td>2266.794470</td>\n",
              "    </tr>\n",
              "    <tr>\n",
              "      <th>min</th>\n",
              "      <td>0.000000</td>\n",
              "      <td>0.000000</td>\n",
              "      <td>18.250000</td>\n",
              "      <td>0.000000</td>\n",
              "    </tr>\n",
              "    <tr>\n",
              "      <th>25%</th>\n",
              "      <td>0.000000</td>\n",
              "      <td>9.000000</td>\n",
              "      <td>35.500000</td>\n",
              "      <td>398.550000</td>\n",
              "    </tr>\n",
              "    <tr>\n",
              "      <th>50%</th>\n",
              "      <td>0.000000</td>\n",
              "      <td>29.000000</td>\n",
              "      <td>70.350000</td>\n",
              "      <td>1394.550000</td>\n",
              "    </tr>\n",
              "    <tr>\n",
              "      <th>75%</th>\n",
              "      <td>0.000000</td>\n",
              "      <td>55.000000</td>\n",
              "      <td>89.850000</td>\n",
              "      <td>3786.600000</td>\n",
              "    </tr>\n",
              "    <tr>\n",
              "      <th>max</th>\n",
              "      <td>1.000000</td>\n",
              "      <td>72.000000</td>\n",
              "      <td>118.750000</td>\n",
              "      <td>8684.800000</td>\n",
              "    </tr>\n",
              "  </tbody>\n",
              "</table>\n",
              "</div>"
            ],
            "text/plain": [
              "       SeniorCitizen       tenure  MonthlyCharges  TotalCharges\n",
              "count    7043.000000  7043.000000     7043.000000   7043.000000\n",
              "mean        0.162147    32.371149       64.761692   2279.734304\n",
              "std         0.368612    24.559481       30.090047   2266.794470\n",
              "min         0.000000     0.000000       18.250000      0.000000\n",
              "25%         0.000000     9.000000       35.500000    398.550000\n",
              "50%         0.000000    29.000000       70.350000   1394.550000\n",
              "75%         0.000000    55.000000       89.850000   3786.600000\n",
              "max         1.000000    72.000000      118.750000   8684.800000"
            ]
          },
          "execution_count": 7,
          "metadata": {},
          "output_type": "execute_result"
        }
      ],
      "source": [
        "data.describe()"
      ]
    },
    {
      "cell_type": "markdown",
      "metadata": {
        "id": "QL1oNsLIeKB4"
      },
      "source": [
        "Ada yang aneh pada kolom  `senior citizen` karena memiliki quantile 75% yang berbilai 0 dan max bernilai `1`. Saya curiga bahwa kolom `senior citizen` adalah data kategorical yang yang berisi data berupa angka. Untuk melihatnya saya perlu melihat data unik pada kolom `seniorcitizen`."
      ]
    },
    {
      "cell_type": "code",
      "execution_count": 8,
      "metadata": {
        "colab": {
          "base_uri": "https://localhost:8080/"
        },
        "id": "NPVsRHU9eKB5",
        "outputId": "22bd43cf-6a93-4757-d1f0-1571725cda08"
      },
      "outputs": [
        {
          "data": {
            "text/plain": [
              "array([0, 1], dtype=int64)"
            ]
          },
          "execution_count": 8,
          "metadata": {},
          "output_type": "execute_result"
        }
      ],
      "source": [
        "data.SeniorCitizen.unique()"
      ]
    },
    {
      "cell_type": "markdown",
      "metadata": {
        "id": "8M8XM9UWeKB5"
      },
      "source": [
        "Data hanya berisi 2 Kategori yaitu 0 dan 1. Saya mengasumsikan bahwa 1 berarti  merupakan nasabah senior Netizen, sedangkan 0 berarti bukan senior citizen. Data seperti ini merupakan data kategorikal."
      ]
    },
    {
      "cell_type": "markdown",
      "metadata": {
        "id": "8p0e7hJKeKB6"
      },
      "source": [
        "# Exploratory Data Analys"
      ]
    },
    {
      "cell_type": "markdown",
      "metadata": {
        "id": "GeVsLV3geKB6"
      },
      "source": [
        "Agar tidak ada data yang asli yang berubah, saya terlebih dahulu melakukan copy untuk data yang akan digunakan untuk proses EDA"
      ]
    },
    {
      "cell_type": "code",
      "execution_count": 9,
      "metadata": {
        "id": "Zk9WasLkeKB7"
      },
      "outputs": [],
      "source": [
        "#copy data ke data_eda\n",
        "data_eda=data.copy()"
      ]
    },
    {
      "cell_type": "markdown",
      "metadata": {
        "id": "yPqOii21eKB9"
      },
      "source": [
        "## Target"
      ]
    },
    {
      "cell_type": "code",
      "execution_count": 10,
      "metadata": {
        "colab": {
          "base_uri": "https://localhost:8080/",
          "height": 248
        },
        "id": "zJg2kiQaeKB9",
        "outputId": "e02cfb47-d739-4981-ea13-c7af4c925eff"
      },
      "outputs": [
        {
          "data": {
            "image/png": "[encoded data removed]",
            "text/plain": [
              "<Figure size 432x288 with 1 Axes>"
            ]
          },
          "metadata": {},
          "output_type": "display_data"
        }
      ],
      "source": [
        "#menampilkan presentase data target\n",
        "plt.pie(data_eda.Churn.value_counts(), labels=data_eda.Churn.unique(), autopct='%1.1f%%');"
      ]
    },
    {
      "cell_type": "markdown",
      "metadata": {
        "id": "xP-_4iCpeKB-"
      },
      "source": [
        "Target dari data set adalah kolom churn. Dataset ini merupakan data imbalance karena data memiliki ratio target yang tidak sama dengan ratio hampir 1:3.\n",
        "\n",
        "Perusahaan ini hanya memiliki sekitar 735,% pelanggan yang benar-benar setia. Sedangkan 26,5 sisanya merupakan pelanggan yang churn. Angka 23,5 persen tidak bisa menjadi ukuran kondisi perusahaan, karena setip industri dari perusahaan memiliki standarnya masing-masing. Namun tentuntu saja dengan memperkecil persentase pelanggan yang churn merupakan suatu progress yang bak. Dengan memprediksi lebih cepat apakah seorang pelanggan memiliki kemungkinan churn, harapannya dapat mengurangi persentase pelanggan yang churn"
      ]
    },
    {
      "cell_type": "markdown",
      "metadata": {
        "id": "fOy1cMEzeKB-"
      },
      "source": [
        "## Sebaran data numerik feature"
      ]
    },
    {
      "cell_type": "code",
      "execution_count": 11,
      "metadata": {
        "colab": {
          "base_uri": "https://localhost:8080/",
          "height": 334
        },
        "id": "MlMaKha0eKB_",
        "outputId": "c145ffe9-dd11-4b46-856e-9ce8764a8db5"
      },
      "outputs": [
        {
          "data": {
            "image/png": "[encoded data removed]",
            "text/plain": [
              "<Figure size 1080x360 with 3 Axes>"
            ]
          },
          "metadata": {
            "needs_background": "light"
          },
          "output_type": "display_data"
        }
      ],
      "source": [
        "# menampilkan sebaran data numerik\n",
        "wahyu_lib.histplot_1d(data=data_eda, list=['MonthlyCharges', 'tenure', 'TotalCharges'], hue='Churn')"
      ]
    },
    {
      "cell_type": "markdown",
      "metadata": {
        "id": "GDstLbAWeKB_"
      },
      "source": [
        "Sebaran data konsumen yang `churn` dan tidak `churn` pada fitur `total charge` sangat identik. Sedangkan  pada fitur  monthly charges, konsumen yang tidak `Churn` pling banyak berada pada konsumen yang charges bulanannya bernilai kecil, namun pada nilai bulanan menengah dan besar, ratio konsumen untuk churn sama saja. Tenure merupakan fitur yang paling jelas perbedaan sebaran data antara konsumen yang churn maupun yang tidak churn. Semakin lama nilai tenure, semakin kecil ratio konsumen yang churn dibandingkan dengan konsumen yang tidak churn, begitu juga sebaliknya."
      ]
    },
    {
      "cell_type": "markdown",
      "metadata": {
        "id": "IqkE8VN9eKCA"
      },
      "source": [
        "## Korelasi Fitur Numerik"
      ]
    },
    {
      "cell_type": "code",
      "execution_count": 12,
      "metadata": {
        "colab": {
          "base_uri": "https://localhost:8080/",
          "height": 568
        },
        "id": "iDLWeezBeKCA",
        "outputId": "60fb5844-4101-451a-e259-fccabc6e62be"
      },
      "outputs": [
        {
          "data": {
            "text/plain": [
              "<seaborn.axisgrid.PairGrid at 0x21f18996c70>"
            ]
          },
          "execution_count": 12,
          "metadata": {},
          "output_type": "execute_result"
        },
        {
          "data": {
            "image/png": "[encoded data removed]",
            "text/plain": [
              "<Figure size 540x540 with 12 Axes>"
            ]
          },
          "metadata": {
            "needs_background": "light"
          },
          "output_type": "display_data"
        }
      ],
      "source": [
        "#menampilkan hubungan data dalam bentuk swarnplot\n",
        "sns.pairplot(data=data_eda, vars=['MonthlyCharges', 'tenure', 'TotalCharges'])"
      ]
    },
    {
      "cell_type": "code",
      "execution_count": 13,
      "metadata": {
        "colab": {
          "base_uri": "https://localhost:8080/",
          "height": 143
        },
        "id": "wvtNX5z8eKCB",
        "outputId": "2aeefd93-540a-418c-a256-f9a85df14be8"
      },
      "outputs": [
        {
          "data": {
            "text/html": [
              "<div>\n",
              "<style scoped>\n",
              "    .dataframe tbody tr th:only-of-type {\n",
              "        vertical-align: middle;\n",
              "    }\n",
              "\n",
              "    .dataframe tbody tr th {\n",
              "        vertical-align: top;\n",
              "    }\n",
              "\n",
              "    .dataframe thead th {\n",
              "        text-align: right;\n",
              "    }\n",
              "</style>\n",
              "<table border=\"1\" class=\"dataframe\">\n",
              "  <thead>\n",
              "    <tr style=\"text-align: right;\">\n",
              "      <th></th>\n",
              "      <th>MonthlyCharges</th>\n",
              "      <th>tenure</th>\n",
              "      <th>TotalCharges</th>\n",
              "    </tr>\n",
              "  </thead>\n",
              "  <tbody>\n",
              "    <tr>\n",
              "      <th>MonthlyCharges</th>\n",
              "      <td>1.000000</td>\n",
              "      <td>0.247900</td>\n",
              "      <td>0.651174</td>\n",
              "    </tr>\n",
              "    <tr>\n",
              "      <th>tenure</th>\n",
              "      <td>0.247900</td>\n",
              "      <td>1.000000</td>\n",
              "      <td>0.826178</td>\n",
              "    </tr>\n",
              "    <tr>\n",
              "      <th>TotalCharges</th>\n",
              "      <td>0.651174</td>\n",
              "      <td>0.826178</td>\n",
              "      <td>1.000000</td>\n",
              "    </tr>\n",
              "  </tbody>\n",
              "</table>\n",
              "</div>"
            ],
            "text/plain": [
              "                MonthlyCharges    tenure  TotalCharges\n",
              "MonthlyCharges        1.000000  0.247900      0.651174\n",
              "tenure                0.247900  1.000000      0.826178\n",
              "TotalCharges          0.651174  0.826178      1.000000"
            ]
          },
          "execution_count": 13,
          "metadata": {},
          "output_type": "execute_result"
        }
      ],
      "source": [
        "#menampilkan korelaasi antar fitur numerik\n",
        "data_eda[['MonthlyCharges', 'tenure', 'TotalCharges']].corr()"
      ]
    },
    {
      "cell_type": "markdown",
      "metadata": {
        "id": "fResfLtTeKCB"
      },
      "source": [
        "Jika kita melihat pada pada grafik diatas sangat jelas bahwa terdapat hubungan yang sangat erat antara `tenure` dan `total charge`. Semakin lama ``tenure``yang didapatkan seorang konsumen semakin besar juga `total charge` yang didapatkan oleh konsumen. Selain itu, `monthly charges` juga memiliki hubungan yang kuat dengan dengan `total charge`s. Yang **menarik** dari plot diatas adalah `total charge`s memiliki nilai korelasi yang **lebih kuat** dengan `tenure` dibandingkan dengan `monthly charges`. Padahal jika kita menggunakan logikan sederhana seharusnya `monthly charges` memiliki hubungan yang lebih kuat dengan `total charges` karena pada umumnya `total charges` merupakan kumpulan dari `monthly charges`. Saya berkesimpulan bahwa mungkin saja ada **charge** lain selain `monthly charges` sehingga korelasi kedua fitur tidak sekuat yang saya kira."
      ]
    },
    {
      "cell_type": "markdown",
      "metadata": {
        "id": "nlNv3ERleKCC"
      },
      "source": [
        "## Fitur Kategorik"
      ]
    },
    {
      "cell_type": "code",
      "execution_count": 14,
      "metadata": {
        "colab": {
          "base_uri": "https://localhost:8080/",
          "height": 571
        },
        "id": "Mk_pFEkleKCC",
        "outputId": "f311daa8-1074-4f6b-f5e2-350ede8bd0f3"
      },
      "outputs": [
        {
          "data": {
            "image/png": "[encoded data removed]",
            "text/plain": [
              "<Figure size 1440x576 with 9 Axes>"
            ]
          },
          "metadata": {
            "needs_background": "light"
          },
          "output_type": "display_data"
        }
      ],
      "source": [
        "#menampilkan jumlah data pada setiap kategori fitur berdasarkan target\n",
        "wahyu_lib.show_count(\n",
        "    data=data_eda, \n",
        "    list=['gender', 'Dependents', 'PhoneService', 'InternetService', 'Contract', 'PaperlessBilling','PaymentMethod'],\n",
        "    hue='Churn',\n",
        "    figsize=[20,8]\n",
        "    )"
      ]
    },
    {
      "cell_type": "markdown",
      "metadata": {
        "id": "hwm3t4Y4eKCD"
      },
      "source": [
        "Berdasarkan plot diatas terdapat beberapa perbedaan ratio antara konsumen yang churn dengan konsumen yang tidak churn pada beberapa fitur, diantaranya yaitu `internet service` `payment method`, `internet service`, `contract`. Pada `internet service` ratio konsumen yang churn pada konsumen yang menggunakan fiber optic lebih besar jika dibandingkan dengan yang lainnya.\n",
        "\n",
        "Insight lain yang didapatkan adalah semakin lama kontrak yang dibuat bersama konsumen semakin kecil ratio konsumen yang churn. Hal ini sangat masuk akal karena jika kita berhasil melakukan kontrak jangka panjang, maka akan sangat kecil kemungkinan kita perlu melakukan pembaharuan kontrak. Sehingga semakin kecil kemungkinan `churn`. Pada `payment method`, electronic check juga meningkatkan ratio konsumen menjadi churn. Ada baiknya untuk perusahaan mendorong konsumennya untuk melakukan pembayaran melalui `mailed heck`, `bank transfer(automatic), kredit card(automatic)`. Metode pembayaran yang memiliki fitur otomatis menjadi membuat pelanggan merasa lebih mudah  dalam melakukan pembayaran sehingga pelanggan lebih nyaman selama menjadi konsumen."
      ]
    },
    {
      "cell_type": "code",
      "execution_count": 18,
      "metadata": {
        "colab": {
          "base_uri": "https://localhost:8080/",
          "height": 248
        },
        "id": "GOb3heHl0T6i",
        "outputId": "da20b4bb-9541-4541-9cdc-46caf8eea244"
      },
      "outputs": [
        {
          "data": {
            "image/png": "[encoded data removed]",
            "text/plain": [
              "<Figure size 432x288 with 1 Axes>"
            ]
          },
          "metadata": {},
          "output_type": "display_data"
        }
      ],
      "source": [
        "#menampilkan presentase jenis pembayaran yang digunakan pelanggan\n",
        "plt.pie(data_eda.PaymentMethod.value_counts(), labels=data_eda.PaymentMethod.unique(), autopct='%1.1f%%');"
      ]
    },
    {
      "cell_type": "markdown",
      "metadata": {
        "id": "ag06kuIL3CRa"
      },
      "source": [
        "Selain dengan mengarahkan konsumen melakukan pembayaran melalaui metode pembayaran yang memiliki fitur automatic payment. Tim marketing juga perlu mencari konsumen baru yang sudah memiliki moda pembayaran dengan fitur automatic payment. Hal itu perlu dilakukan karena seperrti yang kita lihat pada **grafik diatas** bahwa moda pembayaran electronic check masih menjadi moda pembayaran paling banyak dilakukan oleh pelanggan. Dengan mencari konsumen yang sudah memiliki moda pembayaran dengan fitur automatic payments, harapannya semakin sedikit pelanggan yang churn."
      ]
    },
    {
      "cell_type": "code",
      "execution_count": 19,
      "metadata": {
        "colab": {
          "base_uri": "https://localhost:8080/",
          "height": 352
        },
        "id": "gBxxej_F4HFW",
        "outputId": "98e4153c-aaac-483e-dda5-3f065957ab3a"
      },
      "outputs": [
        {
          "data": {
            "text/plain": [
              "<matplotlib.axes._subplots.AxesSubplot at 0x7fc132326b90>"
            ]
          },
          "execution_count": 19,
          "metadata": {},
          "output_type": "execute_result"
        },
        {
          "data": {
            "image/png": "[encoded data removed]",
            "text/plain": [
              "<Figure size 1080x360 with 1 Axes>"
            ]
          },
          "metadata": {
            "needs_background": "light"
          },
          "output_type": "display_data"
        }
      ],
      "source": [
        "fig, ax=plt.subplots(figsize=[15,5])\n",
        "sns.countplot(data=data_eda, x='PaymentMethod', hue='Contract', ax=ax)"
      ]
    },
    {
      "cell_type": "markdown",
      "metadata": {
        "id": "ioyBzoF_460L"
      },
      "source": [
        "Grafik diatas menunjukkan bahwa pelanggan yang melakukan pembayaran dengan moda pembayaran tanpa fitur automatic payments cenderung memilih kontract month to month. Kontrak month to month akan meningkatkan kemungkinan pelanggan churn. Marketing bisa menggunakan insgiht ini untuk membuat promosi. Saya sarankan agar promosi ditekankan kepada pengguna yang melakukan pembayaran otomatis dan kontak jangka panjang. Mendapatkan konsumen yang berkualitas(konsumen yang tidak churn) akan membantu perusahaan untuk mendapatkan keuntungan yang lebih besar karena mendapatkan konsumen baru lebih mahal biayanya dibandingkan dengan mempertahankan pelanggan lama."
      ]
    },
    {
      "cell_type": "markdown",
      "metadata": {
        "id": "2s3mioB_eKCD"
      },
      "source": [
        "# Data preprocessing"
      ]
    },
    {
      "cell_type": "markdown",
      "metadata": {
        "id": "zkSeCfTceKCD"
      },
      "source": [
        "## Get Inference"
      ]
    },
    {
      "cell_type": "markdown",
      "metadata": {
        "id": "rHZO36eIeKCE"
      },
      "source": [
        "Proses ini adalah proses untuk menyisihkan beberapa data sebagai data inference."
      ]
    },
    {
      "cell_type": "code",
      "execution_count": 20,
      "metadata": {
        "id": "BWkt5Bn1eKCE"
      },
      "outputs": [],
      "source": [
        "#memisahkan menjadi 2 data, yaitu data infrence dan data train\n",
        "data_inf = data.sample(20, random_state=0)\n",
        "data_train= data.drop(data_inf.index)"
      ]
    },
    {
      "cell_type": "markdown",
      "metadata": {
        "id": "vNcFnka7eKCF"
      },
      "source": [
        "Sebelum melakukan data preprocessing lainnya, Saya memutuskan untuk melakukan drop pada fitur `CustomerID` karena tidak ada kaitannya antara ID dan `Churn`. Hal itu dikarenakan setiap baris akan memiliki nilai unique masing-masing."
      ]
    },
    {
      "cell_type": "code",
      "execution_count": 21,
      "metadata": {
        "id": "C3ssLf2teKCF"
      },
      "outputs": [],
      "source": [
        "#menghilangkan kolom customer id\n",
        "list_drop=['customerID']\n",
        "data_train.drop(columns=list_drop, inplace=True)"
      ]
    },
    {
      "cell_type": "markdown",
      "metadata": {
        "id": "ZZxcU9WpeKCF"
      },
      "source": [
        "Selain itu, ada yang menarik pada fitur `multiple lines`. Ada 1 unique value yang menurut saya menarik yaitu, `No phone service`, serta beberapa fitur lainnya yang memiliki nilai `No internet service`"
      ]
    },
    {
      "cell_type": "code",
      "execution_count": 22,
      "metadata": {
        "colab": {
          "base_uri": "https://localhost:8080/"
        },
        "id": "mX-gvLuqeKCG",
        "outputId": "5bf76482-540b-4e9d-b9a5-df08b2cb1b39"
      },
      "outputs": [
        {
          "name": "stdout",
          "output_type": "stream",
          "text": [
            "gender: ['Female' 'Male']\n",
            "Partner: ['Yes' 'No']\n",
            "Dependents: ['No' 'Yes']\n",
            "PhoneService: ['No' 'Yes']\n",
            "MultipleLines: ['No phone service' 'No' 'Yes']\n",
            "InternetService: ['DSL' 'Fiber optic' 'No']\n",
            "OnlineSecurity: ['No' 'Yes' 'No internet service']\n",
            "OnlineBackup: ['Yes' 'No' 'No internet service']\n",
            "DeviceProtection: ['No' 'Yes' 'No internet service']\n",
            "TechSupport: ['No' 'Yes' 'No internet service']\n",
            "StreamingTV: ['No' 'Yes' 'No internet service']\n",
            "StreamingMovies: ['No' 'Yes' 'No internet service']\n",
            "Contract: ['Month-to-month' 'One year' 'Two year']\n",
            "PaperlessBilling: ['Yes' 'No']\n",
            "PaymentMethod: ['Electronic check' 'Mailed check' 'Bank transfer (automatic)'\n",
            " 'Credit card (automatic)']\n",
            "Churn: ['No' 'Yes']\n"
          ]
        }
      ],
      "source": [
        "# menampilkan kolom dan unique valuenya\n",
        "for i in data_train.columns:\n",
        "    if data_train[i].dtypes==\"object\":\n",
        "        print(f'{i}: {data_train[i].unique()}')"
      ]
    },
    {
      "cell_type": "markdown",
      "metadata": {
        "id": "OQbI0lbteKCG"
      },
      "source": [
        "Saya berasumsi bahwa `no multiple service` adalah kategori yang menejelas kan bahwa `multiple lines` bernilai `no` karena phone service bernilai `no`. Saya akan mengganti nilai `No phone service` pada fitur multiple lines menjadi `no` karena `no phone service` menjelaskan data yang sebenarnya sudah ada pada fitur multiple lines. Pola ini juga bisa kita temukan pada fitur yang yang berhubungan dengan internet service(`OnlineSecurity, OnlineBackup, DeviceProtection, TechSupport, StreamingTV, StreamingMovies` ), Saya akan melakukan hal yang sama pada fitur tersebut."
      ]
    },
    {
      "cell_type": "code",
      "execution_count": 23,
      "metadata": {
        "id": "m8h1YWupeKCH"
      },
      "outputs": [],
      "source": [
        "#melakukan replace data\n",
        "data_train.MultipleLines.replace('No phone service', 'No', inplace=True)\n",
        "data_train.OnlineSecurity.replace('No internet service', 'No', inplace=True)\n",
        "data_train.OnlineBackup.replace('No internet service', 'No', inplace=True)\n",
        "data_train.DeviceProtection.replace('No internet service', 'No', inplace=True)\n",
        "data_train.TechSupport.replace('No internet service', 'No', inplace=True)\n",
        "data_train.StreamingTV.replace('No internet service', 'No', inplace=True)\n",
        "data_train.StreamingMovies.replace('No internet service', 'No', inplace=True)"
      ]
    },
    {
      "cell_type": "code",
      "execution_count": 24,
      "metadata": {
        "id": "4rstR3oHpp_U"
      },
      "outputs": [],
      "source": [
        "#melakukan replace data\n",
        "data_inf.MultipleLines.replace('No phone service', 'No', inplace=True)\n",
        "data_inf.OnlineSecurity.replace('No internet service', 'No', inplace=True)\n",
        "data_inf.OnlineBackup.replace('No internet service', 'No', inplace=True)\n",
        "data_inf.DeviceProtection.replace('No internet service', 'No', inplace=True)\n",
        "data_inf.TechSupport.replace('No internet service', 'No', inplace=True)\n",
        "data_inf.StreamingTV.replace('No internet service', 'No', inplace=True)\n",
        "data_inf.StreamingMovies.replace('No internet service', 'No', inplace=True)"
      ]
    },
    {
      "cell_type": "markdown",
      "metadata": {
        "id": "6iHByU53eKCH"
      },
      "source": [
        "## Data Split"
      ]
    },
    {
      "cell_type": "markdown",
      "metadata": {
        "id": "OQ4xvAVEeKCI"
      },
      "source": [
        "Data split merupakan proses membagi data train menjadi 3 potongan data, yaitu data train, data validation dan data test. Data train dan data validation adalah data yang digunakan untuk melakukan training pada model, sedangkan data test adalah data yang nantinya akan digunakan untuk mengevaluasi model."
      ]
    },
    {
      "cell_type": "code",
      "execution_count": 25,
      "metadata": {
        "id": "L9SdvNIJeKCI"
      },
      "outputs": [],
      "source": [
        "#split data\n",
        "X_train, y_train, X_val, y_val, X_test, y_test=wahyu_lib.split_data(data_train, 'Churn', 0.15, 0.15)"
      ]
    },
    {
      "cell_type": "markdown",
      "metadata": {
        "id": "ZOV8nLNveKCI"
      },
      "source": [
        "## Handling Outliers"
      ]
    },
    {
      "cell_type": "markdown",
      "metadata": {
        "id": "I_N66_HReKCI"
      },
      "source": [
        "Hanya ada 2 data numerik, yaitu tenure dan monthly charges. Dalam melakukan handling outliers saya sudah menyiapkan fungsi yang ada di `wahyu_lib`. Fungsi ini akan melakukan capping kepada data yang ada di dalam parameter `list`. Setiap kolom akan di lakukan capping sesuai dengan distribusi data pada setiap kolomnya."
      ]
    },
    {
      "cell_type": "code",
      "execution_count": 26,
      "metadata": {
        "colab": {
          "base_uri": "https://localhost:8080/"
        },
        "id": "hlWPAcRAeKCJ",
        "outputId": "69bfa678-17dd-47bd-a82c-146935ad5dd3"
      },
      "outputs": [
        {
          "name": "stdout",
          "output_type": "stream",
          "text": [
            "kolom gausian    :  MonthlyCharges, tenure\n",
            "kolom Skew       :  \n"
          ]
        }
      ],
      "source": [
        "# winsorizing data\n",
        "X_train=wahyu_lib.handling_outliers(data=X_train, list=['MonthlyCharges', 'tenure'])"
      ]
    },
    {
      "cell_type": "markdown",
      "metadata": {
        "id": "cLuvJ2L0eKCJ"
      },
      "source": [
        "## Handling Missing Value"
      ]
    },
    {
      "cell_type": "markdown",
      "metadata": {
        "id": "kj-3UupceKCK"
      },
      "source": [
        "**Cek null value**"
      ]
    },
    {
      "cell_type": "code",
      "execution_count": 27,
      "metadata": {
        "colab": {
          "base_uri": "https://localhost:8080/"
        },
        "id": "7ZLUSF_eeKCK",
        "outputId": "c93155da-3aad-42b6-a2fe-63ce467cb64a"
      },
      "outputs": [
        {
          "data": {
            "text/plain": [
              "gender              0\n",
              "SeniorCitizen       0\n",
              "Partner             0\n",
              "Dependents          0\n",
              "tenure              0\n",
              "PhoneService        0\n",
              "MultipleLines       0\n",
              "InternetService     0\n",
              "OnlineSecurity      0\n",
              "OnlineBackup        0\n",
              "DeviceProtection    0\n",
              "TechSupport         0\n",
              "StreamingTV         0\n",
              "StreamingMovies     0\n",
              "Contract            0\n",
              "PaperlessBilling    0\n",
              "PaymentMethod       0\n",
              "MonthlyCharges      0\n",
              "TotalCharges        0\n",
              "dtype: int64"
            ]
          },
          "execution_count": 27,
          "metadata": {},
          "output_type": "execute_result"
        }
      ],
      "source": [
        "# cek jumlah baris data yang null\n",
        "X_train.isnull().sum()"
      ]
    },
    {
      "cell_type": "markdown",
      "metadata": {
        "id": "leTk9tLaeKCK"
      },
      "source": [
        ">Tidak ditemukan adanya null value."
      ]
    },
    {
      "cell_type": "markdown",
      "metadata": {
        "id": "bC3H4rQ0eKCL"
      },
      "source": [
        "Selain melakukan check pada nullvalue, kita juga perlu melakukan check terhadap unique value pada setiap kolom kategorik."
      ]
    },
    {
      "cell_type": "code",
      "execution_count": 28,
      "metadata": {
        "colab": {
          "base_uri": "https://localhost:8080/"
        },
        "id": "4Av2-uejeKCL",
        "outputId": "4a3f1514-6e94-43e5-b2bc-a3c6c6c714e8"
      },
      "outputs": [
        {
          "name": "stdout",
          "output_type": "stream",
          "text": [
            "gender: ['Male' 'Female']\n",
            "Partner: ['No' 'Yes']\n",
            "Dependents: ['No' 'Yes']\n",
            "PhoneService: ['Yes' 'No']\n",
            "MultipleLines: ['No' 'Yes']\n",
            "InternetService: ['No' 'DSL' 'Fiber optic']\n",
            "OnlineSecurity: ['No' 'Yes']\n",
            "OnlineBackup: ['No' 'Yes']\n",
            "DeviceProtection: ['No' 'Yes']\n",
            "TechSupport: ['No' 'Yes']\n",
            "StreamingTV: ['No' 'Yes']\n",
            "StreamingMovies: ['No' 'Yes']\n",
            "Contract: ['One year' 'Two year' 'Month-to-month']\n",
            "PaperlessBilling: ['No' 'Yes']\n",
            "PaymentMethod: ['Mailed check' 'Electronic check' 'Bank transfer (automatic)'\n",
            " 'Credit card (automatic)']\n"
          ]
        }
      ],
      "source": [
        "# menampilkan kolom dan unique valuenya\n",
        "for i in X_train.columns:\n",
        "    if X_train[i].dtypes==\"object\":\n",
        "        print(f'{i}: {X_train[i].unique()}')"
      ]
    },
    {
      "cell_type": "markdown",
      "metadata": {
        "id": "ATVmzvn1eKCL"
      },
      "source": [
        "Selain data categorik, kita juga perlu melakukan chack pada data numeik dengan melihat describe pada data numeriknya."
      ]
    },
    {
      "cell_type": "code",
      "execution_count": 29,
      "metadata": {
        "colab": {
          "base_uri": "https://localhost:8080/",
          "height": 300
        },
        "id": "4XOzK_Z9eKCM",
        "outputId": "7224b86d-5f0d-4462-cd28-d6568202e2dd"
      },
      "outputs": [
        {
          "data": {
            "text/html": [
              "\n",
              "  <div id=\"df-a2dc9416-1084-4203-9ab4-c95dc17fffba\">\n",
              "    <div class=\"colab-df-container\">\n",
              "      <div>\n",
              "<style scoped>\n",
              "    .dataframe tbody tr th:only-of-type {\n",
              "        vertical-align: middle;\n",
              "    }\n",
              "\n",
              "    .dataframe tbody tr th {\n",
              "        vertical-align: top;\n",
              "    }\n",
              "\n",
              "    .dataframe thead th {\n",
              "        text-align: right;\n",
              "    }\n",
              "</style>\n",
              "<table border=\"1\" class=\"dataframe\">\n",
              "  <thead>\n",
              "    <tr style=\"text-align: right;\">\n",
              "      <th></th>\n",
              "      <th>SeniorCitizen</th>\n",
              "      <th>tenure</th>\n",
              "      <th>MonthlyCharges</th>\n",
              "      <th>TotalCharges</th>\n",
              "    </tr>\n",
              "  </thead>\n",
              "  <tbody>\n",
              "    <tr>\n",
              "      <th>count</th>\n",
              "      <td>5073.000000</td>\n",
              "      <td>5073.000000</td>\n",
              "      <td>5073.000000</td>\n",
              "      <td>5073.000000</td>\n",
              "    </tr>\n",
              "    <tr>\n",
              "      <th>mean</th>\n",
              "      <td>0.164203</td>\n",
              "      <td>32.019515</td>\n",
              "      <td>64.685107</td>\n",
              "      <td>2250.548433</td>\n",
              "    </tr>\n",
              "    <tr>\n",
              "      <th>std</th>\n",
              "      <td>0.370496</td>\n",
              "      <td>24.483413</td>\n",
              "      <td>30.205075</td>\n",
              "      <td>2256.750075</td>\n",
              "    </tr>\n",
              "    <tr>\n",
              "      <th>min</th>\n",
              "      <td>0.000000</td>\n",
              "      <td>0.000000</td>\n",
              "      <td>18.700000</td>\n",
              "      <td>0.000000</td>\n",
              "    </tr>\n",
              "    <tr>\n",
              "      <th>25%</th>\n",
              "      <td>0.000000</td>\n",
              "      <td>8.000000</td>\n",
              "      <td>35.050000</td>\n",
              "      <td>377.850000</td>\n",
              "    </tr>\n",
              "    <tr>\n",
              "      <th>50%</th>\n",
              "      <td>0.000000</td>\n",
              "      <td>28.000000</td>\n",
              "      <td>70.550000</td>\n",
              "      <td>1359.000000</td>\n",
              "    </tr>\n",
              "    <tr>\n",
              "      <th>75%</th>\n",
              "      <td>0.000000</td>\n",
              "      <td>55.000000</td>\n",
              "      <td>90.000000</td>\n",
              "      <td>3720.350000</td>\n",
              "    </tr>\n",
              "    <tr>\n",
              "      <th>max</th>\n",
              "      <td>1.000000</td>\n",
              "      <td>72.000000</td>\n",
              "      <td>118.650000</td>\n",
              "      <td>8684.800000</td>\n",
              "    </tr>\n",
              "  </tbody>\n",
              "</table>\n",
              "</div>\n",
              "      <button class=\"colab-df-convert\" onclick=\"convertToInteractive('df-a2dc9416-1084-4203-9ab4-c95dc17fffba')\"\n",
              "              title=\"Convert this dataframe to an interactive table.\"\n",
              "              style=\"display:none;\">\n",
              "        \n",
              "  <svg xmlns=\"http://www.w3.org/2000/svg\" height=\"24px\"viewBox=\"0 0 24 24\"\n",
              "       width=\"24px\">\n",
              "    <path d=\"M0 0h24v24H0V0z\" fill=\"none\"/>\n",
              "    <path d=\"M18.56 5.44l.94 2.06.94-2.06 2.06-.94-2.06-.94-.94-2.06-.94 2.06-2.06.94zm-11 1L8.5 8.5l.94-2.06 2.06-.94-2.06-.94L8.5 2.5l-.94 2.06-2.06.94zm10 10l.94 2.06.94-2.06 2.06-.94-2.06-.94-.94-2.06-.94 2.06-2.06.94z\"/><path d=\"M17.41 7.96l-1.37-1.37c-.4-.4-.92-.59-1.43-.59-.52 0-1.04.2-1.43.59L10.3 9.45l-7.72 7.72c-.78.78-.78 2.05 0 2.83L4 21.41c.39.39.9.59 1.41.59.51 0 1.02-.2 1.41-.59l7.78-7.78 2.81-2.81c.8-.78.8-2.07 0-2.86zM5.41 20L4 18.59l7.72-7.72 1.47 1.35L5.41 20z\"/>\n",
              "  </svg>\n",
              "      </button>\n",
              "      \n",
              "  <style>\n",
              "    .colab-df-container {\n",
              "      display:flex;\n",
              "      flex-wrap:wrap;\n",
              "      gap: 12px;\n",
              "    }\n",
              "\n",
              "    .colab-df-convert {\n",
              "      background-color: #E8F0FE;\n",
              "      border: none;\n",
              "      border-radius: 50%;\n",
              "      cursor: pointer;\n",
              "      display: none;\n",
              "      fill: #1967D2;\n",
              "      height: 32px;\n",
              "      padding: 0 0 0 0;\n",
              "      width: 32px;\n",
              "    }\n",
              "\n",
              "    .colab-df-convert:hover {\n",
              "      background-color: #E2EBFA;\n",
              "      box-shadow: 0px 1px 2px rgba(60, 64, 67, 0.3), 0px 1px 3px 1px rgba(60, 64, 67, 0.15);\n",
              "      fill: #174EA6;\n",
              "    }\n",
              "\n",
              "    [theme=dark] .colab-df-convert {\n",
              "      background-color: #3B4455;\n",
              "      fill: #D2E3FC;\n",
              "    }\n",
              "\n",
              "    [theme=dark] .colab-df-convert:hover {\n",
              "      background-color: #434B5C;\n",
              "      box-shadow: 0px 1px 3px 1px rgba(0, 0, 0, 0.15);\n",
              "      filter: drop-shadow(0px 1px 2px rgba(0, 0, 0, 0.3));\n",
              "      fill: #FFFFFF;\n",
              "    }\n",
              "  </style>\n",
              "\n",
              "      <script>\n",
              "        const buttonEl =\n",
              "          document.querySelector('#df-a2dc9416-1084-4203-9ab4-c95dc17fffba button.colab-df-convert');\n",
              "        buttonEl.style.display =\n",
              "          google.colab.kernel.accessAllowed ? 'block' : 'none';\n",
              "\n",
              "        async function convertToInteractive(key) {\n",
              "          const element = document.querySelector('#df-a2dc9416-1084-4203-9ab4-c95dc17fffba');\n",
              "          const dataTable =\n",
              "            await google.colab.kernel.invokeFunction('convertToInteractive',\n",
              "                                                     [key], {});\n",
              "          if (!dataTable) return;\n",
              "\n",
              "          const docLinkHtml = 'Like what you see? Visit the ' +\n",
              "            '<a target=\"_blank\" href=https://colab.research.google.com/notebooks/data_table.ipynb>data table notebook</a>'\n",
              "            + ' to learn more about interactive tables.';\n",
              "          element.innerHTML = '';\n",
              "          dataTable['output_type'] = 'display_data';\n",
              "          await google.colab.output.renderOutput(dataTable, element);\n",
              "          const docLink = document.createElement('div');\n",
              "          docLink.innerHTML = docLinkHtml;\n",
              "          element.appendChild(docLink);\n",
              "        }\n",
              "      </script>\n",
              "    </div>\n",
              "  </div>\n",
              "  "
            ],
            "text/plain": [
              "       SeniorCitizen       tenure  MonthlyCharges  TotalCharges\n",
              "count    5073.000000  5073.000000     5073.000000   5073.000000\n",
              "mean        0.164203    32.019515       64.685107   2250.548433\n",
              "std         0.370496    24.483413       30.205075   2256.750075\n",
              "min         0.000000     0.000000       18.700000      0.000000\n",
              "25%         0.000000     8.000000       35.050000    377.850000\n",
              "50%         0.000000    28.000000       70.550000   1359.000000\n",
              "75%         0.000000    55.000000       90.000000   3720.350000\n",
              "max         1.000000    72.000000      118.650000   8684.800000"
            ]
          },
          "execution_count": 29,
          "metadata": {},
          "output_type": "execute_result"
        }
      ],
      "source": [
        "X_train.describe()"
      ]
    },
    {
      "cell_type": "markdown",
      "metadata": {
        "id": "UmK8iEm0eKCM"
      },
      "source": [
        "Jika dilihat dari data yang ada diatas tidak ada hal yang perlu di curigai missing value pada data numerik karena tidk ada datang terlalu kecil ataupun terlalu besar. Hanya saja karena data seior netizen adalah berisi angka, sehingga senior netizen masuk kedalam data diatas."
      ]
    },
    {
      "cell_type": "markdown",
      "metadata": {
        "id": "LecLgSHceKCN"
      },
      "source": [
        "## Scaling & Encoding "
      ]
    },
    {
      "cell_type": "markdown",
      "metadata": {
        "id": "rme9aN7aeKCN"
      },
      "source": [
        "Scaling dilakukan pada data numerik sedangkan encoding dilakukan pada data kategorik. Agar memudahkan kita dalam melakukan scaling dan encosing, kita perlu membuat list fitur numerik dan fitur kategotik."
      ]
    },
    {
      "cell_type": "code",
      "execution_count": 30,
      "metadata": {
        "colab": {
          "base_uri": "https://localhost:8080/"
        },
        "id": "XMD1ehWheKCN",
        "outputId": "0658fa42-56cd-4ce7-da94-131f37a1bf66"
      },
      "outputs": [
        {
          "name": "stdout",
          "output_type": "stream",
          "text": [
            "feature numerik   :  SeniorCitizen, tenure, MonthlyCharges, TotalCharges\n",
            "feature kategorik :  gender, Partner, Dependents, PhoneService, MultipleLines, InternetService, OnlineSecurity, OnlineBackup, DeviceProtection, TechSupport, StreamingTV, StreamingMovies, Contract, PaperlessBilling, PaymentMethod\n"
          ]
        }
      ],
      "source": [
        "# memisahkan data numerik dan kategorik\n",
        "num_list, cat_list=wahyu_lib.pisah_num_cat(X_train)"
      ]
    },
    {
      "cell_type": "markdown",
      "metadata": {
        "id": "koBjRfGJeKCO"
      },
      "source": [
        "Seperti yang disampaikan sebelumnya. fitur SeniorCitizen merupakan data kategorik namun seolah telah di encoding, maka fitur tersebut tidak akan dilakukan scaling maupun encoding."
      ]
    },
    {
      "cell_type": "code",
      "execution_count": 31,
      "metadata": {
        "id": "9n9_4w8feKCO"
      },
      "outputs": [],
      "source": [
        "# menghapus nilai senior netizen dati list numerik\n",
        "num_list.remove('SeniorCitizen')\n",
        "pass_list=['SeniorCitizen']"
      ]
    },
    {
      "cell_type": "markdown",
      "metadata": {
        "id": "ZMu2QSEqeKCP"
      },
      "source": [
        "Proses encoding dan scaling dilakukan pada data train, validation dan data test. Walaupun dilakukan pada ketiga Fitur, namun yang dilakukan fit hanyalah pada data train."
      ]
    },
    {
      "cell_type": "code",
      "execution_count": 32,
      "metadata": {
        "id": "NkU4Q7B5eKCP"
      },
      "outputs": [],
      "source": [
        "# membuat pipeline preprocessing\n",
        "preprocessor = ColumnTransformer(\n",
        "    transformers=[\n",
        "        (\"num\", StandardScaler(), num_list),\n",
        "        (\"cat\", OrdinalEncoder(), cat_list),\n",
        "        (\"pass\", 'passthrough', pass_list),\n",
        "    ]\n",
        ")\n",
        "# melakukan encoding dan scaling\n",
        "X_train_final=preprocessor.fit_transform(X_train)\n",
        "X_test_final=preprocessor.transform(X_test)\n",
        "X_val_final=preprocessor.transform(X_val)\n",
        "\n",
        "# membuat data frame data yang telah di preprocessing\n",
        "df_X_train_final=pd.DataFrame(data=X_train_final, columns=num_list+cat_list+pass_list)\n",
        "df_X_val_final=pd.DataFrame(data=X_val_final, columns=num_list+cat_list+pass_list)\n",
        "df_X_test_final=pd.DataFrame(data=X_test_final, columns=num_list+cat_list+pass_list)"
      ]
    },
    {
      "cell_type": "markdown",
      "metadata": {
        "id": "vx-tKdcFeKCP"
      },
      "source": [
        "Selain melakukan encoding pada data Fitur, Data Target juga perlu dilakukan label encoding."
      ]
    },
    {
      "cell_type": "code",
      "execution_count": 33,
      "metadata": {
        "colab": {
          "base_uri": "https://localhost:8080/"
        },
        "id": "BFnMRhIneKCP",
        "outputId": "38d6180a-3bda-4085-e970-d7b903bfed0d"
      },
      "outputs": [
        {
          "name": "stderr",
          "output_type": "stream",
          "text": [
            "/usr/local/lib/python3.7/dist-packages/sklearn/preprocessing/_label.py:115: DataConversionWarning: A column-vector y was passed when a 1d array was expected. Please change the shape of y to (n_samples, ), for example using ravel().\n",
            "  y = column_or_1d(y, warn=True)\n",
            "/usr/local/lib/python3.7/dist-packages/sklearn/preprocessing/_label.py:133: DataConversionWarning: A column-vector y was passed when a 1d array was expected. Please change the shape of y to (n_samples, ), for example using ravel().\n",
            "  y = column_or_1d(y, warn=True)\n"
          ]
        }
      ],
      "source": [
        "#encoding data target\n",
        "target_encoder=LabelEncoder()\n",
        "y_train_final=target_encoder.fit_transform(y_train)\n",
        "y_val_final=target_encoder.transform(y_val)\n",
        "y_test_final=target_encoder.transform(y_test)"
      ]
    },
    {
      "cell_type": "markdown",
      "metadata": {
        "id": "HiK6Grm6eKCR"
      },
      "source": [
        "## Feature Selection"
      ]
    },
    {
      "cell_type": "markdown",
      "metadata": {
        "id": "hiEH_t35eKCR"
      },
      "source": [
        "Fiture Selection yang digunakan adalah dengan menggunakan attribut feature_importance pada `random forest`."
      ]
    },
    {
      "cell_type": "code",
      "execution_count": 34,
      "metadata": {
        "id": "ov1haXUqeKCR"
      },
      "outputs": [],
      "source": [
        "#melakukan training dengan random forest\n",
        "X_train_final=preprocessor.fit_transform(X_train)\n",
        "ranfor=RandomForestClassifier().fit(df_X_train_final, y_train_final)"
      ]
    },
    {
      "cell_type": "code",
      "execution_count": 35,
      "metadata": {
        "colab": {
          "base_uri": "https://localhost:8080/"
        },
        "id": "vfLxmIapeKCR",
        "outputId": "6338b2f2-22a8-4349-a4d5-cd973af40b98"
      },
      "outputs": [
        {
          "data": {
            "text/plain": [
              "TotalCharges        0.194564\n",
              "MonthlyCharges      0.192020\n",
              "tenure              0.158403\n",
              "Contract            0.083400\n",
              "PaymentMethod       0.052558\n",
              "InternetService     0.047866\n",
              "PaperlessBilling    0.027846\n",
              "gender              0.027158\n",
              "Partner             0.023401\n",
              "TechSupport         0.023280\n",
              "OnlineSecurity      0.022885\n",
              "SeniorCitizen       0.021748\n",
              "OnlineBackup        0.021410\n",
              "Dependents          0.021221\n",
              "MultipleLines       0.020556\n",
              "DeviceProtection    0.019473\n",
              "StreamingMovies     0.017874\n",
              "StreamingTV         0.017432\n",
              "PhoneService        0.006906\n",
              "dtype: float64"
            ]
          },
          "execution_count": 35,
          "metadata": {},
          "output_type": "execute_result"
        }
      ],
      "source": [
        "#menampilkan nilai feature importance\n",
        "fitur_importance=pd.Series(data=ranfor.feature_importances_, index=num_list+cat_list+pass_list) \n",
        "fitur_importance.sort_values(ascending=False)"
      ]
    },
    {
      "cell_type": "markdown",
      "metadata": {
        "id": "zx9HvIrNeKCS"
      },
      "source": [
        "Feature yang saya pilih adalah fitur yang memiliki nilai diatas 0,3. Yaitu `Monthly Charges`, `Total Charges`, `Tenure`, `Contract`, `PaymentsMethond`, dan `Internet Service`. Namun karena Total Charge dan tenur memiliki korelasi yang sangat kuat maka saya hanya memilih salah satu diantar keduanya. Saya memutuskan untuk memilih `total charge` dengan pertimbangan `total charge` memiliki nilai **fitur importance** yang lebih besar"
      ]
    },
    {
      "cell_type": "code",
      "execution_count": 36,
      "metadata": {
        "id": "UTBgCcgzeKCS"
      },
      "outputs": [],
      "source": [
        "# fitur yangdipilih\n",
        "feature_selected=['MonthlyCharges', 'TotalCharges', 'Contract', 'PaymentMethod','InternetService', 'PaperlessBilling', 'TechSupport']"
      ]
    },
    {
      "cell_type": "code",
      "execution_count": 37,
      "metadata": {
        "id": "L6S1Uahjm4AE"
      },
      "outputs": [],
      "source": [
        "# update preprocessor encoding dan scaling ulang dengan feature yang terpilih\n",
        "preprocessor_final = ColumnTransformer(\n",
        "    transformers=[\n",
        "        (\"num\", StandardScaler(), ['MonthlyCharges', 'TotalCharges']),\n",
        "        (\"cat\", OrdinalEncoder(), ['Contract', 'PaymentMethod','InternetService', 'PaperlessBilling', 'TechSupport'])\n",
        "    ]\n",
        ")\n",
        "\n",
        "X_train_final=preprocessor_final.fit_transform(X_train)\n",
        "X_val_final=preprocessor_final.transform(X_val)\n",
        "X_test_final=preprocessor_final.transform(X_test)"
      ]
    },
    {
      "cell_type": "markdown",
      "metadata": {
        "id": "Jatbg_kceKCS"
      },
      "source": [
        "## Input Pipline"
      ]
    },
    {
      "cell_type": "markdown",
      "metadata": {
        "id": "w1Lb8sEaeKCT"
      },
      "source": [
        "Input pipeline digunakan agar membantu kinerja komputasi agar lebih efisien."
      ]
    },
    {
      "cell_type": "code",
      "execution_count": 38,
      "metadata": {
        "id": "-DgED7qBeKCT"
      },
      "outputs": [],
      "source": [
        "#input pipeline data train\n",
        "X_train_batch=tf.data.Dataset.from_tensor_slices((X_train_final, y_train_final))\n",
        "X_train_batch=X_train_batch.batch(64).cache().prefetch(tf.data.AUTOTUNE)"
      ]
    },
    {
      "cell_type": "code",
      "execution_count": 39,
      "metadata": {
        "id": "N17WFBSGeKCT"
      },
      "outputs": [],
      "source": [
        "#input pipeline data validation\n",
        "X_val_batch=tf.data.Dataset.from_tensor_slices((X_val_final, y_val_final))\n",
        "X_val_batch=X_val_batch.batch(64).cache().prefetch(tf.data.AUTOTUNE)"
      ]
    },
    {
      "cell_type": "code",
      "execution_count": 40,
      "metadata": {
        "id": "2DFVYMVNeKCT"
      },
      "outputs": [],
      "source": [
        "#input pipeline data test\n",
        "X_test_batch=tf.data.Dataset.from_tensor_slices((X_test_final, y_test_final))\n",
        "X_test_batch=X_test_batch.batch(64).cache().prefetch(tf.data.AUTOTUNE)"
      ]
    },
    {
      "cell_type": "markdown",
      "metadata": {
        "id": "AmxWf8HueKCT"
      },
      "source": [
        "# Model Definition"
      ]
    },
    {
      "cell_type": "markdown",
      "metadata": {
        "id": "qtHOmUgceKCU"
      },
      "source": [
        "Model yang digunakan adalah model ANN sequential dan ANN Functional"
      ]
    },
    {
      "cell_type": "markdown",
      "metadata": {
        "id": "QCGzFrit6IUx"
      },
      "source": [
        "## ANN Sequential"
      ]
    },
    {
      "cell_type": "code",
      "execution_count": 41,
      "metadata": {
        "id": "UHEy_kHOeKCU"
      },
      "outputs": [],
      "source": [
        "baccuracy=tf.keras.metrics.BinaryAccuracy(threshold=0.55)\n",
        "model_seq=tf.keras.Sequential([\n",
        "    tf.keras.layers.BatchNormalization(),\n",
        "    tf.keras.layers.Dense(7,input_shape=(len(feature_selected),),activation=\"tanh\", kernel_initializer=tf.keras.initializers.GlorotNormal()),\n",
        "    tf.keras.layers.BatchNormalization(),\n",
        "    tf.keras.layers.Dense(128, activation='relu'),\n",
        "    tf.keras.layers.BatchNormalization(),\n",
        "    tf.keras.layers.Dense(1,activation=\"sigmoid\")\n",
        "])\n",
        "\n",
        "model_seq.compile(loss='binary_crossentropy',\n",
        "             optimizer=tf.keras.optimizers.Adam(),\n",
        "             metrics=[baccuracy])\n"
      ]
    },
    {
      "cell_type": "markdown",
      "metadata": {
        "id": "uyqlo_pveKCZ"
      },
      "source": [
        "## Model Functional"
      ]
    },
    {
      "cell_type": "code",
      "execution_count": 42,
      "metadata": {
        "id": "DOGbnHm4eKCZ"
      },
      "outputs": [],
      "source": [
        "input_tensor=tf.keras.layers.Input(shape=(len(feature_selected),))\n",
        "A1=tf.keras.layers.BatchNormalization()(input_tensor)\n",
        "A2=tf.keras.layers.Dense(128)(A1)\n",
        "A3=tf.keras.layers.Activation('relu')(A2)\n",
        "B1=tf.keras.layers.BatchNormalization()(input_tensor)\n",
        "B2=tf.keras.layers.Dense(64)(B1)\n",
        "B3=tf.keras.layers.Activation('elu')(B2)\n",
        "C=tf.keras.layers.Concatenate(axis=1)([A3, B3, input_tensor])\n",
        "output_tensor=tf.keras.layers.Dense(1,activation=\"sigmoid\")(C)\n",
        "model_func=tf.keras.models.Model(inputs= input_tensor,\n",
        "                      outputs=output_tensor)\n",
        "\n",
        "model_func.compile(loss='binary_crossentropy',\n",
        "             optimizer=tf.keras.optimizers.Nadam(learning_rate=0.01),\n",
        "             metrics=baccuracy)\n"
      ]
    },
    {
      "cell_type": "markdown",
      "metadata": {
        "id": "UJYS1KkWeKCa"
      },
      "source": [
        "# Model Training"
      ]
    },
    {
      "cell_type": "markdown",
      "metadata": {
        "id": "-V2DHnwJEHHF"
      },
      "source": [
        "## Training model Sequential"
      ]
    },
    {
      "cell_type": "code",
      "execution_count": 43,
      "metadata": {
        "id": "hkrm6t_FeKCa"
      },
      "outputs": [],
      "source": [
        "history=model_seq.fit(X_train_batch,\n",
        "        epochs=100,\n",
        "        validation_data=X_val_batch,\n",
        "        callbacks = [tf.keras.callbacks.EarlyStopping(monitor='binary_accuracy', patience=10)],\n",
        "        verbose=0\n",
        "        )"
      ]
    },
    {
      "cell_type": "code",
      "execution_count": 44,
      "metadata": {
        "colab": {
          "base_uri": "https://localhost:8080/",
          "height": 320
        },
        "id": "1mfy9STVeKCa",
        "outputId": "4db1ed7f-ffed-41dc-fa6a-a2ad6ae8c2bd"
      },
      "outputs": [
        {
          "data": {
            "image/png": "[encoded data removed]",
            "text/plain": [
              "<Figure size 576x360 with 1 Axes>"
            ]
          },
          "metadata": {
            "needs_background": "light"
          },
          "output_type": "display_data"
        }
      ],
      "source": [
        "pd.DataFrame(history.history).plot(figsize=(8, 5))\n",
        "plt.grid(True)\n",
        "plt.show()"
      ]
    },
    {
      "cell_type": "markdown",
      "metadata": {
        "id": "ZbrxKHn5E6eF"
      },
      "source": [
        "Proses training tidak sampai pada akhir dari eppoch karena pada model fit telah kita inisialisasi call back berupa early stopping yang mencegah terjadinya model vannishs berlama-lama. Model akan berhenti saat model mengalami penurunan sebanyak 10 kali atau saat model tidak dapat melampaui nilai tertinggi terakhir sebelum model mengalami penurunnan. Yang diawasi oleh callback dalam hal ini adalah accuracy.\n",
        "\n",
        "Pada ujung grafik bisa kita garis berwarna orange dan hijau mulai mengalami vanish dan berhenti sebelum vanishnya berlarut-larut. Walaupun seperti itu model merupakan model goodfit jika dilihat dari grafik namun masih perlu dilakukan evaluasi lebih lanjut dengan menggunakan data testing."
      ]
    },
    {
      "cell_type": "code",
      "execution_count": 45,
      "metadata": {
        "colab": {
          "base_uri": "https://localhost:8080/"
        },
        "id": "vNZZdp2IqJ2u",
        "outputId": "aed1f76c-2995-475d-df2b-75ff85661267"
      },
      "outputs": [
        {
          "name": "stdout",
          "output_type": "stream",
          "text": [
            "INFO:tensorflow:Assets written to: churn/assets\n"
          ]
        }
      ],
      "source": [
        "model_seq.save(\"churn\")"
      ]
    },
    {
      "cell_type": "code",
      "execution_count": 46,
      "metadata": {
        "colab": {
          "base_uri": "https://localhost:8080/"
        },
        "id": "MR9CPUMLeKCb",
        "outputId": "0b44c2fb-3fcd-4045-a663-442b03f4d825"
      },
      "outputs": [
        {
          "name": "stdout",
          "output_type": "stream",
          "text": [
            "Model: \"sequential\"\n",
            "_________________________________________________________________\n",
            " Layer (type)                Output Shape              Param #   \n",
            "=================================================================\n",
            " batch_normalization (BatchN  (None, 7)                28        \n",
            " ormalization)                                                   \n",
            "                                                                 \n",
            " dense (Dense)               (None, 7)                 56        \n",
            "                                                                 \n",
            " batch_normalization_1 (Batc  (None, 7)                28        \n",
            " hNormalization)                                                 \n",
            "                                                                 \n",
            " dense_1 (Dense)             (None, 128)               1024      \n",
            "                                                                 \n",
            " batch_normalization_2 (Batc  (None, 128)              512       \n",
            " hNormalization)                                                 \n",
            "                                                                 \n",
            " dense_2 (Dense)             (None, 1)                 129       \n",
            "                                                                 \n",
            "=================================================================\n",
            "Total params: 1,777\n",
            "Trainable params: 1,493\n",
            "Non-trainable params: 284\n",
            "_________________________________________________________________\n"
          ]
        }
      ],
      "source": [
        "model_seq.summary()"
      ]
    },
    {
      "cell_type": "markdown",
      "metadata": {
        "id": "1rqE4uJnHi06"
      },
      "source": [
        "Layer pada model terdiri dari 3 layer dense dan 3 layer batch normalization. Batch normalization bertujuan untuk melakukan normalisasi terlebih dahulu sebelum input masuk kedalam layer selanjutnya. Dengan cara itu kita bisa menghindari terjadinya exploding gradient problem. Untuk lebih jelasnya, silahkan lihat grafik dibawah untuk melihat isi dari sequential model."
      ]
    },
    {
      "cell_type": "code",
      "execution_count": 47,
      "metadata": {
        "colab": {
          "base_uri": "https://localhost:8080/",
          "height": 661
        },
        "id": "jrVzPooReKCb",
        "outputId": "266e27d2-37c0-4db5-940e-b5f2bf08dcad"
      },
      "outputs": [
        {
          "data": {
            "image/png": "[encoded data removed]",
            "text/plain": [
              "<IPython.core.display.Image object>"
            ]
          },
          "execution_count": 47,
          "metadata": {},
          "output_type": "execute_result"
        }
      ],
      "source": [
        "tf.keras.utils.plot_model(model_seq)"
      ]
    },
    {
      "cell_type": "markdown",
      "metadata": {
        "id": "92IeIzU1eKCb"
      },
      "source": [
        "## Training Model Functional"
      ]
    },
    {
      "cell_type": "code",
      "execution_count": 48,
      "metadata": {
        "id": "28uVBv0TeKCb"
      },
      "outputs": [],
      "source": [
        "history_func=model_func.fit(X_train_batch,\n",
        "        epochs=100,\n",
        "        validation_data=X_val_batch,\n",
        "        callbacks = [tf.keras.callbacks.EarlyStopping(monitor='binary_accuracy', patience=10)],\n",
        "        verbose=0\n",
        "        )"
      ]
    },
    {
      "cell_type": "code",
      "execution_count": 49,
      "metadata": {
        "colab": {
          "base_uri": "https://localhost:8080/",
          "height": 320
        },
        "id": "M-aA_ACSeKCc",
        "outputId": "3dea3f2d-46d8-4ba5-bf3d-f7916e631666"
      },
      "outputs": [
        {
          "data": {
            "image/png": "[encoded data removed]",
            "text/plain": [
              "<Figure size 576x360 with 1 Axes>"
            ]
          },
          "metadata": {
            "needs_background": "light"
          },
          "output_type": "display_data"
        }
      ],
      "source": [
        "pd.DataFrame(history_func.history).plot(figsize=(8, 5))\n",
        "plt.grid(True)\n",
        "plt.show()"
      ]
    },
    {
      "cell_type": "markdown",
      "metadata": {
        "id": "BdTNA4NfI6iH"
      },
      "source": [
        "Training yang dilakukan pada model funtional lebih sebentar karena jumlah iterasi yang lebih sedikit. Model berhenti pada epoch ke 37 karena sama halnya dengan model squential, model functional juga diberika inisiasi callback berupa early stopping. Grafik diatas menunjukkan bahwa model tidak mengalami vanishing dan tidak mengalami exploding."
      ]
    },
    {
      "cell_type": "code",
      "execution_count": 50,
      "metadata": {
        "colab": {
          "base_uri": "https://localhost:8080/"
        },
        "id": "mcHtHm3jeKCc",
        "outputId": "62797e0d-0651-435d-be80-ca0f04f69cdc"
      },
      "outputs": [
        {
          "name": "stdout",
          "output_type": "stream",
          "text": [
            "Model: \"model\"\n",
            "__________________________________________________________________________________________________\n",
            " Layer (type)                   Output Shape         Param #     Connected to                     \n",
            "==================================================================================================\n",
            " input_1 (InputLayer)           [(None, 7)]          0           []                               \n",
            "                                                                                                  \n",
            " batch_normalization_3 (BatchNo  (None, 7)           28          ['input_1[0][0]']                \n",
            " rmalization)                                                                                     \n",
            "                                                                                                  \n",
            " batch_normalization_4 (BatchNo  (None, 7)           28          ['input_1[0][0]']                \n",
            " rmalization)                                                                                     \n",
            "                                                                                                  \n",
            " dense_3 (Dense)                (None, 128)          1024        ['batch_normalization_3[0][0]']  \n",
            "                                                                                                  \n",
            " dense_4 (Dense)                (None, 64)           512         ['batch_normalization_4[0][0]']  \n",
            "                                                                                                  \n",
            " activation (Activation)        (None, 128)          0           ['dense_3[0][0]']                \n",
            "                                                                                                  \n",
            " activation_1 (Activation)      (None, 64)           0           ['dense_4[0][0]']                \n",
            "                                                                                                  \n",
            " concatenate (Concatenate)      (None, 199)          0           ['activation[0][0]',             \n",
            "                                                                  'activation_1[0][0]',           \n",
            "                                                                  'input_1[0][0]']                \n",
            "                                                                                                  \n",
            " dense_5 (Dense)                (None, 1)            200         ['concatenate[0][0]']            \n",
            "                                                                                                  \n",
            "==================================================================================================\n",
            "Total params: 1,792\n",
            "Trainable params: 1,764\n",
            "Non-trainable params: 28\n",
            "__________________________________________________________________________________________________\n"
          ]
        }
      ],
      "source": [
        "model_func.summary()"
      ]
    },
    {
      "cell_type": "markdown",
      "metadata": {
        "id": "_E8_nrqjK4my"
      },
      "source": [
        "Model Functional terdiri dari beberapa layer mulai dari input layer. kemudia dari inpute layer, model memasuki 2 model batch normalization agar model tidak mengalami exploding gradient problem. Masing-masing dari batch normalization tersebut kemudian masuk ke layar dense. setiap layer dense memiliki ativation funtionnya masing masing. Kemudian di hasil dari kedua layer tersebut di gabungkan bersama dengan input yang awal untuk masuk layer terakhir sebelum layer output. Untuk lebih jelasnya silahkah lihat grafik dibawah."
      ]
    },
    {
      "cell_type": "code",
      "execution_count": 51,
      "metadata": {
        "colab": {
          "base_uri": "https://localhost:8080/",
          "height": 564
        },
        "id": "d1r73k1zeKCc",
        "outputId": "ba81b8e9-b509-4571-9f1f-ac3a583ae6d8"
      },
      "outputs": [
        {
          "data": {
            "image/png": "[encoded data removed]",
            "text/plain": [
              "<IPython.core.display.Image object>"
            ]
          },
          "execution_count": 51,
          "metadata": {},
          "output_type": "execute_result"
        }
      ],
      "source": [
        "tf.keras.utils.plot_model(model_func)"
      ]
    },
    {
      "cell_type": "markdown",
      "metadata": {
        "id": "a4PDpDh2mMOr"
      },
      "source": [
        "# Model Evaluation"
      ]
    },
    {
      "cell_type": "markdown",
      "metadata": {
        "id": "1Cwg7SXXOtGt"
      },
      "source": [
        "## Model Sequential"
      ]
    },
    {
      "cell_type": "code",
      "execution_count": 52,
      "metadata": {
        "id": "IB4nU_ZpmO90"
      },
      "outputs": [],
      "source": [
        "y_train_pred=model_seq.predict(X_train_batch)\n",
        "y_test_pred=model_seq.predict(X_test_batch)\n",
        "y_train_pred=np.where(y_train_pred>0.55,1,0)\n",
        "y_test_pred=np.where(y_test_pred>0.55,1,0)"
      ]
    },
    {
      "cell_type": "code",
      "execution_count": 53,
      "metadata": {
        "colab": {
          "base_uri": "https://localhost:8080/"
        },
        "id": "0XAczLRdNK67",
        "outputId": "1e14db18-7109-49c5-d214-37224cd080b0"
      },
      "outputs": [
        {
          "name": "stdout",
          "output_type": "stream",
          "text": [
            "              precision    recall  f1-score   support\n",
            "\n",
            "           0       0.82      0.93      0.87      3726\n",
            "           1       0.70      0.44      0.54      1347\n",
            "\n",
            "    accuracy                           0.80      5073\n",
            "   macro avg       0.76      0.68      0.71      5073\n",
            "weighted avg       0.79      0.80      0.78      5073\n",
            "\n",
            "              precision    recall  f1-score   support\n",
            "\n",
            "           0       0.81      0.94      0.87       773\n",
            "           1       0.71      0.41      0.52       281\n",
            "\n",
            "    accuracy                           0.80      1054\n",
            "   macro avg       0.76      0.67      0.70      1054\n",
            "weighted avg       0.79      0.80      0.78      1054\n",
            "\n"
          ]
        }
      ],
      "source": [
        "print(classification_report(y_train_final, y_train_pred))\n",
        "print(classification_report(y_test_final, y_test_pred))"
      ]
    },
    {
      "cell_type": "markdown",
      "metadata": {
        "id": "Sj6gC2h5OwI0"
      },
      "source": [
        "Model sequential merupakan model yang good fit karena memiliki accuracy score yang tidentik antara data train dan data test. Nmun jika kita melihat pada recall nilainya sangatlah kecil dan dapat dikategorikan sebagai model yang underfit."
      ]
    },
    {
      "cell_type": "markdown",
      "metadata": {
        "id": "XZnAh6C0PpsH"
      },
      "source": [
        "## Model Functional"
      ]
    },
    {
      "cell_type": "code",
      "execution_count": 54,
      "metadata": {
        "id": "69g2z0u4PpsI"
      },
      "outputs": [],
      "source": [
        "y_train_pred=model_func.predict(X_train_batch)\n",
        "y_test_pred=model_func.predict(X_test_batch)\n",
        "y_train_pred=np.where(y_train_pred>0.55,1,0)\n",
        "y_test_pred=np.where(y_test_pred>0.55,1,0)"
      ]
    },
    {
      "cell_type": "code",
      "execution_count": 55,
      "metadata": {
        "colab": {
          "base_uri": "https://localhost:8080/"
        },
        "id": "Or_ccNXWPpsJ",
        "outputId": "22634abe-57f3-4625-f3b1-2cb505c692d3"
      },
      "outputs": [
        {
          "name": "stdout",
          "output_type": "stream",
          "text": [
            "              precision    recall  f1-score   support\n",
            "\n",
            "           0       0.83      0.90      0.87      3726\n",
            "           1       0.66      0.50      0.57      1347\n",
            "\n",
            "    accuracy                           0.80      5073\n",
            "   macro avg       0.75      0.70      0.72      5073\n",
            "weighted avg       0.79      0.80      0.79      5073\n",
            "\n",
            "              precision    recall  f1-score   support\n",
            "\n",
            "           0       0.82      0.92      0.87       773\n",
            "           1       0.67      0.46      0.55       281\n",
            "\n",
            "    accuracy                           0.80      1054\n",
            "   macro avg       0.75      0.69      0.71      1054\n",
            "weighted avg       0.78      0.80      0.78      1054\n",
            "\n"
          ]
        }
      ],
      "source": [
        "print(classification_report(y_train_final, y_train_pred))\n",
        "print(classification_report(y_test_final, y_test_pred))"
      ]
    },
    {
      "cell_type": "markdown",
      "metadata": {
        "id": "gpDJb7nbP4VJ"
      },
      "source": [
        "Model functional memiliki kinerja yang tidak jauh berbeda dengan model sequantia. Namun jika dilihat dari nilai recall, kedua model merupakan model yang underfit.\n",
        "\n",
        "Improvement perlu dilakukan pada model ataupun data set dengan menambahkan dropout atau menggunakan smotenc untuk melakukan balancing data. Atau bisa juga dilakukan dengan ujicoba menggunakan machine learning untuk mendapatkan performa yang lebih baik."
      ]
    },
    {
      "cell_type": "markdown",
      "metadata": {
        "id": "rxVh2tei9JIJ"
      },
      "source": [
        "# Model Improvement"
      ]
    },
    {
      "cell_type": "markdown",
      "metadata": {
        "id": "PVj2wV8D9M1y"
      },
      "source": [
        "## Over Sampling"
      ]
    },
    {
      "cell_type": "markdown",
      "metadata": {
        "id": "yjrZZBKC9Rrr"
      },
      "source": [
        "Karena data merupakan data imbalance. Maka agar data menjadi data yang balance perlu dilakukan balancing data."
      ]
    },
    {
      "cell_type": "code",
      "execution_count": 56,
      "metadata": {
        "id": "JKL2SjPGB0ZU"
      },
      "outputs": [],
      "source": [
        "#resample dengan SMOTE NC\n",
        "X_train_final_smo, y_train_final_smo=SMOTENC(categorical_features=[2,3,4,5,6], random_state=0, k_neighbors=8).fit_resample(X_train_final, y_train_final)"
      ]
    },
    {
      "cell_type": "code",
      "execution_count": 57,
      "metadata": {
        "id": "0eWY-JLsFqeP"
      },
      "outputs": [],
      "source": [
        "#input pipeline data train\n",
        "X_train_batch_smo=tf.data.Dataset.from_tensor_slices((X_train_final_smo, y_train_final_smo))\n",
        "X_train_batch_smo=X_train_batch_smo.batch(64).cache().prefetch(tf.data.AUTOTUNE)"
      ]
    },
    {
      "cell_type": "code",
      "execution_count": 58,
      "metadata": {
        "id": "vszd-GLqC9zZ"
      },
      "outputs": [],
      "source": [
        "#membuat model sequntial\n",
        "model_seq2=tf.keras.Sequential([\n",
        "    tf.keras.layers.BatchNormalization(),\n",
        "    tf.keras.layers.Dense(7,input_shape=(len(feature_selected),),activation=\"tanh\", kernel_initializer=tf.keras.initializers.GlorotNormal()),\n",
        "    tf.keras.layers.BatchNormalization(),\n",
        "    tf.keras.layers.Dense(128, activation='relu'),\n",
        "    tf.keras.layers.BatchNormalization(),\n",
        "    tf.keras.layers.Dense(1,activation=\"sigmoid\")\n",
        "])\n",
        "\n",
        "model_seq2.compile(loss='binary_crossentropy',\n",
        "             optimizer=tf.keras.optimizers.Adam(),\n",
        "             metrics=[baccuracy])"
      ]
    },
    {
      "cell_type": "code",
      "execution_count": 59,
      "metadata": {
        "id": "p8Co9xDdEOiV"
      },
      "outputs": [],
      "source": [
        "#training model\n",
        "history=model_seq2.fit(X_train_batch_smo,\n",
        "        epochs=100,\n",
        "        validation_data=X_val_batch,\n",
        "        # callbacks = [tf.keras.callbacks.EarlyStopping(monitor='binary_accuracy', patience=10)],\n",
        "        verbose=0\n",
        "        )"
      ]
    },
    {
      "cell_type": "code",
      "execution_count": 60,
      "metadata": {
        "colab": {
          "base_uri": "https://localhost:8080/",
          "height": 320
        },
        "id": "4XVLQv7LE-J6",
        "outputId": "c45ca975-4a42-4d18-9359-5c910dccd196"
      },
      "outputs": [
        {
          "data": {
            "image/png": "[encoded data removed]",
            "text/plain": [
              "<Figure size 576x360 with 1 Axes>"
            ]
          },
          "metadata": {
            "needs_background": "light"
          },
          "output_type": "display_data"
        }
      ],
      "source": [
        "# show plot\n",
        "pd.DataFrame(history.history).plot(figsize=(8, 5))\n",
        "plt.grid(True)\n",
        "plt.show()"
      ]
    },
    {
      "cell_type": "markdown",
      "metadata": {
        "id": "Pt_dcbrvL8TO"
      },
      "source": [
        "Menggunakan over sampling tidak berhasil memperbaiki model. Yang terjadi justru terjadi explodng gradient problem. Perlu dilakukan percobaa lebih banyak seperti merubah activation function aatau menambahkan drop out dan lain sebagainya agar model dapat bekerja dengan lebih baik\n",
        "\n",
        "Berdasarkan yang telah dilakukan saya memutuskan menggunakan model sequence untuk digunakan pada sistem"
      ]
    },
    {
      "cell_type": "code",
      "execution_count": 61,
      "metadata": {
        "colab": {
          "base_uri": "https://localhost:8080/"
        },
        "id": "rn8Ngd_8Ocey",
        "outputId": "c33bf75b-8f88-45dc-b2d9-4da6516bf3e1"
      },
      "outputs": [
        {
          "name": "stdout",
          "output_type": "stream",
          "text": [
            "INFO:tensorflow:Assets written to: Churn/assets\n"
          ]
        }
      ],
      "source": [
        "model_seq.trainable=False\n",
        "model_seq.save('Churn')"
      ]
    },
    {
      "cell_type": "markdown",
      "metadata": {
        "id": "xMFj___ooXJm"
      },
      "source": [
        "# Model Inference"
      ]
    },
    {
      "cell_type": "markdown",
      "metadata": {
        "id": "QdS7lNGmrtV9"
      },
      "source": [
        "Hal yang pertama dilakukan adalah menyiapkan data agar siap diterima oleh model. Dalam meyiapkan data hanya perlu melakukan transform dengan menggunakan `preprocessor final`. Data yang telah disiapkan bisa langsung di prediksi oleh model yang telah dibuat."
      ]
    },
    {
      "cell_type": "code",
      "execution_count": 62,
      "metadata": {
        "id": "twemIOK-omA6"
      },
      "outputs": [],
      "source": [
        "#meyiapkan data\n",
        "data_inf_final=preprocessor_final.transform(data_inf)"
      ]
    },
    {
      "cell_type": "code",
      "execution_count": 63,
      "metadata": {
        "id": "dIBcrHS9qDb5"
      },
      "outputs": [],
      "source": [
        "# melakukan prediksi\n",
        "pred_seq=model_seq.predict(data_inf_final)\n",
        "pred_func=model_func.predict(data_inf_final)\n",
        "pred_seq=np.where(pred_seq>0.55,'Yes','No')\n",
        "pred_func=np.where(pred_func>0.55,'Yes','No')"
      ]
    },
    {
      "cell_type": "code",
      "execution_count": 64,
      "metadata": {
        "colab": {
          "base_uri": "https://localhost:8080/",
          "height": 1000
        },
        "id": "YpyQZVXfqVg3",
        "outputId": "01b12b30-57c1-48f1-bd89-61da2a6579e9"
      },
      "outputs": [
        {
          "data": {
            "text/html": [
              "\n",
              "  <div id=\"df-79c0b0a6-dbca-4cc7-acab-37262d1cef34\">\n",
              "    <div class=\"colab-df-container\">\n",
              "      <div>\n",
              "<style scoped>\n",
              "    .dataframe tbody tr th:only-of-type {\n",
              "        vertical-align: middle;\n",
              "    }\n",
              "\n",
              "    .dataframe tbody tr th {\n",
              "        vertical-align: top;\n",
              "    }\n",
              "\n",
              "    .dataframe thead th {\n",
              "        text-align: right;\n",
              "    }\n",
              "</style>\n",
              "<table border=\"1\" class=\"dataframe\">\n",
              "  <thead>\n",
              "    <tr style=\"text-align: right;\">\n",
              "      <th></th>\n",
              "      <th>customerID</th>\n",
              "      <th>gender</th>\n",
              "      <th>SeniorCitizen</th>\n",
              "      <th>Partner</th>\n",
              "      <th>Dependents</th>\n",
              "      <th>tenure</th>\n",
              "      <th>PhoneService</th>\n",
              "      <th>MultipleLines</th>\n",
              "      <th>InternetService</th>\n",
              "      <th>OnlineSecurity</th>\n",
              "      <th>...</th>\n",
              "      <th>StreamingTV</th>\n",
              "      <th>StreamingMovies</th>\n",
              "      <th>Contract</th>\n",
              "      <th>PaperlessBilling</th>\n",
              "      <th>PaymentMethod</th>\n",
              "      <th>MonthlyCharges</th>\n",
              "      <th>TotalCharges</th>\n",
              "      <th>Churn</th>\n",
              "      <th>Predict Sequential</th>\n",
              "      <th>Predict Functional</th>\n",
              "    </tr>\n",
              "  </thead>\n",
              "  <tbody>\n",
              "    <tr>\n",
              "      <th>2200</th>\n",
              "      <td>6296-DDOOR</td>\n",
              "      <td>Female</td>\n",
              "      <td>0</td>\n",
              "      <td>No</td>\n",
              "      <td>No</td>\n",
              "      <td>19</td>\n",
              "      <td>Yes</td>\n",
              "      <td>No</td>\n",
              "      <td>DSL</td>\n",
              "      <td>No</td>\n",
              "      <td>...</td>\n",
              "      <td>Yes</td>\n",
              "      <td>No</td>\n",
              "      <td>One year</td>\n",
              "      <td>No</td>\n",
              "      <td>Electronic check</td>\n",
              "      <td>58.20</td>\n",
              "      <td>1045.25</td>\n",
              "      <td>No</td>\n",
              "      <td>No</td>\n",
              "      <td>No</td>\n",
              "    </tr>\n",
              "    <tr>\n",
              "      <th>4627</th>\n",
              "      <td>3680-CTHUH</td>\n",
              "      <td>Male</td>\n",
              "      <td>0</td>\n",
              "      <td>No</td>\n",
              "      <td>No</td>\n",
              "      <td>60</td>\n",
              "      <td>Yes</td>\n",
              "      <td>Yes</td>\n",
              "      <td>Fiber optic</td>\n",
              "      <td>Yes</td>\n",
              "      <td>...</td>\n",
              "      <td>Yes</td>\n",
              "      <td>Yes</td>\n",
              "      <td>One year</td>\n",
              "      <td>Yes</td>\n",
              "      <td>Credit card (automatic)</td>\n",
              "      <td>116.60</td>\n",
              "      <td>7049.50</td>\n",
              "      <td>No</td>\n",
              "      <td>No</td>\n",
              "      <td>No</td>\n",
              "    </tr>\n",
              "    <tr>\n",
              "      <th>3225</th>\n",
              "      <td>4931-TRZWN</td>\n",
              "      <td>Female</td>\n",
              "      <td>0</td>\n",
              "      <td>No</td>\n",
              "      <td>No</td>\n",
              "      <td>13</td>\n",
              "      <td>Yes</td>\n",
              "      <td>No</td>\n",
              "      <td>DSL</td>\n",
              "      <td>Yes</td>\n",
              "      <td>...</td>\n",
              "      <td>Yes</td>\n",
              "      <td>Yes</td>\n",
              "      <td>Month-to-month</td>\n",
              "      <td>Yes</td>\n",
              "      <td>Electronic check</td>\n",
              "      <td>71.95</td>\n",
              "      <td>923.85</td>\n",
              "      <td>No</td>\n",
              "      <td>No</td>\n",
              "      <td>No</td>\n",
              "    </tr>\n",
              "    <tr>\n",
              "      <th>2828</th>\n",
              "      <td>8559-WNQZS</td>\n",
              "      <td>Male</td>\n",
              "      <td>0</td>\n",
              "      <td>No</td>\n",
              "      <td>No</td>\n",
              "      <td>1</td>\n",
              "      <td>Yes</td>\n",
              "      <td>No</td>\n",
              "      <td>No</td>\n",
              "      <td>No</td>\n",
              "      <td>...</td>\n",
              "      <td>No</td>\n",
              "      <td>No</td>\n",
              "      <td>Two year</td>\n",
              "      <td>No</td>\n",
              "      <td>Mailed check</td>\n",
              "      <td>20.45</td>\n",
              "      <td>20.45</td>\n",
              "      <td>No</td>\n",
              "      <td>No</td>\n",
              "      <td>No</td>\n",
              "    </tr>\n",
              "    <tr>\n",
              "      <th>3768</th>\n",
              "      <td>3537-HPKQT</td>\n",
              "      <td>Female</td>\n",
              "      <td>0</td>\n",
              "      <td>Yes</td>\n",
              "      <td>No</td>\n",
              "      <td>55</td>\n",
              "      <td>Yes</td>\n",
              "      <td>Yes</td>\n",
              "      <td>Fiber optic</td>\n",
              "      <td>No</td>\n",
              "      <td>...</td>\n",
              "      <td>No</td>\n",
              "      <td>No</td>\n",
              "      <td>Month-to-month</td>\n",
              "      <td>Yes</td>\n",
              "      <td>Credit card (automatic)</td>\n",
              "      <td>77.75</td>\n",
              "      <td>4266.40</td>\n",
              "      <td>No</td>\n",
              "      <td>No</td>\n",
              "      <td>No</td>\n",
              "    </tr>\n",
              "    <tr>\n",
              "      <th>4446</th>\n",
              "      <td>6161-UUUTA</td>\n",
              "      <td>Male</td>\n",
              "      <td>1</td>\n",
              "      <td>No</td>\n",
              "      <td>No</td>\n",
              "      <td>3</td>\n",
              "      <td>Yes</td>\n",
              "      <td>No</td>\n",
              "      <td>Fiber optic</td>\n",
              "      <td>No</td>\n",
              "      <td>...</td>\n",
              "      <td>Yes</td>\n",
              "      <td>No</td>\n",
              "      <td>Month-to-month</td>\n",
              "      <td>Yes</td>\n",
              "      <td>Electronic check</td>\n",
              "      <td>79.90</td>\n",
              "      <td>260.90</td>\n",
              "      <td>Yes</td>\n",
              "      <td>Yes</td>\n",
              "      <td>Yes</td>\n",
              "    </tr>\n",
              "    <tr>\n",
              "      <th>2234</th>\n",
              "      <td>4500-HKANN</td>\n",
              "      <td>Male</td>\n",
              "      <td>0</td>\n",
              "      <td>Yes</td>\n",
              "      <td>Yes</td>\n",
              "      <td>23</td>\n",
              "      <td>Yes</td>\n",
              "      <td>Yes</td>\n",
              "      <td>DSL</td>\n",
              "      <td>No</td>\n",
              "      <td>...</td>\n",
              "      <td>No</td>\n",
              "      <td>No</td>\n",
              "      <td>Two year</td>\n",
              "      <td>No</td>\n",
              "      <td>Mailed check</td>\n",
              "      <td>59.70</td>\n",
              "      <td>1414.20</td>\n",
              "      <td>No</td>\n",
              "      <td>No</td>\n",
              "      <td>No</td>\n",
              "    </tr>\n",
              "    <tr>\n",
              "      <th>5454</th>\n",
              "      <td>2506-TNFCO</td>\n",
              "      <td>Female</td>\n",
              "      <td>1</td>\n",
              "      <td>Yes</td>\n",
              "      <td>No</td>\n",
              "      <td>1</td>\n",
              "      <td>Yes</td>\n",
              "      <td>No</td>\n",
              "      <td>Fiber optic</td>\n",
              "      <td>No</td>\n",
              "      <td>...</td>\n",
              "      <td>No</td>\n",
              "      <td>No</td>\n",
              "      <td>Month-to-month</td>\n",
              "      <td>Yes</td>\n",
              "      <td>Electronic check</td>\n",
              "      <td>69.55</td>\n",
              "      <td>69.55</td>\n",
              "      <td>Yes</td>\n",
              "      <td>Yes</td>\n",
              "      <td>Yes</td>\n",
              "    </tr>\n",
              "    <tr>\n",
              "      <th>1278</th>\n",
              "      <td>4730-AWNAU</td>\n",
              "      <td>Male</td>\n",
              "      <td>0</td>\n",
              "      <td>Yes</td>\n",
              "      <td>Yes</td>\n",
              "      <td>36</td>\n",
              "      <td>No</td>\n",
              "      <td>No</td>\n",
              "      <td>DSL</td>\n",
              "      <td>Yes</td>\n",
              "      <td>...</td>\n",
              "      <td>Yes</td>\n",
              "      <td>Yes</td>\n",
              "      <td>One year</td>\n",
              "      <td>No</td>\n",
              "      <td>Credit card (automatic)</td>\n",
              "      <td>60.70</td>\n",
              "      <td>2234.55</td>\n",
              "      <td>No</td>\n",
              "      <td>No</td>\n",
              "      <td>No</td>\n",
              "    </tr>\n",
              "    <tr>\n",
              "      <th>578</th>\n",
              "      <td>6522-YRBXD</td>\n",
              "      <td>Male</td>\n",
              "      <td>1</td>\n",
              "      <td>Yes</td>\n",
              "      <td>No</td>\n",
              "      <td>35</td>\n",
              "      <td>Yes</td>\n",
              "      <td>Yes</td>\n",
              "      <td>Fiber optic</td>\n",
              "      <td>Yes</td>\n",
              "      <td>...</td>\n",
              "      <td>No</td>\n",
              "      <td>Yes</td>\n",
              "      <td>Month-to-month</td>\n",
              "      <td>Yes</td>\n",
              "      <td>Electronic check</td>\n",
              "      <td>94.55</td>\n",
              "      <td>3365.40</td>\n",
              "      <td>No</td>\n",
              "      <td>No</td>\n",
              "      <td>No</td>\n",
              "    </tr>\n",
              "    <tr>\n",
              "      <th>5960</th>\n",
              "      <td>2957-JIRMN</td>\n",
              "      <td>Female</td>\n",
              "      <td>1</td>\n",
              "      <td>No</td>\n",
              "      <td>No</td>\n",
              "      <td>62</td>\n",
              "      <td>Yes</td>\n",
              "      <td>Yes</td>\n",
              "      <td>Fiber optic</td>\n",
              "      <td>No</td>\n",
              "      <td>...</td>\n",
              "      <td>Yes</td>\n",
              "      <td>No</td>\n",
              "      <td>One year</td>\n",
              "      <td>No</td>\n",
              "      <td>Electronic check</td>\n",
              "      <td>84.45</td>\n",
              "      <td>4959.15</td>\n",
              "      <td>No</td>\n",
              "      <td>No</td>\n",
              "      <td>No</td>\n",
              "    </tr>\n",
              "    <tr>\n",
              "      <th>521</th>\n",
              "      <td>4109-CYRBD</td>\n",
              "      <td>Male</td>\n",
              "      <td>1</td>\n",
              "      <td>Yes</td>\n",
              "      <td>No</td>\n",
              "      <td>29</td>\n",
              "      <td>Yes</td>\n",
              "      <td>Yes</td>\n",
              "      <td>DSL</td>\n",
              "      <td>No</td>\n",
              "      <td>...</td>\n",
              "      <td>No</td>\n",
              "      <td>No</td>\n",
              "      <td>Month-to-month</td>\n",
              "      <td>Yes</td>\n",
              "      <td>Electronic check</td>\n",
              "      <td>51.60</td>\n",
              "      <td>1442.00</td>\n",
              "      <td>No</td>\n",
              "      <td>No</td>\n",
              "      <td>No</td>\n",
              "    </tr>\n",
              "    <tr>\n",
              "      <th>217</th>\n",
              "      <td>0230-WEQUW</td>\n",
              "      <td>Male</td>\n",
              "      <td>0</td>\n",
              "      <td>Yes</td>\n",
              "      <td>No</td>\n",
              "      <td>66</td>\n",
              "      <td>No</td>\n",
              "      <td>No</td>\n",
              "      <td>DSL</td>\n",
              "      <td>Yes</td>\n",
              "      <td>...</td>\n",
              "      <td>Yes</td>\n",
              "      <td>No</td>\n",
              "      <td>Two year</td>\n",
              "      <td>Yes</td>\n",
              "      <td>Bank transfer (automatic)</td>\n",
              "      <td>56.60</td>\n",
              "      <td>3789.20</td>\n",
              "      <td>No</td>\n",
              "      <td>No</td>\n",
              "      <td>No</td>\n",
              "    </tr>\n",
              "    <tr>\n",
              "      <th>5716</th>\n",
              "      <td>8903-XEBGX</td>\n",
              "      <td>Male</td>\n",
              "      <td>0</td>\n",
              "      <td>No</td>\n",
              "      <td>Yes</td>\n",
              "      <td>2</td>\n",
              "      <td>Yes</td>\n",
              "      <td>No</td>\n",
              "      <td>DSL</td>\n",
              "      <td>No</td>\n",
              "      <td>...</td>\n",
              "      <td>No</td>\n",
              "      <td>Yes</td>\n",
              "      <td>Month-to-month</td>\n",
              "      <td>Yes</td>\n",
              "      <td>Electronic check</td>\n",
              "      <td>55.30</td>\n",
              "      <td>108.65</td>\n",
              "      <td>No</td>\n",
              "      <td>No</td>\n",
              "      <td>Yes</td>\n",
              "    </tr>\n",
              "    <tr>\n",
              "      <th>202</th>\n",
              "      <td>3363-DTIVD</td>\n",
              "      <td>Male</td>\n",
              "      <td>0</td>\n",
              "      <td>Yes</td>\n",
              "      <td>Yes</td>\n",
              "      <td>71</td>\n",
              "      <td>Yes</td>\n",
              "      <td>Yes</td>\n",
              "      <td>Fiber optic</td>\n",
              "      <td>Yes</td>\n",
              "      <td>...</td>\n",
              "      <td>Yes</td>\n",
              "      <td>Yes</td>\n",
              "      <td>Two year</td>\n",
              "      <td>No</td>\n",
              "      <td>Electronic check</td>\n",
              "      <td>105.55</td>\n",
              "      <td>7405.50</td>\n",
              "      <td>No</td>\n",
              "      <td>No</td>\n",
              "      <td>No</td>\n",
              "    </tr>\n",
              "    <tr>\n",
              "      <th>134</th>\n",
              "      <td>2372-HWUHI</td>\n",
              "      <td>Male</td>\n",
              "      <td>0</td>\n",
              "      <td>No</td>\n",
              "      <td>No</td>\n",
              "      <td>2</td>\n",
              "      <td>Yes</td>\n",
              "      <td>No</td>\n",
              "      <td>DSL</td>\n",
              "      <td>No</td>\n",
              "      <td>...</td>\n",
              "      <td>No</td>\n",
              "      <td>No</td>\n",
              "      <td>Month-to-month</td>\n",
              "      <td>No</td>\n",
              "      <td>Electronic check</td>\n",
              "      <td>44.35</td>\n",
              "      <td>81.25</td>\n",
              "      <td>Yes</td>\n",
              "      <td>No</td>\n",
              "      <td>Yes</td>\n",
              "    </tr>\n",
              "    <tr>\n",
              "      <th>154</th>\n",
              "      <td>3077-RSNTJ</td>\n",
              "      <td>Female</td>\n",
              "      <td>0</td>\n",
              "      <td>Yes</td>\n",
              "      <td>Yes</td>\n",
              "      <td>6</td>\n",
              "      <td>Yes</td>\n",
              "      <td>No</td>\n",
              "      <td>No</td>\n",
              "      <td>No</td>\n",
              "      <td>...</td>\n",
              "      <td>No</td>\n",
              "      <td>No</td>\n",
              "      <td>Month-to-month</td>\n",
              "      <td>No</td>\n",
              "      <td>Mailed check</td>\n",
              "      <td>19.70</td>\n",
              "      <td>113.50</td>\n",
              "      <td>No</td>\n",
              "      <td>No</td>\n",
              "      <td>No</td>\n",
              "    </tr>\n",
              "    <tr>\n",
              "      <th>4486</th>\n",
              "      <td>7251-XFOIL</td>\n",
              "      <td>Female</td>\n",
              "      <td>0</td>\n",
              "      <td>No</td>\n",
              "      <td>No</td>\n",
              "      <td>61</td>\n",
              "      <td>Yes</td>\n",
              "      <td>Yes</td>\n",
              "      <td>Fiber optic</td>\n",
              "      <td>No</td>\n",
              "      <td>...</td>\n",
              "      <td>No</td>\n",
              "      <td>Yes</td>\n",
              "      <td>Month-to-month</td>\n",
              "      <td>No</td>\n",
              "      <td>Mailed check</td>\n",
              "      <td>89.20</td>\n",
              "      <td>5500.60</td>\n",
              "      <td>No</td>\n",
              "      <td>No</td>\n",
              "      <td>No</td>\n",
              "    </tr>\n",
              "    <tr>\n",
              "      <th>3283</th>\n",
              "      <td>1085-LDWAM</td>\n",
              "      <td>Female</td>\n",
              "      <td>0</td>\n",
              "      <td>Yes</td>\n",
              "      <td>Yes</td>\n",
              "      <td>69</td>\n",
              "      <td>Yes</td>\n",
              "      <td>No</td>\n",
              "      <td>No</td>\n",
              "      <td>No</td>\n",
              "      <td>...</td>\n",
              "      <td>No</td>\n",
              "      <td>No</td>\n",
              "      <td>One year</td>\n",
              "      <td>Yes</td>\n",
              "      <td>Credit card (automatic)</td>\n",
              "      <td>20.35</td>\n",
              "      <td>1442.65</td>\n",
              "      <td>No</td>\n",
              "      <td>No</td>\n",
              "      <td>No</td>\n",
              "    </tr>\n",
              "    <tr>\n",
              "      <th>3731</th>\n",
              "      <td>2897-DOVND</td>\n",
              "      <td>Male</td>\n",
              "      <td>0</td>\n",
              "      <td>No</td>\n",
              "      <td>No</td>\n",
              "      <td>2</td>\n",
              "      <td>Yes</td>\n",
              "      <td>No</td>\n",
              "      <td>Fiber optic</td>\n",
              "      <td>No</td>\n",
              "      <td>...</td>\n",
              "      <td>No</td>\n",
              "      <td>No</td>\n",
              "      <td>Month-to-month</td>\n",
              "      <td>Yes</td>\n",
              "      <td>Electronic check</td>\n",
              "      <td>69.80</td>\n",
              "      <td>146.65</td>\n",
              "      <td>No</td>\n",
              "      <td>Yes</td>\n",
              "      <td>Yes</td>\n",
              "    </tr>\n",
              "  </tbody>\n",
              "</table>\n",
              "<p>20 rows × 23 columns</p>\n",
              "</div>\n",
              "      <button class=\"colab-df-convert\" onclick=\"convertToInteractive('df-79c0b0a6-dbca-4cc7-acab-37262d1cef34')\"\n",
              "              title=\"Convert this dataframe to an interactive table.\"\n",
              "              style=\"display:none;\">\n",
              "        \n",
              "  <svg xmlns=\"http://www.w3.org/2000/svg\" height=\"24px\"viewBox=\"0 0 24 24\"\n",
              "       width=\"24px\">\n",
              "    <path d=\"M0 0h24v24H0V0z\" fill=\"none\"/>\n",
              "    <path d=\"M18.56 5.44l.94 2.06.94-2.06 2.06-.94-2.06-.94-.94-2.06-.94 2.06-2.06.94zm-11 1L8.5 8.5l.94-2.06 2.06-.94-2.06-.94L8.5 2.5l-.94 2.06-2.06.94zm10 10l.94 2.06.94-2.06 2.06-.94-2.06-.94-.94-2.06-.94 2.06-2.06.94z\"/><path d=\"M17.41 7.96l-1.37-1.37c-.4-.4-.92-.59-1.43-.59-.52 0-1.04.2-1.43.59L10.3 9.45l-7.72 7.72c-.78.78-.78 2.05 0 2.83L4 21.41c.39.39.9.59 1.41.59.51 0 1.02-.2 1.41-.59l7.78-7.78 2.81-2.81c.8-.78.8-2.07 0-2.86zM5.41 20L4 18.59l7.72-7.72 1.47 1.35L5.41 20z\"/>\n",
              "  </svg>\n",
              "      </button>\n",
              "      \n",
              "  <style>\n",
              "    .colab-df-container {\n",
              "      display:flex;\n",
              "      flex-wrap:wrap;\n",
              "      gap: 12px;\n",
              "    }\n",
              "\n",
              "    .colab-df-convert {\n",
              "      background-color: #E8F0FE;\n",
              "      border: none;\n",
              "      border-radius: 50%;\n",
              "      cursor: pointer;\n",
              "      display: none;\n",
              "      fill: #1967D2;\n",
              "      height: 32px;\n",
              "      padding: 0 0 0 0;\n",
              "      width: 32px;\n",
              "    }\n",
              "\n",
              "    .colab-df-convert:hover {\n",
              "      background-color: #E2EBFA;\n",
              "      box-shadow: 0px 1px 2px rgba(60, 64, 67, 0.3), 0px 1px 3px 1px rgba(60, 64, 67, 0.15);\n",
              "      fill: #174EA6;\n",
              "    }\n",
              "\n",
              "    [theme=dark] .colab-df-convert {\n",
              "      background-color: #3B4455;\n",
              "      fill: #D2E3FC;\n",
              "    }\n",
              "\n",
              "    [theme=dark] .colab-df-convert:hover {\n",
              "      background-color: #434B5C;\n",
              "      box-shadow: 0px 1px 3px 1px rgba(0, 0, 0, 0.15);\n",
              "      filter: drop-shadow(0px 1px 2px rgba(0, 0, 0, 0.3));\n",
              "      fill: #FFFFFF;\n",
              "    }\n",
              "  </style>\n",
              "\n",
              "      <script>\n",
              "        const buttonEl =\n",
              "          document.querySelector('#df-79c0b0a6-dbca-4cc7-acab-37262d1cef34 button.colab-df-convert');\n",
              "        buttonEl.style.display =\n",
              "          google.colab.kernel.accessAllowed ? 'block' : 'none';\n",
              "\n",
              "        async function convertToInteractive(key) {\n",
              "          const element = document.querySelector('#df-79c0b0a6-dbca-4cc7-acab-37262d1cef34');\n",
              "          const dataTable =\n",
              "            await google.colab.kernel.invokeFunction('convertToInteractive',\n",
              "                                                     [key], {});\n",
              "          if (!dataTable) return;\n",
              "\n",
              "          const docLinkHtml = 'Like what you see? Visit the ' +\n",
              "            '<a target=\"_blank\" href=https://colab.research.google.com/notebooks/data_table.ipynb>data table notebook</a>'\n",
              "            + ' to learn more about interactive tables.';\n",
              "          element.innerHTML = '';\n",
              "          dataTable['output_type'] = 'display_data';\n",
              "          await google.colab.output.renderOutput(dataTable, element);\n",
              "          const docLink = document.createElement('div');\n",
              "          docLink.innerHTML = docLinkHtml;\n",
              "          element.appendChild(docLink);\n",
              "        }\n",
              "      </script>\n",
              "    </div>\n",
              "  </div>\n",
              "  "
            ],
            "text/plain": [
              "      customerID  gender  SeniorCitizen Partner Dependents  tenure  \\\n",
              "2200  6296-DDOOR  Female              0      No         No      19   \n",
              "4627  3680-CTHUH    Male              0      No         No      60   \n",
              "3225  4931-TRZWN  Female              0      No         No      13   \n",
              "2828  8559-WNQZS    Male              0      No         No       1   \n",
              "3768  3537-HPKQT  Female              0     Yes         No      55   \n",
              "4446  6161-UUUTA    Male              1      No         No       3   \n",
              "2234  4500-HKANN    Male              0     Yes        Yes      23   \n",
              "5454  2506-TNFCO  Female              1     Yes         No       1   \n",
              "1278  4730-AWNAU    Male              0     Yes        Yes      36   \n",
              "578   6522-YRBXD    Male              1     Yes         No      35   \n",
              "5960  2957-JIRMN  Female              1      No         No      62   \n",
              "521   4109-CYRBD    Male              1     Yes         No      29   \n",
              "217   0230-WEQUW    Male              0     Yes         No      66   \n",
              "5716  8903-XEBGX    Male              0      No        Yes       2   \n",
              "202   3363-DTIVD    Male              0     Yes        Yes      71   \n",
              "134   2372-HWUHI    Male              0      No         No       2   \n",
              "154   3077-RSNTJ  Female              0     Yes        Yes       6   \n",
              "4486  7251-XFOIL  Female              0      No         No      61   \n",
              "3283  1085-LDWAM  Female              0     Yes        Yes      69   \n",
              "3731  2897-DOVND    Male              0      No         No       2   \n",
              "\n",
              "     PhoneService MultipleLines InternetService OnlineSecurity  ...  \\\n",
              "2200          Yes            No             DSL             No  ...   \n",
              "4627          Yes           Yes     Fiber optic            Yes  ...   \n",
              "3225          Yes            No             DSL            Yes  ...   \n",
              "2828          Yes            No              No             No  ...   \n",
              "3768          Yes           Yes     Fiber optic             No  ...   \n",
              "4446          Yes            No     Fiber optic             No  ...   \n",
              "2234          Yes           Yes             DSL             No  ...   \n",
              "5454          Yes            No     Fiber optic             No  ...   \n",
              "1278           No            No             DSL            Yes  ...   \n",
              "578           Yes           Yes     Fiber optic            Yes  ...   \n",
              "5960          Yes           Yes     Fiber optic             No  ...   \n",
              "521           Yes           Yes             DSL             No  ...   \n",
              "217            No            No             DSL            Yes  ...   \n",
              "5716          Yes            No             DSL             No  ...   \n",
              "202           Yes           Yes     Fiber optic            Yes  ...   \n",
              "134           Yes            No             DSL             No  ...   \n",
              "154           Yes            No              No             No  ...   \n",
              "4486          Yes           Yes     Fiber optic             No  ...   \n",
              "3283          Yes            No              No             No  ...   \n",
              "3731          Yes            No     Fiber optic             No  ...   \n",
              "\n",
              "     StreamingTV StreamingMovies        Contract PaperlessBilling  \\\n",
              "2200         Yes              No        One year               No   \n",
              "4627         Yes             Yes        One year              Yes   \n",
              "3225         Yes             Yes  Month-to-month              Yes   \n",
              "2828          No              No        Two year               No   \n",
              "3768          No              No  Month-to-month              Yes   \n",
              "4446         Yes              No  Month-to-month              Yes   \n",
              "2234          No              No        Two year               No   \n",
              "5454          No              No  Month-to-month              Yes   \n",
              "1278         Yes             Yes        One year               No   \n",
              "578           No             Yes  Month-to-month              Yes   \n",
              "5960         Yes              No        One year               No   \n",
              "521           No              No  Month-to-month              Yes   \n",
              "217          Yes              No        Two year              Yes   \n",
              "5716          No             Yes  Month-to-month              Yes   \n",
              "202          Yes             Yes        Two year               No   \n",
              "134           No              No  Month-to-month               No   \n",
              "154           No              No  Month-to-month               No   \n",
              "4486          No             Yes  Month-to-month               No   \n",
              "3283          No              No        One year              Yes   \n",
              "3731          No              No  Month-to-month              Yes   \n",
              "\n",
              "                  PaymentMethod MonthlyCharges TotalCharges Churn  \\\n",
              "2200           Electronic check          58.20      1045.25    No   \n",
              "4627    Credit card (automatic)         116.60      7049.50    No   \n",
              "3225           Electronic check          71.95       923.85    No   \n",
              "2828               Mailed check          20.45        20.45    No   \n",
              "3768    Credit card (automatic)          77.75      4266.40    No   \n",
              "4446           Electronic check          79.90       260.90   Yes   \n",
              "2234               Mailed check          59.70      1414.20    No   \n",
              "5454           Electronic check          69.55        69.55   Yes   \n",
              "1278    Credit card (automatic)          60.70      2234.55    No   \n",
              "578            Electronic check          94.55      3365.40    No   \n",
              "5960           Electronic check          84.45      4959.15    No   \n",
              "521            Electronic check          51.60      1442.00    No   \n",
              "217   Bank transfer (automatic)          56.60      3789.20    No   \n",
              "5716           Electronic check          55.30       108.65    No   \n",
              "202            Electronic check         105.55      7405.50    No   \n",
              "134            Electronic check          44.35        81.25   Yes   \n",
              "154                Mailed check          19.70       113.50    No   \n",
              "4486               Mailed check          89.20      5500.60    No   \n",
              "3283    Credit card (automatic)          20.35      1442.65    No   \n",
              "3731           Electronic check          69.80       146.65    No   \n",
              "\n",
              "      Predict Sequential  Predict Functional  \n",
              "2200                  No                  No  \n",
              "4627                  No                  No  \n",
              "3225                  No                  No  \n",
              "2828                  No                  No  \n",
              "3768                  No                  No  \n",
              "4446                 Yes                 Yes  \n",
              "2234                  No                  No  \n",
              "5454                 Yes                 Yes  \n",
              "1278                  No                  No  \n",
              "578                   No                  No  \n",
              "5960                  No                  No  \n",
              "521                   No                  No  \n",
              "217                   No                  No  \n",
              "5716                  No                 Yes  \n",
              "202                   No                  No  \n",
              "134                   No                 Yes  \n",
              "154                   No                  No  \n",
              "4486                  No                  No  \n",
              "3283                  No                  No  \n",
              "3731                 Yes                 Yes  \n",
              "\n",
              "[20 rows x 23 columns]"
            ]
          },
          "execution_count": 64,
          "metadata": {},
          "output_type": "execute_result"
        }
      ],
      "source": [
        "# memasukkan hasil prediksi ke data inference\n",
        "data_inf['Predict Sequential']=pred_seq\n",
        "data_inf['Predict Functional']=pred_func\n",
        "data_inf"
      ]
    },
    {
      "cell_type": "markdown",
      "metadata": {
        "id": "I2MA98EirpEf"
      },
      "source": [
        "Model Sequential berhasil melakukan prediksi dengan tepat sebanyak 18 dari 20 data merupakan false positive dab 1 false negative. Model Functional juga memprediksi dengan benar 18 data dan keduanya adalah false positive."
      ]
    },
    {
      "cell_type": "markdown",
      "metadata": {
        "id": "ay8BfkxNQVPJ"
      },
      "source": [
        "# Kesimpulan"
      ]
    },
    {
      "cell_type": "markdown",
      "metadata": {
        "id": "WgiiEiUtQX5h"
      },
      "source": [
        "Model yang dibuat pada kasus ini adalah model yang dapat melakukan prediksi terhadap data apakah pelanggan akan churn atau tidak. pelanggan churn memiliki beberapa karakteristik, yaitu sebagian besar terjadi pada pelanggan dengan tenure sebentar. Selain itu metode pembayaran juga cukup berpengaruh pada konsumen. Pelanggan dengan metode pembayaran electronic check adalah pelanggan yang paling banyak churn. Sehingga pelanggan bisa mengalihkan pelanggan untuk menggunakan metode pembayaran yang memiliki fitur automatic. Karena pada metode pembayaran tersebut pelanggan sedikit yang churn. Hal itu bisa saja disebabkan karena kemudahan pembayaran menjadi pemicu pelanggan lebih loyal. Selain mengalihkan metode pembayaran, marketing juga bisa mencari pelanggan baru yang sudah terbiasa menggunakan metode pembayaran yang memiliki fitur otomatic pyments. Iklan iklan yang ditayangkan juga bisa diarahkan kepada calon konsumen dengan karakter yang memiliki model pembayaran otomatis. Insight lain yang didapatkan adalah semakin lama kontrak yang dibuat bersama konsumen semakin kecil ratio konsumen yang churn. Perusahaan dapat memberika promo lebih besar kepada konsumen yang memiliki kontrak lebih untuk kontak yang berjangka panjang agar konsumen lebih tergiur kepada kontrak jangka panjang.\n",
        "\n",
        "2 Model telah berhasil dibuat, yaitu model sequential dan model `functional`. kedua model goodfit jika ditinjau pada hasil accuracynya dan under fit jika dilihat dari skor recall. Performa dari kedua model juga tidak lah jauh berbeda namun model `Functional` sedikit lebih baik jika ditinjau dari skor accuracynya karena memiliki nilai accuracy yang identik. Fitur yang dipilih untu melakukan training pada model adalah `MonthlyCharges`, `TotalCharges`, `Contract`, `PaymentMethod`,`InternetService`, `PaperlessBilling`, `TechSupport`"
      ]
    }
  ],
  "metadata": {
    "accelerator": "GPU",
    "colab": {
      "collapsed_sections": [],
      "name": "Copy of h8dsft_Milestone1P2_wahyudi.ipynb",
      "provenance": []
    },
    "gpuClass": "standard",
    "kernelspec": {
      "display_name": "Python 3.9.12 ('base')",
      "language": "python",
      "name": "python3"
    },
    "language_info": {
      "codemirror_mode": {
        "name": "ipython",
        "version": 3
      },
      "file_extension": ".py",
      "mimetype": "text/x-python",
      "name": "python",
      "nbconvert_exporter": "python",
      "pygments_lexer": "ipython3",
      "version": "3.9.12"
    },
    "orig_nbformat": 4,
    "vscode": {
      "interpreter": {
        "hash": "9048cbf2aa5c5605910089358556f0bf71534cc3a4ea7c995cde1c5f16d23cd7"
      }
    }
  },
  "nbformat": 4,
  "nbformat_minor": 0
}
