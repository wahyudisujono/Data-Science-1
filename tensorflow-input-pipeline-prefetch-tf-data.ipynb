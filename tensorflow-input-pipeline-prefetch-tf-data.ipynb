{
 "cells": [
  {
   "cell_type": "code",
   "execution_count": 1,
   "id": "592aefc9",
   "metadata": {
    "execution": {
     "iopub.execute_input": "2022-07-12T15:45:32.262991Z",
     "iopub.status.busy": "2022-07-12T15:45:32.261226Z",
     "iopub.status.idle": "2022-07-12T15:45:39.326687Z",
     "shell.execute_reply": "2022-07-12T15:45:39.327337Z",
     "shell.execute_reply.started": "2022-07-12T14:21:41.861961Z"
    },
    "papermill": {
     "duration": 7.10769,
     "end_time": "2022-07-12T15:45:39.327689",
     "exception": false,
     "start_time": "2022-07-12T15:45:32.219999",
     "status": "completed"
    },
    "tags": []
   },
   "outputs": [],
   "source": [
    "from sklearn.model_selection import train_test_split\n",
    "from sklearn.preprocessing import OneHotEncoder\n",
    "import numpy as np \n",
    "import pandas as pd \n",
    "import matplotlib.pyplot as plt \n",
    "import tensorflow as tf \n",
    "import pathlib\n",
    "from sklearn.metrics import confusion_matrix ,accuracy_score"
   ]
  },
  {
   "cell_type": "markdown",
   "id": "4cf1a0a1",
   "metadata": {
    "papermill": {
     "duration": 0.034371,
     "end_time": "2022-07-12T15:45:39.397759",
     "exception": false,
     "start_time": "2022-07-12T15:45:39.363388",
     "status": "completed"
    },
    "tags": []
   },
   "source": [
    "## 1- loading the dataset"
   ]
  },
  {
   "cell_type": "code",
   "execution_count": 2,
   "id": "c97c271a",
   "metadata": {
    "execution": {
     "iopub.execute_input": "2022-07-12T15:45:39.470842Z",
     "iopub.status.busy": "2022-07-12T15:45:39.469883Z",
     "iopub.status.idle": "2022-07-12T15:45:39.510209Z",
     "shell.execute_reply": "2022-07-12T15:45:39.509616Z",
     "shell.execute_reply.started": "2022-07-12T14:21:49.301172Z"
    },
    "papermill": {
     "duration": 0.07735,
     "end_time": "2022-07-12T15:45:39.510369",
     "exception": false,
     "start_time": "2022-07-12T15:45:39.433019",
     "status": "completed"
    },
    "tags": []
   },
   "outputs": [],
   "source": [
    "data_apth = \"../input/water-potability/water_potability.csv\"\n",
    "\n",
    "data = pd.read_csv(data_apth)"
   ]
  },
  {
   "cell_type": "markdown",
   "id": "0eb19b64",
   "metadata": {
    "papermill": {
     "duration": 0.033825,
     "end_time": "2022-07-12T15:45:39.578793",
     "exception": false,
     "start_time": "2022-07-12T15:45:39.544968",
     "status": "completed"
    },
    "tags": []
   },
   "source": [
    "## 2- summarizing and cleaning the data "
   ]
  },
  {
   "cell_type": "code",
   "execution_count": 3,
   "id": "b8cdea31",
   "metadata": {
    "execution": {
     "iopub.execute_input": "2022-07-12T15:45:39.651189Z",
     "iopub.status.busy": "2022-07-12T15:45:39.650492Z",
     "iopub.status.idle": "2022-07-12T15:45:39.683360Z",
     "shell.execute_reply": "2022-07-12T15:45:39.683959Z",
     "shell.execute_reply.started": "2022-07-12T14:21:49.348781Z"
    },
    "papermill": {
     "duration": 0.07024,
     "end_time": "2022-07-12T15:45:39.684138",
     "exception": false,
     "start_time": "2022-07-12T15:45:39.613898",
     "status": "completed"
    },
    "tags": []
   },
   "outputs": [
    {
     "data": {
      "text/html": [
       "<div>\n",
       "<style scoped>\n",
       "    .dataframe tbody tr th:only-of-type {\n",
       "        vertical-align: middle;\n",
       "    }\n",
       "\n",
       "    .dataframe tbody tr th {\n",
       "        vertical-align: top;\n",
       "    }\n",
       "\n",
       "    .dataframe thead th {\n",
       "        text-align: right;\n",
       "    }\n",
       "</style>\n",
       "<table border=\"1\" class=\"dataframe\">\n",
       "  <thead>\n",
       "    <tr style=\"text-align: right;\">\n",
       "      <th></th>\n",
       "      <th>ph</th>\n",
       "      <th>Hardness</th>\n",
       "      <th>Solids</th>\n",
       "      <th>Chloramines</th>\n",
       "      <th>Sulfate</th>\n",
       "      <th>Conductivity</th>\n",
       "      <th>Organic_carbon</th>\n",
       "      <th>Trihalomethanes</th>\n",
       "      <th>Turbidity</th>\n",
       "      <th>Potability</th>\n",
       "    </tr>\n",
       "  </thead>\n",
       "  <tbody>\n",
       "    <tr>\n",
       "      <th>0</th>\n",
       "      <td>NaN</td>\n",
       "      <td>204.890455</td>\n",
       "      <td>20791.318981</td>\n",
       "      <td>7.300212</td>\n",
       "      <td>368.516441</td>\n",
       "      <td>564.308654</td>\n",
       "      <td>10.379783</td>\n",
       "      <td>86.990970</td>\n",
       "      <td>2.963135</td>\n",
       "      <td>0</td>\n",
       "    </tr>\n",
       "    <tr>\n",
       "      <th>1</th>\n",
       "      <td>3.716080</td>\n",
       "      <td>129.422921</td>\n",
       "      <td>18630.057858</td>\n",
       "      <td>6.635246</td>\n",
       "      <td>NaN</td>\n",
       "      <td>592.885359</td>\n",
       "      <td>15.180013</td>\n",
       "      <td>56.329076</td>\n",
       "      <td>4.500656</td>\n",
       "      <td>0</td>\n",
       "    </tr>\n",
       "    <tr>\n",
       "      <th>2</th>\n",
       "      <td>8.099124</td>\n",
       "      <td>224.236259</td>\n",
       "      <td>19909.541732</td>\n",
       "      <td>9.275884</td>\n",
       "      <td>NaN</td>\n",
       "      <td>418.606213</td>\n",
       "      <td>16.868637</td>\n",
       "      <td>66.420093</td>\n",
       "      <td>3.055934</td>\n",
       "      <td>0</td>\n",
       "    </tr>\n",
       "    <tr>\n",
       "      <th>3</th>\n",
       "      <td>8.316766</td>\n",
       "      <td>214.373394</td>\n",
       "      <td>22018.417441</td>\n",
       "      <td>8.059332</td>\n",
       "      <td>356.886136</td>\n",
       "      <td>363.266516</td>\n",
       "      <td>18.436524</td>\n",
       "      <td>100.341674</td>\n",
       "      <td>4.628771</td>\n",
       "      <td>0</td>\n",
       "    </tr>\n",
       "    <tr>\n",
       "      <th>4</th>\n",
       "      <td>9.092223</td>\n",
       "      <td>181.101509</td>\n",
       "      <td>17978.986339</td>\n",
       "      <td>6.546600</td>\n",
       "      <td>310.135738</td>\n",
       "      <td>398.410813</td>\n",
       "      <td>11.558279</td>\n",
       "      <td>31.997993</td>\n",
       "      <td>4.075075</td>\n",
       "      <td>0</td>\n",
       "    </tr>\n",
       "  </tbody>\n",
       "</table>\n",
       "</div>"
      ],
      "text/plain": [
       "         ph    Hardness        Solids  Chloramines     Sulfate  Conductivity  \\\n",
       "0       NaN  204.890455  20791.318981     7.300212  368.516441    564.308654   \n",
       "1  3.716080  129.422921  18630.057858     6.635246         NaN    592.885359   \n",
       "2  8.099124  224.236259  19909.541732     9.275884         NaN    418.606213   \n",
       "3  8.316766  214.373394  22018.417441     8.059332  356.886136    363.266516   \n",
       "4  9.092223  181.101509  17978.986339     6.546600  310.135738    398.410813   \n",
       "\n",
       "   Organic_carbon  Trihalomethanes  Turbidity  Potability  \n",
       "0       10.379783        86.990970   2.963135           0  \n",
       "1       15.180013        56.329076   4.500656           0  \n",
       "2       16.868637        66.420093   3.055934           0  \n",
       "3       18.436524       100.341674   4.628771           0  \n",
       "4       11.558279        31.997993   4.075075           0  "
      ]
     },
     "execution_count": 3,
     "metadata": {},
     "output_type": "execute_result"
    }
   ],
   "source": [
    "data.head()"
   ]
  },
  {
   "cell_type": "code",
   "execution_count": 4,
   "id": "992fb60a",
   "metadata": {
    "execution": {
     "iopub.execute_input": "2022-07-12T15:45:39.760531Z",
     "iopub.status.busy": "2022-07-12T15:45:39.759841Z",
     "iopub.status.idle": "2022-07-12T15:45:39.765775Z",
     "shell.execute_reply": "2022-07-12T15:45:39.765072Z",
     "shell.execute_reply.started": "2022-07-12T14:21:49.385261Z"
    },
    "papermill": {
     "duration": 0.044095,
     "end_time": "2022-07-12T15:45:39.766170",
     "exception": false,
     "start_time": "2022-07-12T15:45:39.722075",
     "status": "completed"
    },
    "tags": []
   },
   "outputs": [
    {
     "name": "stdout",
     "output_type": "stream",
     "text": [
      "The number of examples: 3276\n"
     ]
    }
   ],
   "source": [
    "print(\"The number of examples: {}\".format(len(data)))"
   ]
  },
  {
   "cell_type": "code",
   "execution_count": 5,
   "id": "169c74ea",
   "metadata": {
    "execution": {
     "iopub.execute_input": "2022-07-12T15:45:39.846595Z",
     "iopub.status.busy": "2022-07-12T15:45:39.843904Z",
     "iopub.status.idle": "2022-07-12T15:45:39.850405Z",
     "shell.execute_reply": "2022-07-12T15:45:39.849767Z",
     "shell.execute_reply.started": "2022-07-12T14:21:49.392717Z"
    },
    "papermill": {
     "duration": 0.047656,
     "end_time": "2022-07-12T15:45:39.850544",
     "exception": false,
     "start_time": "2022-07-12T15:45:39.802888",
     "status": "completed"
    },
    "tags": []
   },
   "outputs": [
    {
     "data": {
      "text/plain": [
       "ph                 491\n",
       "Hardness             0\n",
       "Solids               0\n",
       "Chloramines          0\n",
       "Sulfate            781\n",
       "Conductivity         0\n",
       "Organic_carbon       0\n",
       "Trihalomethanes    162\n",
       "Turbidity            0\n",
       "Potability           0\n",
       "dtype: int64"
      ]
     },
     "execution_count": 5,
     "metadata": {},
     "output_type": "execute_result"
    }
   ],
   "source": [
    "data.isnull().sum()"
   ]
  },
  {
   "cell_type": "code",
   "execution_count": 6,
   "id": "cc795e3f",
   "metadata": {
    "execution": {
     "iopub.execute_input": "2022-07-12T15:45:39.941687Z",
     "iopub.status.busy": "2022-07-12T15:45:39.935827Z",
     "iopub.status.idle": "2022-07-12T15:45:39.946335Z",
     "shell.execute_reply": "2022-07-12T15:45:39.946956Z",
     "shell.execute_reply.started": "2022-07-12T14:21:49.408895Z"
    },
    "papermill": {
     "duration": 0.060386,
     "end_time": "2022-07-12T15:45:39.947144",
     "exception": false,
     "start_time": "2022-07-12T15:45:39.886758",
     "status": "completed"
    },
    "tags": []
   },
   "outputs": [
    {
     "name": "stdout",
     "output_type": "stream",
     "text": [
      "<class 'pandas.core.frame.DataFrame'>\n",
      "RangeIndex: 3276 entries, 0 to 3275\n",
      "Data columns (total 10 columns):\n",
      " #   Column           Non-Null Count  Dtype  \n",
      "---  ------           --------------  -----  \n",
      " 0   ph               2785 non-null   float64\n",
      " 1   Hardness         3276 non-null   float64\n",
      " 2   Solids           3276 non-null   float64\n",
      " 3   Chloramines      3276 non-null   float64\n",
      " 4   Sulfate          2495 non-null   float64\n",
      " 5   Conductivity     3276 non-null   float64\n",
      " 6   Organic_carbon   3276 non-null   float64\n",
      " 7   Trihalomethanes  3114 non-null   float64\n",
      " 8   Turbidity        3276 non-null   float64\n",
      " 9   Potability       3276 non-null   int64  \n",
      "dtypes: float64(9), int64(1)\n",
      "memory usage: 256.1 KB\n",
      "None\n"
     ]
    }
   ],
   "source": [
    "print(data.info())"
   ]
  },
  {
   "cell_type": "code",
   "execution_count": 7,
   "id": "ab707eb7",
   "metadata": {
    "execution": {
     "iopub.execute_input": "2022-07-12T15:45:40.029784Z",
     "iopub.status.busy": "2022-07-12T15:45:40.029058Z",
     "iopub.status.idle": "2022-07-12T15:45:40.276171Z",
     "shell.execute_reply": "2022-07-12T15:45:40.275468Z",
     "shell.execute_reply.started": "2022-07-12T14:21:49.431931Z"
    },
    "papermill": {
     "duration": 0.291353,
     "end_time": "2022-07-12T15:45:40.276317",
     "exception": false,
     "start_time": "2022-07-12T15:45:39.984964",
     "status": "completed"
    },
    "tags": []
   },
   "outputs": [
    {
     "name": "stdout",
     "output_type": "stream",
     "text": [
      "0    1998\n",
      "1    1278\n",
      "Name: Potability, dtype: int64\n",
      "\n",
      "\n",
      "60.99% of the data is from the Not potable class and 39.01% is from the potable class\n"
     ]
    },
    {
     "data": {
      "text/plain": [
       "<AxesSubplot:ylabel='Frequency'>"
      ]
     },
     "execution_count": 7,
     "metadata": {},
     "output_type": "execute_result"
    },
    {
     "data": {
      "image/png": "[encoded data removed]",
      "text/plain": [
       "<Figure size 432x288 with 1 Axes>"
      ]
     },
     "metadata": {
      "needs_background": "light"
     },
     "output_type": "display_data"
    }
   ],
   "source": [
    "# plotting the output to see if the data is bananced or not.\n",
    "# I will use accuracy and confusion matrix to evaluat the results \n",
    "print(data['Potability'].value_counts())\n",
    "print(\"\\n\")\n",
    "print(\"{:.2F}% of the data is from the Not potable class and {:.2F}% is from the potable class\".format(1998/len(data) * 100,\n",
    "                                                                                                       1278/len(data) * 100))\n",
    "data['Potability'].plot(kind='hist')"
   ]
  },
  {
   "cell_type": "code",
   "execution_count": 8,
   "id": "8b16a7e6",
   "metadata": {
    "execution": {
     "iopub.execute_input": "2022-07-12T15:45:40.360669Z",
     "iopub.status.busy": "2022-07-12T15:45:40.359764Z",
     "iopub.status.idle": "2022-07-12T15:45:40.375496Z",
     "shell.execute_reply": "2022-07-12T15:45:40.374703Z",
     "shell.execute_reply.started": "2022-07-12T14:21:49.692784Z"
    },
    "papermill": {
     "duration": 0.059737,
     "end_time": "2022-07-12T15:45:40.375702",
     "exception": false,
     "start_time": "2022-07-12T15:45:40.315965",
     "status": "completed"
    },
    "tags": []
   },
   "outputs": [
    {
     "name": "stdout",
     "output_type": "stream",
     "text": [
      "<class 'pandas.core.frame.DataFrame'>\n",
      "RangeIndex: 3276 entries, 0 to 3275\n",
      "Data columns (total 10 columns):\n",
      " #   Column           Non-Null Count  Dtype   \n",
      "---  ------           --------------  -----   \n",
      " 0   ph               2785 non-null   float64 \n",
      " 1   Hardness         3276 non-null   float64 \n",
      " 2   Solids           3276 non-null   float64 \n",
      " 3   Chloramines      3276 non-null   float64 \n",
      " 4   Sulfate          2495 non-null   float64 \n",
      " 5   Conductivity     3276 non-null   float64 \n",
      " 6   Organic_carbon   3276 non-null   float64 \n",
      " 7   Trihalomethanes  3114 non-null   float64 \n",
      " 8   Turbidity        3276 non-null   float64 \n",
      " 9   Potability       3276 non-null   category\n",
      "dtypes: category(1), float64(9)\n",
      "memory usage: 233.8 KB\n"
     ]
    }
   ],
   "source": [
    "data['Potability'] = data['Potability'].astype('category')\n",
    "data.info()"
   ]
  },
  {
   "cell_type": "code",
   "execution_count": 9,
   "id": "6c9f22ac",
   "metadata": {
    "execution": {
     "iopub.execute_input": "2022-07-12T15:45:40.457856Z",
     "iopub.status.busy": "2022-07-12T15:45:40.457205Z",
     "iopub.status.idle": "2022-07-12T15:45:40.467322Z",
     "shell.execute_reply": "2022-07-12T15:45:40.466745Z",
     "shell.execute_reply.started": "2022-07-12T14:21:49.718063Z"
    },
    "papermill": {
     "duration": 0.052803,
     "end_time": "2022-07-12T15:45:40.467462",
     "exception": false,
     "start_time": "2022-07-12T15:45:40.414659",
     "status": "completed"
    },
    "scrolled": true,
    "tags": []
   },
   "outputs": [
    {
     "data": {
      "text/plain": [
       "0"
      ]
     },
     "execution_count": 9,
     "metadata": {},
     "output_type": "execute_result"
    }
   ],
   "source": [
    "#There are no duplicated rows\n",
    "data.duplicated().sum()"
   ]
  },
  {
   "cell_type": "markdown",
   "id": "62d5630c",
   "metadata": {
    "papermill": {
     "duration": 0.038497,
     "end_time": "2022-07-12T15:45:40.545124",
     "exception": false,
     "start_time": "2022-07-12T15:45:40.506627",
     "status": "completed"
    },
    "tags": []
   },
   "source": [
    "## Hndling missing values"
   ]
  },
  {
   "cell_type": "code",
   "execution_count": 10,
   "id": "a132011e",
   "metadata": {
    "execution": {
     "iopub.execute_input": "2022-07-12T15:45:40.625450Z",
     "iopub.status.busy": "2022-07-12T15:45:40.624822Z",
     "iopub.status.idle": "2022-07-12T15:45:40.631434Z",
     "shell.execute_reply": "2022-07-12T15:45:40.630805Z",
     "shell.execute_reply.started": "2022-07-12T14:21:49.731529Z"
    },
    "papermill": {
     "duration": 0.048559,
     "end_time": "2022-07-12T15:45:40.631567",
     "exception": false,
     "start_time": "2022-07-12T15:45:40.583008",
     "status": "completed"
    },
    "tags": []
   },
   "outputs": [],
   "source": [
    "data.fillna(value=data.median(), inplace=True)"
   ]
  },
  {
   "cell_type": "code",
   "execution_count": 11,
   "id": "17bd22dc",
   "metadata": {
    "execution": {
     "iopub.execute_input": "2022-07-12T15:45:40.715889Z",
     "iopub.status.busy": "2022-07-12T15:45:40.715294Z",
     "iopub.status.idle": "2022-07-12T15:45:40.719348Z",
     "shell.execute_reply": "2022-07-12T15:45:40.718747Z",
     "shell.execute_reply.started": "2022-07-12T14:21:49.741515Z"
    },
    "papermill": {
     "duration": 0.049519,
     "end_time": "2022-07-12T15:45:40.719483",
     "exception": false,
     "start_time": "2022-07-12T15:45:40.669964",
     "status": "completed"
    },
    "tags": []
   },
   "outputs": [
    {
     "data": {
      "text/plain": [
       "ph                 0\n",
       "Hardness           0\n",
       "Solids             0\n",
       "Chloramines        0\n",
       "Sulfate            0\n",
       "Conductivity       0\n",
       "Organic_carbon     0\n",
       "Trihalomethanes    0\n",
       "Turbidity          0\n",
       "Potability         0\n",
       "dtype: int64"
      ]
     },
     "execution_count": 11,
     "metadata": {},
     "output_type": "execute_result"
    }
   ],
   "source": [
    "data.isnull().sum()"
   ]
  },
  {
   "cell_type": "markdown",
   "id": "a9863850",
   "metadata": {
    "papermill": {
     "duration": 0.038662,
     "end_time": "2022-07-12T15:45:40.797112",
     "exception": false,
     "start_time": "2022-07-12T15:45:40.758450",
     "status": "completed"
    },
    "tags": []
   },
   "source": [
    "## 3- Split the dataset "
   ]
  },
  {
   "cell_type": "code",
   "execution_count": 12,
   "id": "12c53f59",
   "metadata": {
    "execution": {
     "iopub.execute_input": "2022-07-12T15:45:40.881201Z",
     "iopub.status.busy": "2022-07-12T15:45:40.880488Z",
     "iopub.status.idle": "2022-07-12T15:45:40.883830Z",
     "shell.execute_reply": "2022-07-12T15:45:40.883262Z",
     "shell.execute_reply.started": "2022-07-12T14:21:49.753703Z"
    },
    "papermill": {
     "duration": 0.046837,
     "end_time": "2022-07-12T15:45:40.883984",
     "exception": false,
     "start_time": "2022-07-12T15:45:40.837147",
     "status": "completed"
    },
    "tags": []
   },
   "outputs": [],
   "source": [
    "examples = data.drop('Potability', axis=1)\n",
    "target = data['Potability']"
   ]
  },
  {
   "cell_type": "code",
   "execution_count": 13,
   "id": "1180da56",
   "metadata": {
    "execution": {
     "iopub.execute_input": "2022-07-12T15:45:40.973290Z",
     "iopub.status.busy": "2022-07-12T15:45:40.972584Z",
     "iopub.status.idle": "2022-07-12T15:45:40.976903Z",
     "shell.execute_reply": "2022-07-12T15:45:40.976301Z"
    },
    "papermill": {
     "duration": 0.054581,
     "end_time": "2022-07-12T15:45:40.977093",
     "exception": false,
     "start_time": "2022-07-12T15:45:40.922512",
     "status": "completed"
    },
    "tags": []
   },
   "outputs": [
    {
     "name": "stdout",
     "output_type": "stream",
     "text": [
      "Training data shape: (2096, 9)\n",
      "Validation data shape: (524, 9)\n",
      "Testing data shape: (656, 9)\n"
     ]
    }
   ],
   "source": [
    "x_train_full, x_test,  y_train_full, y_test = train_test_split(examples,\n",
    "                                                               target,\n",
    "                                                               shuffle=True, test_size=0.2)\n",
    "\n",
    "x_train, x_val, y_train, y_val = train_test_split(x_train_full,\n",
    "                                                  y_train_full,\n",
    "                                                  shuffle=True, test_size=0.2)\n",
    "\n",
    "print(\"Training data shape: {}\".format(x_train.shape))\n",
    "print(\"Validation data shape: {}\".format(x_val.shape))\n",
    "print(\"Testing data shape: {}\".format(x_test.shape))"
   ]
  },
  {
   "cell_type": "code",
   "execution_count": 14,
   "id": "11514fba",
   "metadata": {
    "execution": {
     "iopub.execute_input": "2022-07-12T15:45:41.059344Z",
     "iopub.status.busy": "2022-07-12T15:45:41.058734Z",
     "iopub.status.idle": "2022-07-12T15:45:41.062310Z",
     "shell.execute_reply": "2022-07-12T15:45:41.061789Z",
     "shell.execute_reply.started": "2022-07-12T14:21:49.779234Z"
    },
    "papermill": {
     "duration": 0.04632,
     "end_time": "2022-07-12T15:45:41.062452",
     "exception": false,
     "start_time": "2022-07-12T15:45:41.016132",
     "status": "completed"
    },
    "tags": []
   },
   "outputs": [],
   "source": [
    "# # feature selection\n",
    "# list_drop = ['bla','bla','bla','bla','bla']\n",
    "\n",
    "# x_train_final = x_train.drop(columns=list_drop)\n",
    "# x_val_final = x_val.drop(columns=list_drop)\n",
    "# x_test_final = X_test.drop(columns=list_drop)\n",
    "# split_dtypes(X_train_final)"
   ]
  },
  {
   "cell_type": "code",
   "execution_count": 15,
   "id": "a499111a",
   "metadata": {
    "execution": {
     "iopub.execute_input": "2022-07-12T15:45:41.144789Z",
     "iopub.status.busy": "2022-07-12T15:45:41.144138Z",
     "iopub.status.idle": "2022-07-12T15:45:41.147005Z",
     "shell.execute_reply": "2022-07-12T15:45:41.147526Z",
     "shell.execute_reply.started": "2022-07-12T14:21:49.785944Z"
    },
    "papermill": {
     "duration": 0.046126,
     "end_time": "2022-07-12T15:45:41.147709",
     "exception": false,
     "start_time": "2022-07-12T15:45:41.101583",
     "status": "completed"
    },
    "tags": []
   },
   "outputs": [],
   "source": [
    "# # misal dengan skelarn\n",
    "# fe = ColumnTransformer([\n",
    "#     ('cat_ohe', OneHotEncoder(), X_train_cat_list),\n",
    "#     ('scaling', StandardScaler(), X_train_num_list)\n",
    "# ])"
   ]
  },
  {
   "cell_type": "code",
   "execution_count": 16,
   "id": "b41ec439",
   "metadata": {
    "execution": {
     "iopub.execute_input": "2022-07-12T15:45:41.230262Z",
     "iopub.status.busy": "2022-07-12T15:45:41.229579Z",
     "iopub.status.idle": "2022-07-12T15:45:41.233140Z",
     "shell.execute_reply": "2022-07-12T15:45:41.232555Z",
     "shell.execute_reply.started": "2022-07-12T14:21:49.801302Z"
    },
    "papermill": {
     "duration": 0.046148,
     "end_time": "2022-07-12T15:45:41.233285",
     "exception": false,
     "start_time": "2022-07-12T15:45:41.187137",
     "status": "completed"
    },
    "tags": []
   },
   "outputs": [],
   "source": [
    "# X_train_scale_enc = fe.fit_transform(X_train_final)\n",
    "# X_val_scale_enc = fe.transform(X_val_final)\n",
    "# X_test_scale_enc = fe.transform(X_test_final)\n",
    "\n",
    "#nanti data yang di transform ini yg akan di masukan ke input pipeline"
   ]
  },
  {
   "cell_type": "markdown",
   "id": "95d1357a",
   "metadata": {
    "papermill": {
     "duration": 0.039705,
     "end_time": "2022-07-12T15:45:41.311918",
     "exception": false,
     "start_time": "2022-07-12T15:45:41.272213",
     "status": "completed"
    },
    "tags": []
   },
   "source": [
    "## 4-  Input pipeline"
   ]
  },
  {
   "cell_type": "code",
   "execution_count": 17,
   "id": "19e3e9af",
   "metadata": {
    "execution": {
     "iopub.execute_input": "2022-07-12T15:45:41.394170Z",
     "iopub.status.busy": "2022-07-12T15:45:41.393452Z",
     "iopub.status.idle": "2022-07-12T15:45:41.396672Z",
     "shell.execute_reply": "2022-07-12T15:45:41.396198Z",
     "shell.execute_reply.started": "2022-07-12T14:21:49.812702Z"
    },
    "papermill": {
     "duration": 0.045645,
     "end_time": "2022-07-12T15:45:41.396807",
     "exception": false,
     "start_time": "2022-07-12T15:45:41.351162",
     "status": "completed"
    },
    "tags": []
   },
   "outputs": [],
   "source": [
    "AUTOTUNE = tf.data.AUTOTUNE"
   ]
  },
  {
   "cell_type": "code",
   "execution_count": 18,
   "id": "3df70437",
   "metadata": {
    "execution": {
     "iopub.execute_input": "2022-07-12T15:45:41.482623Z",
     "iopub.status.busy": "2022-07-12T15:45:41.481957Z",
     "iopub.status.idle": "2022-07-12T15:45:41.484590Z",
     "shell.execute_reply": "2022-07-12T15:45:41.483962Z",
     "shell.execute_reply.started": "2022-07-12T14:21:49.823255Z"
    },
    "papermill": {
     "duration": 0.048144,
     "end_time": "2022-07-12T15:45:41.484738",
     "exception": false,
     "start_time": "2022-07-12T15:45:41.436594",
     "status": "completed"
    },
    "tags": []
   },
   "outputs": [],
   "source": [
    "def preprocessing(data, label):\n",
    "    \n",
    "    \"\"\"function that takes the data and labels, \n",
    "    standarize the data and return the standarized\n",
    "    data and the labels\"\"\"\n",
    "    \n",
    "    mean = tf.reduce_mean(data, axis=0)\n",
    "    std = tf.math.reduce_std(data, axis=0)\n",
    "    \n",
    "    preprocessed_data = (data - mean) / std\n",
    "    \n",
    "    return preprocessed_data, label"
   ]
  },
  {
   "cell_type": "code",
   "execution_count": 19,
   "id": "985af3f8",
   "metadata": {
    "execution": {
     "iopub.execute_input": "2022-07-12T15:45:41.569167Z",
     "iopub.status.busy": "2022-07-12T15:45:41.568492Z",
     "iopub.status.idle": "2022-07-12T15:45:41.571264Z",
     "shell.execute_reply": "2022-07-12T15:45:41.570695Z",
     "shell.execute_reply.started": "2022-07-12T14:21:49.835736Z"
    },
    "papermill": {
     "duration": 0.047843,
     "end_time": "2022-07-12T15:45:41.571398",
     "exception": false,
     "start_time": "2022-07-12T15:45:41.523555",
     "status": "completed"
    },
    "tags": []
   },
   "outputs": [],
   "source": [
    "def get_batches(x, y, shuffle_buffer_size, batch_size, shuffle=False):\n",
    "    \n",
    "    #Building a pipeline from a data that exists in memory\n",
    "    data_ds = tf.data.Dataset.from_tensor_slices((x, y))\n",
    "    #mapping the fuction we alredy made to the data\n",
    "    preprocessed_data = data_ds.map(preprocessing)\n",
    "    \n",
    "    \n",
    "    if shuffle:\n",
    "        # if we want to shuffle the dataset given a buffer size\n",
    "        shuffled_data = preprocessed_data.shuffle(shuffle_buffer_size)\n",
    "        \n",
    "        # prefetch` lets the dataset fetch batches in the background while the model is training.\n",
    "        data_batches = shuffled_data.batch(batch_size).cache().prefetch(AUTOTUNE) #berapa banyak batch yg ingin di prefetch\n",
    "        \n",
    "    else: \n",
    "        \n",
    "        data_batches = preprocessed_data.batch(batch_size).cache().prefetch(AUTOTUNE)\n",
    "    \n",
    "    \n",
    "    return data_batches "
   ]
  },
  {
   "cell_type": "code",
   "execution_count": 20,
   "id": "6482a6ff",
   "metadata": {
    "execution": {
     "iopub.execute_input": "2022-07-12T15:45:41.669306Z",
     "iopub.status.busy": "2022-07-12T15:45:41.668560Z",
     "iopub.status.idle": "2022-07-12T15:45:42.021724Z",
     "shell.execute_reply": "2022-07-12T15:45:42.020981Z",
     "shell.execute_reply.started": "2022-07-12T14:21:49.845542Z"
    },
    "papermill": {
     "duration": 0.411883,
     "end_time": "2022-07-12T15:45:42.021873",
     "exception": false,
     "start_time": "2022-07-12T15:45:41.609990",
     "status": "completed"
    },
    "tags": []
   },
   "outputs": [],
   "source": [
    "training_batches = get_batches(x_train, y_train, 1024, 64, shuffle=True)\n",
    "validation_batches = get_batches(x_val, y_val, 256, 64, shuffle=False)\n",
    "testing_batches = get_batches(x_test, y_test, 256, 64, shuffle=False)\n",
    "\n",
    "# training_batches = tf.data.Dataset.from_tensor_slices((x_train, y_train)).shuffle(x_train.shape[0]).batch(32)\n",
    "# validation_batches = tf.data.Dataset.from_tensor_slices((x_test, y_test)).shuffle(x_test.shape[0]).batch(32)\n",
    "\n",
    "# training_batches = training_batches.cache().prefetch(buffer_size=AUTOTUNE)batches\n",
    "# validation_batches = validation_batches.cache().prefetch(buffer_size=AUTOTUNE)"
   ]
  },
  {
   "cell_type": "markdown",
   "id": "7867de6a",
   "metadata": {
    "papermill": {
     "duration": 0.038075,
     "end_time": "2022-07-12T15:45:42.098313",
     "exception": false,
     "start_time": "2022-07-12T15:45:42.060238",
     "status": "completed"
    },
    "tags": []
   },
   "source": [
    "## 5- Creating and training a model"
   ]
  },
  {
   "cell_type": "code",
   "execution_count": 21,
   "id": "be8d09c8",
   "metadata": {
    "execution": {
     "iopub.execute_input": "2022-07-12T15:45:42.181366Z",
     "iopub.status.busy": "2022-07-12T15:45:42.180728Z",
     "iopub.status.idle": "2022-07-12T15:45:42.183685Z",
     "shell.execute_reply": "2022-07-12T15:45:42.183215Z",
     "shell.execute_reply.started": "2022-07-12T14:21:50.225496Z"
    },
    "papermill": {
     "duration": 0.046845,
     "end_time": "2022-07-12T15:45:42.183818",
     "exception": false,
     "start_time": "2022-07-12T15:45:42.136973",
     "status": "completed"
    },
    "tags": []
   },
   "outputs": [],
   "source": [
    "# learning rate scheduling\n",
    "def exponential_decay(lr_0, s):\n",
    "    def exponential_decay_func(epoch):\n",
    "        return lr_0 * 0.1 ** (epoch / s)\n",
    "    return exponential_decay_func\n",
    "\n",
    "exponential_decay_func = exponential_decay(lr_0=0.01, s=20)\n",
    "\n",
    "lr_scheduler = tf.keras.callbacks.LearningRateScheduler(exponential_decay_func)"
   ]
  },
  {
   "cell_type": "code",
   "execution_count": 22,
   "id": "64e1c7b8",
   "metadata": {
    "execution": {
     "iopub.execute_input": "2022-07-12T15:45:42.265282Z",
     "iopub.status.busy": "2022-07-12T15:45:42.264662Z",
     "iopub.status.idle": "2022-07-12T15:45:42.266991Z",
     "shell.execute_reply": "2022-07-12T15:45:42.267575Z",
     "shell.execute_reply.started": "2022-07-12T14:21:50.235186Z"
    },
    "papermill": {
     "duration": 0.045601,
     "end_time": "2022-07-12T15:45:42.267729",
     "exception": false,
     "start_time": "2022-07-12T15:45:42.222128",
     "status": "completed"
    },
    "tags": []
   },
   "outputs": [],
   "source": [
    "def leaky_relu(x):\n",
    "    return tf.maximum(0.01*x, x)"
   ]
  },
  {
   "cell_type": "code",
   "execution_count": 23,
   "id": "6fcb636d",
   "metadata": {
    "execution": {
     "iopub.execute_input": "2022-07-12T15:45:42.350296Z",
     "iopub.status.busy": "2022-07-12T15:45:42.349629Z",
     "iopub.status.idle": "2022-07-12T15:45:42.465534Z",
     "shell.execute_reply": "2022-07-12T15:45:42.464823Z",
     "shell.execute_reply.started": "2022-07-12T14:21:50.252004Z"
    },
    "papermill": {
     "duration": 0.158205,
     "end_time": "2022-07-12T15:45:42.465688",
     "exception": false,
     "start_time": "2022-07-12T15:45:42.307483",
     "status": "completed"
    },
    "tags": []
   },
   "outputs": [],
   "source": [
    "model_input = tf.keras.Input(shape=(9,))\n",
    "\n",
    "x = tf.keras.layers.Dense(256,\n",
    "                          kernel_regularizer=tf.keras.regularizers.L2(),\n",
    "                          kernel_initializer='he_normal')(model_input)\n",
    "\n",
    "x = tf.keras.layers.Lambda(leaky_relu)(x)\n",
    "\n",
    "x = tf.keras.layers.BatchNormalization()(x)\n",
    "\n",
    "x = tf.keras.layers.Dense(128,\n",
    "                          kernel_regularizer=tf.keras.regularizers.L2(),\n",
    "                          kernel_initializer='he_normal')(x)\n",
    "\n",
    "x = tf.keras.layers.Lambda(leaky_relu)(x)\n",
    "\n",
    "x = tf.keras.layers.BatchNormalization()(x)\n",
    "\n",
    "model_output = tf.keras.layers.Dense(1, activation='sigmoid')(x)\n",
    "\n",
    "model = tf.keras.models.Model(inputs=model_input, outputs=model_output)"
   ]
  },
  {
   "cell_type": "code",
   "execution_count": 24,
   "id": "eb78d162",
   "metadata": {
    "execution": {
     "iopub.execute_input": "2022-07-12T15:45:42.558820Z",
     "iopub.status.busy": "2022-07-12T15:45:42.557815Z",
     "iopub.status.idle": "2022-07-12T15:47:05.294090Z",
     "shell.execute_reply": "2022-07-12T15:47:05.293514Z",
     "shell.execute_reply.started": "2022-07-12T14:21:50.362593Z"
    },
    "papermill": {
     "duration": 82.789721,
     "end_time": "2022-07-12T15:47:05.294270",
     "exception": false,
     "start_time": "2022-07-12T15:45:42.504549",
     "status": "completed"
    },
    "scrolled": true,
    "tags": []
   },
   "outputs": [
    {
     "name": "stdout",
     "output_type": "stream",
     "text": [
      "Epoch 1/500\n",
      "33/33 [==============================] - 2s 26ms/step - loss: 5.2395 - acc: 0.5631 - val_loss: 1.8521 - val_acc: 0.5859\n",
      "Epoch 2/500\n",
      "33/33 [==============================] - 0s 5ms/step - loss: 1.5860 - acc: 0.5686 - val_loss: 0.9526 - val_acc: 0.5859\n",
      "Epoch 3/500\n",
      "33/33 [==============================] - 0s 4ms/step - loss: 0.8928 - acc: 0.5778 - val_loss: 0.7309 - val_acc: 0.5859\n",
      "Epoch 4/500\n",
      "33/33 [==============================] - 0s 5ms/step - loss: 0.7312 - acc: 0.5902 - val_loss: 0.6955 - val_acc: 0.5859\n",
      "Epoch 5/500\n",
      "33/33 [==============================] - 0s 5ms/step - loss: 0.6985 - acc: 0.5893 - val_loss: 0.6904 - val_acc: 0.5859\n",
      "Epoch 6/500\n",
      "33/33 [==============================] - 0s 4ms/step - loss: 0.6877 - acc: 0.6035 - val_loss: 0.6891 - val_acc: 0.5859\n",
      "Epoch 7/500\n",
      "33/33 [==============================] - 0s 5ms/step - loss: 0.6857 - acc: 0.6001 - val_loss: 0.6849 - val_acc: 0.5859\n",
      "Epoch 8/500\n",
      "33/33 [==============================] - 0s 5ms/step - loss: 0.6802 - acc: 0.6038 - val_loss: 0.6849 - val_acc: 0.5859\n",
      "Epoch 9/500\n",
      "33/33 [==============================] - 0s 5ms/step - loss: 0.6765 - acc: 0.6053 - val_loss: 0.6836 - val_acc: 0.5859\n",
      "Epoch 10/500\n",
      "33/33 [==============================] - 0s 4ms/step - loss: 0.6739 - acc: 0.6054 - val_loss: 0.6836 - val_acc: 0.5859\n",
      "Epoch 11/500\n",
      "33/33 [==============================] - 0s 5ms/step - loss: 0.6723 - acc: 0.6087 - val_loss: 0.6835 - val_acc: 0.5859\n",
      "Epoch 12/500\n",
      "33/33 [==============================] - 0s 5ms/step - loss: 0.6712 - acc: 0.6091 - val_loss: 0.6839 - val_acc: 0.5859\n",
      "Epoch 13/500\n",
      "33/33 [==============================] - 0s 4ms/step - loss: 0.6705 - acc: 0.6097 - val_loss: 0.6852 - val_acc: 0.5859\n",
      "Epoch 14/500\n",
      "33/33 [==============================] - 0s 5ms/step - loss: 0.6696 - acc: 0.6105 - val_loss: 0.6839 - val_acc: 0.5859\n",
      "Epoch 15/500\n",
      "33/33 [==============================] - 0s 5ms/step - loss: 0.6684 - acc: 0.6109 - val_loss: 0.6836 - val_acc: 0.5859\n",
      "Epoch 16/500\n",
      "33/33 [==============================] - 0s 5ms/step - loss: 0.6674 - acc: 0.6114 - val_loss: 0.6837 - val_acc: 0.5859\n",
      "Epoch 17/500\n",
      "33/33 [==============================] - 0s 5ms/step - loss: 0.6666 - acc: 0.6126 - val_loss: 0.6842 - val_acc: 0.5859\n",
      "Epoch 18/500\n",
      "33/33 [==============================] - 0s 5ms/step - loss: 0.6659 - acc: 0.6159 - val_loss: 0.6870 - val_acc: 0.5859\n",
      "Epoch 19/500\n",
      "33/33 [==============================] - 0s 5ms/step - loss: 0.6653 - acc: 0.6177 - val_loss: 0.6856 - val_acc: 0.5859\n",
      "Epoch 20/500\n",
      "33/33 [==============================] - 0s 5ms/step - loss: 0.6646 - acc: 0.6172 - val_loss: 0.6861 - val_acc: 0.5859\n",
      "Epoch 21/500\n",
      "33/33 [==============================] - 0s 4ms/step - loss: 0.6641 - acc: 0.6171 - val_loss: 0.6878 - val_acc: 0.5840\n",
      "Epoch 22/500\n",
      "33/33 [==============================] - 0s 4ms/step - loss: 0.6637 - acc: 0.6186 - val_loss: 0.6886 - val_acc: 0.5859\n",
      "Epoch 23/500\n",
      "33/33 [==============================] - 0s 4ms/step - loss: 0.6634 - acc: 0.6218 - val_loss: 0.6880 - val_acc: 0.5840\n",
      "Epoch 24/500\n",
      "33/33 [==============================] - 0s 4ms/step - loss: 0.6631 - acc: 0.6225 - val_loss: 0.6865 - val_acc: 0.5859\n",
      "Epoch 25/500\n",
      "33/33 [==============================] - 0s 5ms/step - loss: 0.6627 - acc: 0.6265 - val_loss: 0.6857 - val_acc: 0.5859\n",
      "Epoch 26/500\n",
      "33/33 [==============================] - 0s 5ms/step - loss: 0.6624 - acc: 0.6287 - val_loss: 0.6838 - val_acc: 0.5859\n",
      "Epoch 27/500\n",
      "33/33 [==============================] - 0s 5ms/step - loss: 0.6621 - acc: 0.6290 - val_loss: 0.6853 - val_acc: 0.5859\n",
      "Epoch 28/500\n",
      "33/33 [==============================] - 0s 4ms/step - loss: 0.6619 - acc: 0.6309 - val_loss: 0.6851 - val_acc: 0.5954\n",
      "Epoch 29/500\n",
      "33/33 [==============================] - 0s 4ms/step - loss: 0.6617 - acc: 0.6305 - val_loss: 0.6870 - val_acc: 0.5859\n",
      "Epoch 30/500\n",
      "33/33 [==============================] - 0s 4ms/step - loss: 0.6615 - acc: 0.6305 - val_loss: 0.6845 - val_acc: 0.5859\n",
      "Epoch 31/500\n",
      "33/33 [==============================] - 0s 4ms/step - loss: 0.6613 - acc: 0.6307 - val_loss: 0.6824 - val_acc: 0.6011\n",
      "Epoch 32/500\n",
      "33/33 [==============================] - 0s 4ms/step - loss: 0.6612 - acc: 0.6327 - val_loss: 0.6858 - val_acc: 0.5878\n",
      "Epoch 33/500\n",
      "33/33 [==============================] - 0s 4ms/step - loss: 0.6610 - acc: 0.6301 - val_loss: 0.6864 - val_acc: 0.5878\n",
      "Epoch 34/500\n",
      "33/33 [==============================] - 0s 4ms/step - loss: 0.6609 - acc: 0.6299 - val_loss: 0.6868 - val_acc: 0.5859\n",
      "Epoch 35/500\n",
      "33/33 [==============================] - 0s 4ms/step - loss: 0.6608 - acc: 0.6309 - val_loss: 0.6862 - val_acc: 0.5840\n",
      "Epoch 36/500\n",
      "33/33 [==============================] - 0s 4ms/step - loss: 0.6607 - acc: 0.6309 - val_loss: 0.6848 - val_acc: 0.5878\n",
      "Epoch 37/500\n",
      "33/33 [==============================] - 0s 4ms/step - loss: 0.6606 - acc: 0.6300 - val_loss: 0.6850 - val_acc: 0.5878\n",
      "Epoch 38/500\n",
      "33/33 [==============================] - 0s 4ms/step - loss: 0.6605 - acc: 0.6300 - val_loss: 0.6824 - val_acc: 0.6011\n",
      "Epoch 39/500\n",
      "33/33 [==============================] - 0s 5ms/step - loss: 0.6605 - acc: 0.6288 - val_loss: 0.6822 - val_acc: 0.5992\n",
      "Epoch 40/500\n",
      "33/33 [==============================] - 0s 5ms/step - loss: 0.6604 - acc: 0.6298 - val_loss: 0.6831 - val_acc: 0.6031\n",
      "Epoch 41/500\n",
      "33/33 [==============================] - 0s 4ms/step - loss: 0.6604 - acc: 0.6298 - val_loss: 0.6821 - val_acc: 0.6011\n",
      "Epoch 42/500\n",
      "33/33 [==============================] - 0s 5ms/step - loss: 0.6603 - acc: 0.6294 - val_loss: 0.6826 - val_acc: 0.6031\n",
      "Epoch 43/500\n",
      "33/33 [==============================] - 0s 5ms/step - loss: 0.6603 - acc: 0.6294 - val_loss: 0.6819 - val_acc: 0.6011\n",
      "Epoch 44/500\n",
      "33/33 [==============================] - 0s 4ms/step - loss: 0.6602 - acc: 0.6294 - val_loss: 0.6820 - val_acc: 0.6011\n",
      "Epoch 45/500\n",
      "33/33 [==============================] - 0s 5ms/step - loss: 0.6602 - acc: 0.6313 - val_loss: 0.6820 - val_acc: 0.6011\n",
      "Epoch 46/500\n",
      "33/33 [==============================] - 0s 5ms/step - loss: 0.6602 - acc: 0.6313 - val_loss: 0.6828 - val_acc: 0.6031\n",
      "Epoch 47/500\n",
      "33/33 [==============================] - 0s 5ms/step - loss: 0.6602 - acc: 0.6313 - val_loss: 0.6829 - val_acc: 0.6031\n",
      "Epoch 48/500\n",
      "33/33 [==============================] - 0s 4ms/step - loss: 0.6601 - acc: 0.6313 - val_loss: 0.6824 - val_acc: 0.6011\n",
      "Epoch 49/500\n",
      "33/33 [==============================] - 0s 5ms/step - loss: 0.6601 - acc: 0.6313 - val_loss: 0.6822 - val_acc: 0.6011\n",
      "Epoch 50/500\n",
      "33/33 [==============================] - 0s 5ms/step - loss: 0.6601 - acc: 0.6315 - val_loss: 0.6821 - val_acc: 0.6011\n",
      "Epoch 51/500\n",
      "33/33 [==============================] - 0s 4ms/step - loss: 0.6601 - acc: 0.6315 - val_loss: 0.6820 - val_acc: 0.6011\n",
      "Epoch 52/500\n",
      "33/33 [==============================] - 0s 4ms/step - loss: 0.6601 - acc: 0.6315 - val_loss: 0.6820 - val_acc: 0.6011\n",
      "Epoch 53/500\n",
      "33/33 [==============================] - 0s 5ms/step - loss: 0.6601 - acc: 0.6315 - val_loss: 0.6817 - val_acc: 0.5992\n",
      "Epoch 54/500\n",
      "33/33 [==============================] - 0s 4ms/step - loss: 0.6601 - acc: 0.6315 - val_loss: 0.6817 - val_acc: 0.5992\n",
      "Epoch 55/500\n",
      "33/33 [==============================] - 0s 4ms/step - loss: 0.6600 - acc: 0.6315 - val_loss: 0.6816 - val_acc: 0.6011\n",
      "Epoch 56/500\n",
      "33/33 [==============================] - 0s 4ms/step - loss: 0.6600 - acc: 0.6315 - val_loss: 0.6817 - val_acc: 0.6031\n",
      "Epoch 57/500\n",
      "33/33 [==============================] - 0s 5ms/step - loss: 0.6600 - acc: 0.6315 - val_loss: 0.6817 - val_acc: 0.6011\n",
      "Epoch 58/500\n",
      "33/33 [==============================] - 0s 4ms/step - loss: 0.6600 - acc: 0.6315 - val_loss: 0.6817 - val_acc: 0.6011\n",
      "Epoch 59/500\n",
      "33/33 [==============================] - 0s 5ms/step - loss: 0.6600 - acc: 0.6315 - val_loss: 0.6818 - val_acc: 0.5992\n",
      "Epoch 60/500\n",
      "33/33 [==============================] - 0s 4ms/step - loss: 0.6600 - acc: 0.6315 - val_loss: 0.6818 - val_acc: 0.5973\n",
      "Epoch 61/500\n",
      "33/33 [==============================] - 0s 4ms/step - loss: 0.6600 - acc: 0.6315 - val_loss: 0.6818 - val_acc: 0.5973\n",
      "Epoch 62/500\n",
      "33/33 [==============================] - 0s 5ms/step - loss: 0.6600 - acc: 0.6315 - val_loss: 0.6818 - val_acc: 0.5973\n",
      "Epoch 63/500\n",
      "33/33 [==============================] - 0s 4ms/step - loss: 0.6600 - acc: 0.6315 - val_loss: 0.6818 - val_acc: 0.5992\n",
      "Epoch 64/500\n",
      "33/33 [==============================] - 0s 5ms/step - loss: 0.6600 - acc: 0.6315 - val_loss: 0.6818 - val_acc: 0.5973\n",
      "Epoch 65/500\n",
      "33/33 [==============================] - 0s 5ms/step - loss: 0.6600 - acc: 0.6321 - val_loss: 0.6818 - val_acc: 0.5973\n",
      "Epoch 66/500\n",
      "33/33 [==============================] - 0s 5ms/step - loss: 0.6600 - acc: 0.6321 - val_loss: 0.6818 - val_acc: 0.5973\n",
      "Epoch 67/500\n",
      "33/33 [==============================] - 0s 4ms/step - loss: 0.6600 - acc: 0.6321 - val_loss: 0.6818 - val_acc: 0.5973\n",
      "Epoch 68/500\n",
      "33/33 [==============================] - 0s 4ms/step - loss: 0.6600 - acc: 0.6321 - val_loss: 0.6818 - val_acc: 0.5973\n",
      "Epoch 69/500\n",
      "33/33 [==============================] - 0s 4ms/step - loss: 0.6600 - acc: 0.6321 - val_loss: 0.6818 - val_acc: 0.5973\n",
      "Epoch 70/500\n",
      "33/33 [==============================] - 0s 5ms/step - loss: 0.6600 - acc: 0.6321 - val_loss: 0.6819 - val_acc: 0.5973\n",
      "Epoch 71/500\n",
      "33/33 [==============================] - 0s 5ms/step - loss: 0.6600 - acc: 0.6321 - val_loss: 0.6819 - val_acc: 0.5973\n",
      "Epoch 72/500\n",
      "33/33 [==============================] - 0s 5ms/step - loss: 0.6600 - acc: 0.6321 - val_loss: 0.6819 - val_acc: 0.5973\n",
      "Epoch 73/500\n",
      "33/33 [==============================] - 0s 4ms/step - loss: 0.6600 - acc: 0.6321 - val_loss: 0.6818 - val_acc: 0.5973\n",
      "Epoch 74/500\n",
      "33/33 [==============================] - 0s 4ms/step - loss: 0.6600 - acc: 0.6321 - val_loss: 0.6818 - val_acc: 0.5973\n",
      "Epoch 75/500\n",
      "33/33 [==============================] - 0s 5ms/step - loss: 0.6600 - acc: 0.6321 - val_loss: 0.6819 - val_acc: 0.5973\n",
      "Epoch 76/500\n",
      "33/33 [==============================] - 0s 5ms/step - loss: 0.6600 - acc: 0.6321 - val_loss: 0.6818 - val_acc: 0.5973\n",
      "Epoch 77/500\n",
      "33/33 [==============================] - 0s 4ms/step - loss: 0.6600 - acc: 0.6321 - val_loss: 0.6819 - val_acc: 0.5973\n",
      "Epoch 78/500\n",
      "33/33 [==============================] - 0s 5ms/step - loss: 0.6600 - acc: 0.6321 - val_loss: 0.6819 - val_acc: 0.5973\n",
      "Epoch 79/500\n",
      "33/33 [==============================] - 0s 5ms/step - loss: 0.6600 - acc: 0.6321 - val_loss: 0.6819 - val_acc: 0.5973\n",
      "Epoch 80/500\n",
      "33/33 [==============================] - 0s 4ms/step - loss: 0.6600 - acc: 0.6321 - val_loss: 0.6819 - val_acc: 0.5973\n",
      "Epoch 81/500\n",
      "33/33 [==============================] - 0s 4ms/step - loss: 0.6600 - acc: 0.6321 - val_loss: 0.6819 - val_acc: 0.5973\n",
      "Epoch 82/500\n",
      "33/33 [==============================] - 0s 5ms/step - loss: 0.6600 - acc: 0.6321 - val_loss: 0.6819 - val_acc: 0.5973\n",
      "Epoch 83/500\n",
      "33/33 [==============================] - 0s 4ms/step - loss: 0.6600 - acc: 0.6321 - val_loss: 0.6819 - val_acc: 0.5973\n",
      "Epoch 84/500\n",
      "33/33 [==============================] - 0s 4ms/step - loss: 0.6600 - acc: 0.6321 - val_loss: 0.6819 - val_acc: 0.5973\n",
      "Epoch 85/500\n",
      "33/33 [==============================] - 0s 4ms/step - loss: 0.6600 - acc: 0.6321 - val_loss: 0.6819 - val_acc: 0.5973\n",
      "Epoch 86/500\n",
      "33/33 [==============================] - 0s 4ms/step - loss: 0.6600 - acc: 0.6321 - val_loss: 0.6819 - val_acc: 0.5973\n",
      "Epoch 87/500\n",
      "33/33 [==============================] - 0s 4ms/step - loss: 0.6600 - acc: 0.6321 - val_loss: 0.6819 - val_acc: 0.5973\n",
      "Epoch 88/500\n",
      "33/33 [==============================] - 0s 4ms/step - loss: 0.6600 - acc: 0.6321 - val_loss: 0.6819 - val_acc: 0.5973\n",
      "Epoch 89/500\n",
      "33/33 [==============================] - 0s 4ms/step - loss: 0.6600 - acc: 0.6321 - val_loss: 0.6819 - val_acc: 0.5973\n",
      "Epoch 90/500\n",
      "33/33 [==============================] - 0s 4ms/step - loss: 0.6600 - acc: 0.6321 - val_loss: 0.6819 - val_acc: 0.5973\n",
      "Epoch 91/500\n",
      "33/33 [==============================] - 0s 4ms/step - loss: 0.6600 - acc: 0.6321 - val_loss: 0.6819 - val_acc: 0.5973\n",
      "Epoch 92/500\n",
      "33/33 [==============================] - 0s 4ms/step - loss: 0.6600 - acc: 0.6321 - val_loss: 0.6819 - val_acc: 0.5973\n",
      "Epoch 93/500\n",
      "33/33 [==============================] - 0s 4ms/step - loss: 0.6600 - acc: 0.6321 - val_loss: 0.6819 - val_acc: 0.5973\n",
      "Epoch 94/500\n",
      "33/33 [==============================] - 0s 4ms/step - loss: 0.6600 - acc: 0.6321 - val_loss: 0.6819 - val_acc: 0.5973\n",
      "Epoch 95/500\n",
      "33/33 [==============================] - 0s 4ms/step - loss: 0.6600 - acc: 0.6321 - val_loss: 0.6819 - val_acc: 0.5973\n",
      "Epoch 96/500\n",
      "33/33 [==============================] - 0s 4ms/step - loss: 0.6600 - acc: 0.6321 - val_loss: 0.6819 - val_acc: 0.5973\n",
      "Epoch 97/500\n",
      "33/33 [==============================] - 0s 4ms/step - loss: 0.6600 - acc: 0.6321 - val_loss: 0.6819 - val_acc: 0.5973\n",
      "Epoch 98/500\n",
      "33/33 [==============================] - 0s 4ms/step - loss: 0.6600 - acc: 0.6321 - val_loss: 0.6819 - val_acc: 0.5973\n",
      "Epoch 99/500\n",
      "33/33 [==============================] - 0s 4ms/step - loss: 0.6600 - acc: 0.6321 - val_loss: 0.6819 - val_acc: 0.5973\n",
      "Epoch 100/500\n",
      "33/33 [==============================] - 0s 4ms/step - loss: 0.6600 - acc: 0.6321 - val_loss: 0.6819 - val_acc: 0.5973\n",
      "Epoch 101/500\n",
      "33/33 [==============================] - 0s 4ms/step - loss: 0.6600 - acc: 0.6321 - val_loss: 0.6819 - val_acc: 0.5973\n",
      "Epoch 102/500\n",
      "33/33 [==============================] - 0s 4ms/step - loss: 0.6600 - acc: 0.6321 - val_loss: 0.6819 - val_acc: 0.5973\n",
      "Epoch 103/500\n",
      "33/33 [==============================] - 0s 5ms/step - loss: 0.6600 - acc: 0.6321 - val_loss: 0.6819 - val_acc: 0.5973\n",
      "Epoch 104/500\n",
      "33/33 [==============================] - 0s 4ms/step - loss: 0.6600 - acc: 0.6321 - val_loss: 0.6819 - val_acc: 0.5973\n",
      "Epoch 105/500\n",
      "33/33 [==============================] - 0s 5ms/step - loss: 0.6600 - acc: 0.6321 - val_loss: 0.6819 - val_acc: 0.5973\n",
      "Epoch 106/500\n",
      "33/33 [==============================] - 0s 4ms/step - loss: 0.6600 - acc: 0.6321 - val_loss: 0.6819 - val_acc: 0.5973\n",
      "Epoch 107/500\n",
      "33/33 [==============================] - 0s 4ms/step - loss: 0.6600 - acc: 0.6321 - val_loss: 0.6819 - val_acc: 0.5973\n",
      "Epoch 108/500\n",
      "33/33 [==============================] - 0s 4ms/step - loss: 0.6600 - acc: 0.6321 - val_loss: 0.6819 - val_acc: 0.5973\n",
      "Epoch 109/500\n",
      "33/33 [==============================] - 0s 4ms/step - loss: 0.6600 - acc: 0.6321 - val_loss: 0.6819 - val_acc: 0.5973\n",
      "Epoch 110/500\n",
      "33/33 [==============================] - 0s 4ms/step - loss: 0.6600 - acc: 0.6321 - val_loss: 0.6819 - val_acc: 0.5973\n",
      "Epoch 111/500\n",
      "33/33 [==============================] - 0s 4ms/step - loss: 0.6600 - acc: 0.6321 - val_loss: 0.6819 - val_acc: 0.5973\n",
      "Epoch 112/500\n",
      "33/33 [==============================] - 0s 4ms/step - loss: 0.6600 - acc: 0.6321 - val_loss: 0.6819 - val_acc: 0.5973\n",
      "Epoch 113/500\n",
      "33/33 [==============================] - 0s 4ms/step - loss: 0.6600 - acc: 0.6321 - val_loss: 0.6819 - val_acc: 0.5973\n",
      "Epoch 114/500\n",
      "33/33 [==============================] - 0s 4ms/step - loss: 0.6600 - acc: 0.6321 - val_loss: 0.6819 - val_acc: 0.5973\n",
      "Epoch 115/500\n",
      "33/33 [==============================] - 0s 4ms/step - loss: 0.6600 - acc: 0.6321 - val_loss: 0.6819 - val_acc: 0.5973\n",
      "Epoch 116/500\n",
      "33/33 [==============================] - 0s 4ms/step - loss: 0.6600 - acc: 0.6321 - val_loss: 0.6819 - val_acc: 0.5973\n",
      "Epoch 117/500\n",
      "33/33 [==============================] - 0s 4ms/step - loss: 0.6600 - acc: 0.6321 - val_loss: 0.6819 - val_acc: 0.5973\n",
      "Epoch 118/500\n",
      "33/33 [==============================] - 0s 4ms/step - loss: 0.6600 - acc: 0.6321 - val_loss: 0.6819 - val_acc: 0.5973\n",
      "Epoch 119/500\n",
      "33/33 [==============================] - 0s 4ms/step - loss: 0.6600 - acc: 0.6321 - val_loss: 0.6819 - val_acc: 0.5973\n",
      "Epoch 120/500\n",
      "33/33 [==============================] - 0s 4ms/step - loss: 0.6600 - acc: 0.6321 - val_loss: 0.6819 - val_acc: 0.5973\n",
      "Epoch 121/500\n",
      "33/33 [==============================] - 0s 4ms/step - loss: 0.6600 - acc: 0.6321 - val_loss: 0.6819 - val_acc: 0.5973\n",
      "Epoch 122/500\n",
      "33/33 [==============================] - 0s 4ms/step - loss: 0.6600 - acc: 0.6321 - val_loss: 0.6819 - val_acc: 0.5973\n",
      "Epoch 123/500\n",
      "33/33 [==============================] - 0s 4ms/step - loss: 0.6600 - acc: 0.6321 - val_loss: 0.6819 - val_acc: 0.5973\n",
      "Epoch 124/500\n",
      "33/33 [==============================] - 0s 5ms/step - loss: 0.6600 - acc: 0.6321 - val_loss: 0.6819 - val_acc: 0.5973\n",
      "Epoch 125/500\n",
      "33/33 [==============================] - 0s 4ms/step - loss: 0.6600 - acc: 0.6321 - val_loss: 0.6819 - val_acc: 0.5973\n",
      "Epoch 126/500\n",
      "33/33 [==============================] - 0s 4ms/step - loss: 0.6600 - acc: 0.6321 - val_loss: 0.6819 - val_acc: 0.5973\n",
      "Epoch 127/500\n",
      "33/33 [==============================] - 0s 5ms/step - loss: 0.6600 - acc: 0.6321 - val_loss: 0.6819 - val_acc: 0.5973\n",
      "Epoch 128/500\n",
      "33/33 [==============================] - 0s 5ms/step - loss: 0.6600 - acc: 0.6321 - val_loss: 0.6819 - val_acc: 0.5973\n",
      "Epoch 129/500\n",
      "33/33 [==============================] - 0s 5ms/step - loss: 0.6600 - acc: 0.6321 - val_loss: 0.6819 - val_acc: 0.5973\n",
      "Epoch 130/500\n",
      "33/33 [==============================] - 0s 5ms/step - loss: 0.6600 - acc: 0.6321 - val_loss: 0.6819 - val_acc: 0.5973\n",
      "Epoch 131/500\n",
      "33/33 [==============================] - 0s 5ms/step - loss: 0.6600 - acc: 0.6321 - val_loss: 0.6819 - val_acc: 0.5973\n",
      "Epoch 132/500\n",
      "33/33 [==============================] - 0s 6ms/step - loss: 0.6600 - acc: 0.6321 - val_loss: 0.6819 - val_acc: 0.5973\n",
      "Epoch 133/500\n",
      "33/33 [==============================] - 0s 6ms/step - loss: 0.6600 - acc: 0.6321 - val_loss: 0.6819 - val_acc: 0.5973\n",
      "Epoch 134/500\n",
      "33/33 [==============================] - 0s 6ms/step - loss: 0.6600 - acc: 0.6321 - val_loss: 0.6819 - val_acc: 0.5973\n",
      "Epoch 135/500\n",
      "33/33 [==============================] - 0s 5ms/step - loss: 0.6600 - acc: 0.6321 - val_loss: 0.6819 - val_acc: 0.5973\n",
      "Epoch 136/500\n",
      "33/33 [==============================] - 0s 5ms/step - loss: 0.6600 - acc: 0.6321 - val_loss: 0.6819 - val_acc: 0.5973\n",
      "Epoch 137/500\n",
      "33/33 [==============================] - 0s 5ms/step - loss: 0.6600 - acc: 0.6321 - val_loss: 0.6819 - val_acc: 0.5973\n",
      "Epoch 138/500\n",
      "33/33 [==============================] - 0s 4ms/step - loss: 0.6600 - acc: 0.6321 - val_loss: 0.6819 - val_acc: 0.5973\n",
      "Epoch 139/500\n",
      "33/33 [==============================] - 0s 5ms/step - loss: 0.6600 - acc: 0.6321 - val_loss: 0.6819 - val_acc: 0.5973\n",
      "Epoch 140/500\n",
      "33/33 [==============================] - 0s 5ms/step - loss: 0.6600 - acc: 0.6321 - val_loss: 0.6819 - val_acc: 0.5973\n",
      "Epoch 141/500\n",
      "33/33 [==============================] - 0s 5ms/step - loss: 0.6600 - acc: 0.6321 - val_loss: 0.6819 - val_acc: 0.5973\n",
      "Epoch 142/500\n",
      "33/33 [==============================] - 0s 5ms/step - loss: 0.6600 - acc: 0.6321 - val_loss: 0.6819 - val_acc: 0.5973\n",
      "Epoch 143/500\n",
      "33/33 [==============================] - 0s 5ms/step - loss: 0.6600 - acc: 0.6321 - val_loss: 0.6819 - val_acc: 0.5973\n",
      "Epoch 144/500\n",
      "33/33 [==============================] - 0s 5ms/step - loss: 0.6600 - acc: 0.6321 - val_loss: 0.6819 - val_acc: 0.5973\n",
      "Epoch 145/500\n",
      "33/33 [==============================] - 0s 5ms/step - loss: 0.6600 - acc: 0.6321 - val_loss: 0.6819 - val_acc: 0.5973\n",
      "Epoch 146/500\n",
      "33/33 [==============================] - 0s 4ms/step - loss: 0.6600 - acc: 0.6321 - val_loss: 0.6819 - val_acc: 0.5973\n",
      "Epoch 147/500\n",
      "33/33 [==============================] - 0s 4ms/step - loss: 0.6600 - acc: 0.6321 - val_loss: 0.6819 - val_acc: 0.5973\n",
      "Epoch 148/500\n",
      "33/33 [==============================] - 0s 4ms/step - loss: 0.6600 - acc: 0.6321 - val_loss: 0.6819 - val_acc: 0.5973\n",
      "Epoch 149/500\n",
      "33/33 [==============================] - 0s 4ms/step - loss: 0.6600 - acc: 0.6321 - val_loss: 0.6819 - val_acc: 0.5973\n",
      "Epoch 150/500\n",
      "33/33 [==============================] - 0s 4ms/step - loss: 0.6600 - acc: 0.6321 - val_loss: 0.6819 - val_acc: 0.5973\n",
      "Epoch 151/500\n",
      "33/33 [==============================] - 0s 4ms/step - loss: 0.6600 - acc: 0.6321 - val_loss: 0.6819 - val_acc: 0.5973\n",
      "Epoch 152/500\n",
      "33/33 [==============================] - 0s 4ms/step - loss: 0.6600 - acc: 0.6321 - val_loss: 0.6819 - val_acc: 0.5973\n",
      "Epoch 153/500\n",
      "33/33 [==============================] - 0s 4ms/step - loss: 0.6600 - acc: 0.6321 - val_loss: 0.6819 - val_acc: 0.5973\n",
      "Epoch 154/500\n",
      "33/33 [==============================] - 0s 4ms/step - loss: 0.6600 - acc: 0.6321 - val_loss: 0.6819 - val_acc: 0.5973\n",
      "Epoch 155/500\n",
      "33/33 [==============================] - 0s 4ms/step - loss: 0.6600 - acc: 0.6321 - val_loss: 0.6819 - val_acc: 0.5973\n",
      "Epoch 156/500\n",
      "33/33 [==============================] - 0s 5ms/step - loss: 0.6600 - acc: 0.6321 - val_loss: 0.6819 - val_acc: 0.5973\n",
      "Epoch 157/500\n",
      "33/33 [==============================] - 0s 4ms/step - loss: 0.6600 - acc: 0.6321 - val_loss: 0.6819 - val_acc: 0.5973\n",
      "Epoch 158/500\n",
      "33/33 [==============================] - 0s 5ms/step - loss: 0.6600 - acc: 0.6321 - val_loss: 0.6819 - val_acc: 0.5973\n",
      "Epoch 159/500\n",
      "33/33 [==============================] - 0s 4ms/step - loss: 0.6600 - acc: 0.6321 - val_loss: 0.6819 - val_acc: 0.5973\n",
      "Epoch 160/500\n",
      "33/33 [==============================] - 0s 4ms/step - loss: 0.6600 - acc: 0.6321 - val_loss: 0.6819 - val_acc: 0.5973\n",
      "Epoch 161/500\n",
      "33/33 [==============================] - 0s 5ms/step - loss: 0.6600 - acc: 0.6321 - val_loss: 0.6819 - val_acc: 0.5973\n",
      "Epoch 162/500\n",
      "33/33 [==============================] - 0s 5ms/step - loss: 0.6600 - acc: 0.6321 - val_loss: 0.6819 - val_acc: 0.5973\n",
      "Epoch 163/500\n",
      "33/33 [==============================] - 0s 5ms/step - loss: 0.6600 - acc: 0.6321 - val_loss: 0.6819 - val_acc: 0.5973\n",
      "Epoch 164/500\n",
      "33/33 [==============================] - 0s 4ms/step - loss: 0.6600 - acc: 0.6321 - val_loss: 0.6819 - val_acc: 0.5973\n",
      "Epoch 165/500\n",
      "33/33 [==============================] - 0s 5ms/step - loss: 0.6600 - acc: 0.6321 - val_loss: 0.6819 - val_acc: 0.5973\n",
      "Epoch 166/500\n",
      "33/33 [==============================] - 0s 5ms/step - loss: 0.6600 - acc: 0.6321 - val_loss: 0.6819 - val_acc: 0.5973\n",
      "Epoch 167/500\n",
      "33/33 [==============================] - 0s 5ms/step - loss: 0.6600 - acc: 0.6321 - val_loss: 0.6819 - val_acc: 0.5973\n",
      "Epoch 168/500\n",
      "33/33 [==============================] - 0s 5ms/step - loss: 0.6600 - acc: 0.6321 - val_loss: 0.6819 - val_acc: 0.5973\n",
      "Epoch 169/500\n",
      "33/33 [==============================] - 0s 4ms/step - loss: 0.6600 - acc: 0.6321 - val_loss: 0.6819 - val_acc: 0.5973\n",
      "Epoch 170/500\n",
      "33/33 [==============================] - 0s 4ms/step - loss: 0.6600 - acc: 0.6321 - val_loss: 0.6819 - val_acc: 0.5973\n",
      "Epoch 171/500\n",
      "33/33 [==============================] - 0s 4ms/step - loss: 0.6600 - acc: 0.6321 - val_loss: 0.6819 - val_acc: 0.5973\n",
      "Epoch 172/500\n",
      "33/33 [==============================] - 0s 4ms/step - loss: 0.6600 - acc: 0.6321 - val_loss: 0.6819 - val_acc: 0.5973\n",
      "Epoch 173/500\n",
      "33/33 [==============================] - 0s 4ms/step - loss: 0.6600 - acc: 0.6321 - val_loss: 0.6819 - val_acc: 0.5973\n",
      "Epoch 174/500\n",
      "33/33 [==============================] - 0s 4ms/step - loss: 0.6600 - acc: 0.6321 - val_loss: 0.6819 - val_acc: 0.5973\n",
      "Epoch 175/500\n",
      "33/33 [==============================] - 0s 4ms/step - loss: 0.6600 - acc: 0.6321 - val_loss: 0.6819 - val_acc: 0.5973\n",
      "Epoch 176/500\n",
      "33/33 [==============================] - 0s 5ms/step - loss: 0.6600 - acc: 0.6321 - val_loss: 0.6819 - val_acc: 0.5973\n",
      "Epoch 177/500\n",
      "33/33 [==============================] - 0s 5ms/step - loss: 0.6600 - acc: 0.6321 - val_loss: 0.6819 - val_acc: 0.5973\n",
      "Epoch 178/500\n",
      "33/33 [==============================] - 0s 5ms/step - loss: 0.6600 - acc: 0.6321 - val_loss: 0.6819 - val_acc: 0.5973\n",
      "Epoch 179/500\n",
      "33/33 [==============================] - 0s 5ms/step - loss: 0.6600 - acc: 0.6321 - val_loss: 0.6819 - val_acc: 0.5973\n",
      "Epoch 180/500\n",
      "33/33 [==============================] - 0s 5ms/step - loss: 0.6600 - acc: 0.6321 - val_loss: 0.6819 - val_acc: 0.5973\n",
      "Epoch 181/500\n",
      "33/33 [==============================] - 0s 5ms/step - loss: 0.6600 - acc: 0.6321 - val_loss: 0.6819 - val_acc: 0.5973\n",
      "Epoch 182/500\n",
      "33/33 [==============================] - 0s 4ms/step - loss: 0.6600 - acc: 0.6321 - val_loss: 0.6819 - val_acc: 0.5973\n",
      "Epoch 183/500\n",
      "33/33 [==============================] - 0s 5ms/step - loss: 0.6600 - acc: 0.6321 - val_loss: 0.6819 - val_acc: 0.5973\n",
      "Epoch 184/500\n",
      "33/33 [==============================] - 0s 5ms/step - loss: 0.6600 - acc: 0.6321 - val_loss: 0.6819 - val_acc: 0.5973\n",
      "Epoch 185/500\n",
      "33/33 [==============================] - 0s 4ms/step - loss: 0.6600 - acc: 0.6321 - val_loss: 0.6819 - val_acc: 0.5973\n",
      "Epoch 186/500\n",
      "33/33 [==============================] - 0s 4ms/step - loss: 0.6600 - acc: 0.6321 - val_loss: 0.6819 - val_acc: 0.5973\n",
      "Epoch 187/500\n",
      "33/33 [==============================] - 0s 5ms/step - loss: 0.6600 - acc: 0.6321 - val_loss: 0.6819 - val_acc: 0.5973\n",
      "Epoch 188/500\n",
      "33/33 [==============================] - 0s 5ms/step - loss: 0.6600 - acc: 0.6321 - val_loss: 0.6819 - val_acc: 0.5973\n",
      "Epoch 189/500\n",
      "33/33 [==============================] - 0s 5ms/step - loss: 0.6600 - acc: 0.6321 - val_loss: 0.6819 - val_acc: 0.5973\n",
      "Epoch 190/500\n",
      "33/33 [==============================] - 0s 5ms/step - loss: 0.6600 - acc: 0.6321 - val_loss: 0.6819 - val_acc: 0.5973\n",
      "Epoch 191/500\n",
      "33/33 [==============================] - 0s 5ms/step - loss: 0.6600 - acc: 0.6321 - val_loss: 0.6819 - val_acc: 0.5973\n",
      "Epoch 192/500\n",
      "33/33 [==============================] - 0s 5ms/step - loss: 0.6600 - acc: 0.6321 - val_loss: 0.6819 - val_acc: 0.5973\n",
      "Epoch 193/500\n",
      "33/33 [==============================] - 0s 5ms/step - loss: 0.6600 - acc: 0.6321 - val_loss: 0.6819 - val_acc: 0.5973\n",
      "Epoch 194/500\n",
      "33/33 [==============================] - 0s 5ms/step - loss: 0.6600 - acc: 0.6321 - val_loss: 0.6819 - val_acc: 0.5973\n",
      "Epoch 195/500\n",
      "33/33 [==============================] - 0s 5ms/step - loss: 0.6600 - acc: 0.6321 - val_loss: 0.6819 - val_acc: 0.5973\n",
      "Epoch 196/500\n",
      "33/33 [==============================] - 0s 5ms/step - loss: 0.6600 - acc: 0.6321 - val_loss: 0.6819 - val_acc: 0.5973\n",
      "Epoch 197/500\n",
      "33/33 [==============================] - 0s 5ms/step - loss: 0.6600 - acc: 0.6321 - val_loss: 0.6819 - val_acc: 0.5973\n",
      "Epoch 198/500\n",
      "33/33 [==============================] - 0s 5ms/step - loss: 0.6600 - acc: 0.6321 - val_loss: 0.6819 - val_acc: 0.5973\n",
      "Epoch 199/500\n",
      "33/33 [==============================] - 0s 4ms/step - loss: 0.6600 - acc: 0.6321 - val_loss: 0.6819 - val_acc: 0.5973\n",
      "Epoch 200/500\n",
      "33/33 [==============================] - 0s 5ms/step - loss: 0.6600 - acc: 0.6321 - val_loss: 0.6819 - val_acc: 0.5973\n",
      "Epoch 201/500\n",
      "33/33 [==============================] - 0s 5ms/step - loss: 0.6600 - acc: 0.6321 - val_loss: 0.6819 - val_acc: 0.5973\n",
      "Epoch 202/500\n",
      "33/33 [==============================] - 0s 5ms/step - loss: 0.6600 - acc: 0.6321 - val_loss: 0.6819 - val_acc: 0.5973\n",
      "Epoch 203/500\n",
      "33/33 [==============================] - 0s 5ms/step - loss: 0.6600 - acc: 0.6321 - val_loss: 0.6819 - val_acc: 0.5973\n",
      "Epoch 204/500\n",
      "33/33 [==============================] - 0s 5ms/step - loss: 0.6600 - acc: 0.6321 - val_loss: 0.6819 - val_acc: 0.5973\n",
      "Epoch 205/500\n",
      "33/33 [==============================] - 0s 5ms/step - loss: 0.6600 - acc: 0.6321 - val_loss: 0.6819 - val_acc: 0.5973\n",
      "Epoch 206/500\n",
      "33/33 [==============================] - 0s 5ms/step - loss: 0.6600 - acc: 0.6321 - val_loss: 0.6819 - val_acc: 0.5973\n",
      "Epoch 207/500\n",
      "33/33 [==============================] - 0s 5ms/step - loss: 0.6600 - acc: 0.6321 - val_loss: 0.6819 - val_acc: 0.5973\n",
      "Epoch 208/500\n",
      "33/33 [==============================] - 0s 5ms/step - loss: 0.6600 - acc: 0.6321 - val_loss: 0.6819 - val_acc: 0.5973\n",
      "Epoch 209/500\n",
      "33/33 [==============================] - 0s 5ms/step - loss: 0.6600 - acc: 0.6321 - val_loss: 0.6819 - val_acc: 0.5973\n",
      "Epoch 210/500\n",
      "33/33 [==============================] - 0s 5ms/step - loss: 0.6600 - acc: 0.6321 - val_loss: 0.6819 - val_acc: 0.5973\n",
      "Epoch 211/500\n",
      "33/33 [==============================] - 0s 5ms/step - loss: 0.6600 - acc: 0.6321 - val_loss: 0.6819 - val_acc: 0.5973\n",
      "Epoch 212/500\n",
      "33/33 [==============================] - 0s 4ms/step - loss: 0.6600 - acc: 0.6321 - val_loss: 0.6819 - val_acc: 0.5973\n",
      "Epoch 213/500\n",
      "33/33 [==============================] - 0s 4ms/step - loss: 0.6600 - acc: 0.6321 - val_loss: 0.6819 - val_acc: 0.5973\n",
      "Epoch 214/500\n",
      "33/33 [==============================] - 0s 4ms/step - loss: 0.6600 - acc: 0.6321 - val_loss: 0.6819 - val_acc: 0.5973\n",
      "Epoch 215/500\n",
      "33/33 [==============================] - 0s 4ms/step - loss: 0.6600 - acc: 0.6321 - val_loss: 0.6819 - val_acc: 0.5973\n",
      "Epoch 216/500\n",
      "33/33 [==============================] - 0s 4ms/step - loss: 0.6600 - acc: 0.6321 - val_loss: 0.6819 - val_acc: 0.5973\n",
      "Epoch 217/500\n",
      "33/33 [==============================] - 0s 5ms/step - loss: 0.6600 - acc: 0.6321 - val_loss: 0.6819 - val_acc: 0.5973\n",
      "Epoch 218/500\n",
      "33/33 [==============================] - 0s 5ms/step - loss: 0.6600 - acc: 0.6321 - val_loss: 0.6819 - val_acc: 0.5973\n",
      "Epoch 219/500\n",
      "33/33 [==============================] - 0s 5ms/step - loss: 0.6600 - acc: 0.6321 - val_loss: 0.6819 - val_acc: 0.5973\n",
      "Epoch 220/500\n",
      "33/33 [==============================] - 0s 4ms/step - loss: 0.6600 - acc: 0.6321 - val_loss: 0.6819 - val_acc: 0.5973\n",
      "Epoch 221/500\n",
      "33/33 [==============================] - 0s 4ms/step - loss: 0.6600 - acc: 0.6321 - val_loss: 0.6819 - val_acc: 0.5973\n",
      "Epoch 222/500\n",
      "33/33 [==============================] - 0s 4ms/step - loss: 0.6600 - acc: 0.6321 - val_loss: 0.6819 - val_acc: 0.5973\n",
      "Epoch 223/500\n",
      "33/33 [==============================] - 0s 4ms/step - loss: 0.6600 - acc: 0.6321 - val_loss: 0.6819 - val_acc: 0.5973\n",
      "Epoch 224/500\n",
      "33/33 [==============================] - 0s 4ms/step - loss: 0.6600 - acc: 0.6321 - val_loss: 0.6819 - val_acc: 0.5973\n",
      "Epoch 225/500\n",
      "33/33 [==============================] - 0s 4ms/step - loss: 0.6600 - acc: 0.6321 - val_loss: 0.6819 - val_acc: 0.5973\n",
      "Epoch 226/500\n",
      "33/33 [==============================] - 0s 4ms/step - loss: 0.6600 - acc: 0.6321 - val_loss: 0.6819 - val_acc: 0.5973\n",
      "Epoch 227/500\n",
      "33/33 [==============================] - 0s 5ms/step - loss: 0.6600 - acc: 0.6321 - val_loss: 0.6819 - val_acc: 0.5973\n",
      "Epoch 228/500\n",
      "33/33 [==============================] - 0s 4ms/step - loss: 0.6600 - acc: 0.6321 - val_loss: 0.6819 - val_acc: 0.5973\n",
      "Epoch 229/500\n",
      "33/33 [==============================] - 0s 4ms/step - loss: 0.6600 - acc: 0.6321 - val_loss: 0.6819 - val_acc: 0.5973\n",
      "Epoch 230/500\n",
      "33/33 [==============================] - 0s 5ms/step - loss: 0.6600 - acc: 0.6321 - val_loss: 0.6819 - val_acc: 0.5973\n",
      "Epoch 231/500\n",
      "33/33 [==============================] - 0s 5ms/step - loss: 0.6600 - acc: 0.6321 - val_loss: 0.6819 - val_acc: 0.5973\n",
      "Epoch 232/500\n",
      "33/33 [==============================] - 0s 4ms/step - loss: 0.6600 - acc: 0.6321 - val_loss: 0.6819 - val_acc: 0.5973\n",
      "Epoch 233/500\n",
      "33/33 [==============================] - 0s 4ms/step - loss: 0.6600 - acc: 0.6321 - val_loss: 0.6819 - val_acc: 0.5973\n",
      "Epoch 234/500\n",
      "33/33 [==============================] - 0s 4ms/step - loss: 0.6600 - acc: 0.6321 - val_loss: 0.6819 - val_acc: 0.5973\n",
      "Epoch 235/500\n",
      "33/33 [==============================] - 0s 5ms/step - loss: 0.6600 - acc: 0.6321 - val_loss: 0.6819 - val_acc: 0.5973\n",
      "Epoch 236/500\n",
      "33/33 [==============================] - 0s 5ms/step - loss: 0.6600 - acc: 0.6321 - val_loss: 0.6819 - val_acc: 0.5973\n",
      "Epoch 237/500\n",
      "33/33 [==============================] - 0s 5ms/step - loss: 0.6600 - acc: 0.6321 - val_loss: 0.6819 - val_acc: 0.5973\n",
      "Epoch 238/500\n",
      "33/33 [==============================] - 0s 5ms/step - loss: 0.6600 - acc: 0.6321 - val_loss: 0.6819 - val_acc: 0.5973\n",
      "Epoch 239/500\n",
      "33/33 [==============================] - 0s 5ms/step - loss: 0.6600 - acc: 0.6321 - val_loss: 0.6819 - val_acc: 0.5973\n",
      "Epoch 240/500\n",
      "33/33 [==============================] - 0s 4ms/step - loss: 0.6600 - acc: 0.6321 - val_loss: 0.6819 - val_acc: 0.5973\n",
      "Epoch 241/500\n",
      "33/33 [==============================] - 0s 4ms/step - loss: 0.6600 - acc: 0.6321 - val_loss: 0.6819 - val_acc: 0.5973\n",
      "Epoch 242/500\n",
      "33/33 [==============================] - 0s 5ms/step - loss: 0.6600 - acc: 0.6321 - val_loss: 0.6819 - val_acc: 0.5973\n",
      "Epoch 243/500\n",
      "33/33 [==============================] - 0s 4ms/step - loss: 0.6600 - acc: 0.6321 - val_loss: 0.6819 - val_acc: 0.5973\n",
      "Epoch 244/500\n",
      "33/33 [==============================] - 0s 4ms/step - loss: 0.6600 - acc: 0.6321 - val_loss: 0.6819 - val_acc: 0.5973\n",
      "Epoch 245/500\n",
      "33/33 [==============================] - 0s 4ms/step - loss: 0.6600 - acc: 0.6321 - val_loss: 0.6819 - val_acc: 0.5973\n",
      "Epoch 246/500\n",
      "33/33 [==============================] - 0s 4ms/step - loss: 0.6600 - acc: 0.6321 - val_loss: 0.6819 - val_acc: 0.5973\n",
      "Epoch 247/500\n",
      "33/33 [==============================] - 0s 4ms/step - loss: 0.6600 - acc: 0.6321 - val_loss: 0.6819 - val_acc: 0.5973\n",
      "Epoch 248/500\n",
      "33/33 [==============================] - 0s 4ms/step - loss: 0.6600 - acc: 0.6321 - val_loss: 0.6819 - val_acc: 0.5973\n",
      "Epoch 249/500\n",
      "33/33 [==============================] - 0s 5ms/step - loss: 0.6600 - acc: 0.6321 - val_loss: 0.6819 - val_acc: 0.5973\n",
      "Epoch 250/500\n",
      "33/33 [==============================] - 0s 4ms/step - loss: 0.6600 - acc: 0.6321 - val_loss: 0.6819 - val_acc: 0.5973\n",
      "Epoch 251/500\n",
      "33/33 [==============================] - 0s 4ms/step - loss: 0.6600 - acc: 0.6321 - val_loss: 0.6819 - val_acc: 0.5973\n",
      "Epoch 252/500\n",
      "33/33 [==============================] - 0s 5ms/step - loss: 0.6600 - acc: 0.6321 - val_loss: 0.6819 - val_acc: 0.5973\n",
      "Epoch 253/500\n",
      "33/33 [==============================] - 0s 5ms/step - loss: 0.6600 - acc: 0.6321 - val_loss: 0.6819 - val_acc: 0.5973\n",
      "Epoch 254/500\n",
      "33/33 [==============================] - 0s 5ms/step - loss: 0.6600 - acc: 0.6321 - val_loss: 0.6819 - val_acc: 0.5973\n",
      "Epoch 255/500\n",
      "33/33 [==============================] - 0s 5ms/step - loss: 0.6600 - acc: 0.6321 - val_loss: 0.6819 - val_acc: 0.5973\n",
      "Epoch 256/500\n",
      "33/33 [==============================] - 0s 5ms/step - loss: 0.6600 - acc: 0.6321 - val_loss: 0.6819 - val_acc: 0.5973\n",
      "Epoch 257/500\n",
      "33/33 [==============================] - 0s 4ms/step - loss: 0.6600 - acc: 0.6321 - val_loss: 0.6819 - val_acc: 0.5973\n",
      "Epoch 258/500\n",
      "33/33 [==============================] - 0s 4ms/step - loss: 0.6600 - acc: 0.6321 - val_loss: 0.6819 - val_acc: 0.5973\n",
      "Epoch 259/500\n",
      "33/33 [==============================] - 0s 5ms/step - loss: 0.6600 - acc: 0.6321 - val_loss: 0.6819 - val_acc: 0.5973\n",
      "Epoch 260/500\n",
      "33/33 [==============================] - 0s 5ms/step - loss: 0.6600 - acc: 0.6321 - val_loss: 0.6819 - val_acc: 0.5973\n",
      "Epoch 261/500\n",
      "33/33 [==============================] - 0s 5ms/step - loss: 0.6600 - acc: 0.6321 - val_loss: 0.6819 - val_acc: 0.5973\n",
      "Epoch 262/500\n",
      "33/33 [==============================] - 0s 5ms/step - loss: 0.6600 - acc: 0.6321 - val_loss: 0.6819 - val_acc: 0.5973\n",
      "Epoch 263/500\n",
      "33/33 [==============================] - 0s 4ms/step - loss: 0.6600 - acc: 0.6321 - val_loss: 0.6819 - val_acc: 0.5973\n",
      "Epoch 264/500\n",
      "33/33 [==============================] - 0s 5ms/step - loss: 0.6600 - acc: 0.6321 - val_loss: 0.6819 - val_acc: 0.5973\n",
      "Epoch 265/500\n",
      "33/33 [==============================] - 0s 5ms/step - loss: 0.6600 - acc: 0.6321 - val_loss: 0.6819 - val_acc: 0.5973\n",
      "Epoch 266/500\n",
      "33/33 [==============================] - 0s 4ms/step - loss: 0.6600 - acc: 0.6321 - val_loss: 0.6819 - val_acc: 0.5973\n",
      "Epoch 267/500\n",
      "33/33 [==============================] - 0s 4ms/step - loss: 0.6600 - acc: 0.6321 - val_loss: 0.6819 - val_acc: 0.5973\n",
      "Epoch 268/500\n",
      "33/33 [==============================] - 0s 5ms/step - loss: 0.6600 - acc: 0.6321 - val_loss: 0.6819 - val_acc: 0.5973\n",
      "Epoch 269/500\n",
      "33/33 [==============================] - 0s 5ms/step - loss: 0.6600 - acc: 0.6321 - val_loss: 0.6819 - val_acc: 0.5973\n",
      "Epoch 270/500\n",
      "33/33 [==============================] - 0s 5ms/step - loss: 0.6600 - acc: 0.6321 - val_loss: 0.6819 - val_acc: 0.5973\n",
      "Epoch 271/500\n",
      "33/33 [==============================] - 0s 6ms/step - loss: 0.6600 - acc: 0.6321 - val_loss: 0.6819 - val_acc: 0.5973\n",
      "Epoch 272/500\n",
      "33/33 [==============================] - 0s 4ms/step - loss: 0.6600 - acc: 0.6321 - val_loss: 0.6819 - val_acc: 0.5973\n",
      "Epoch 273/500\n",
      "33/33 [==============================] - 0s 4ms/step - loss: 0.6600 - acc: 0.6321 - val_loss: 0.6819 - val_acc: 0.5973\n",
      "Epoch 274/500\n",
      "33/33 [==============================] - 0s 4ms/step - loss: 0.6600 - acc: 0.6321 - val_loss: 0.6819 - val_acc: 0.5973\n",
      "Epoch 275/500\n",
      "33/33 [==============================] - 0s 4ms/step - loss: 0.6600 - acc: 0.6321 - val_loss: 0.6819 - val_acc: 0.5973\n",
      "Epoch 276/500\n",
      "33/33 [==============================] - 0s 4ms/step - loss: 0.6600 - acc: 0.6321 - val_loss: 0.6819 - val_acc: 0.5973\n",
      "Epoch 277/500\n",
      "33/33 [==============================] - 0s 4ms/step - loss: 0.6600 - acc: 0.6321 - val_loss: 0.6819 - val_acc: 0.5973\n",
      "Epoch 278/500\n",
      "33/33 [==============================] - 0s 4ms/step - loss: 0.6600 - acc: 0.6321 - val_loss: 0.6819 - val_acc: 0.5973\n",
      "Epoch 279/500\n",
      "33/33 [==============================] - 0s 4ms/step - loss: 0.6600 - acc: 0.6321 - val_loss: 0.6819 - val_acc: 0.5973\n",
      "Epoch 280/500\n",
      "33/33 [==============================] - 0s 4ms/step - loss: 0.6600 - acc: 0.6321 - val_loss: 0.6819 - val_acc: 0.5973\n",
      "Epoch 281/500\n",
      "33/33 [==============================] - 0s 5ms/step - loss: 0.6600 - acc: 0.6321 - val_loss: 0.6819 - val_acc: 0.5973\n",
      "Epoch 282/500\n",
      "33/33 [==============================] - 0s 5ms/step - loss: 0.6600 - acc: 0.6321 - val_loss: 0.6819 - val_acc: 0.5973\n",
      "Epoch 283/500\n",
      "33/33 [==============================] - 0s 4ms/step - loss: 0.6600 - acc: 0.6321 - val_loss: 0.6819 - val_acc: 0.5973\n",
      "Epoch 284/500\n",
      "33/33 [==============================] - 0s 4ms/step - loss: 0.6600 - acc: 0.6321 - val_loss: 0.6819 - val_acc: 0.5973\n",
      "Epoch 285/500\n",
      "33/33 [==============================] - 0s 5ms/step - loss: 0.6600 - acc: 0.6321 - val_loss: 0.6819 - val_acc: 0.5973\n",
      "Epoch 286/500\n",
      "33/33 [==============================] - 0s 4ms/step - loss: 0.6600 - acc: 0.6321 - val_loss: 0.6819 - val_acc: 0.5973\n",
      "Epoch 287/500\n",
      "33/33 [==============================] - 0s 4ms/step - loss: 0.6600 - acc: 0.6321 - val_loss: 0.6819 - val_acc: 0.5973\n",
      "Epoch 288/500\n",
      "33/33 [==============================] - 0s 4ms/step - loss: 0.6600 - acc: 0.6321 - val_loss: 0.6819 - val_acc: 0.5973\n",
      "Epoch 289/500\n",
      "33/33 [==============================] - 0s 5ms/step - loss: 0.6600 - acc: 0.6321 - val_loss: 0.6819 - val_acc: 0.5973\n",
      "Epoch 290/500\n",
      "33/33 [==============================] - 0s 4ms/step - loss: 0.6600 - acc: 0.6321 - val_loss: 0.6819 - val_acc: 0.5973\n",
      "Epoch 291/500\n",
      "33/33 [==============================] - 0s 4ms/step - loss: 0.6600 - acc: 0.6321 - val_loss: 0.6819 - val_acc: 0.5973\n",
      "Epoch 292/500\n",
      "33/33 [==============================] - 0s 5ms/step - loss: 0.6600 - acc: 0.6321 - val_loss: 0.6819 - val_acc: 0.5973\n",
      "Epoch 293/500\n",
      "33/33 [==============================] - 0s 5ms/step - loss: 0.6600 - acc: 0.6321 - val_loss: 0.6819 - val_acc: 0.5973\n",
      "Epoch 294/500\n",
      "33/33 [==============================] - 0s 5ms/step - loss: 0.6600 - acc: 0.6321 - val_loss: 0.6819 - val_acc: 0.5973\n",
      "Epoch 295/500\n",
      "33/33 [==============================] - 0s 5ms/step - loss: 0.6600 - acc: 0.6321 - val_loss: 0.6819 - val_acc: 0.5973\n",
      "Epoch 296/500\n",
      "33/33 [==============================] - 0s 5ms/step - loss: 0.6600 - acc: 0.6321 - val_loss: 0.6819 - val_acc: 0.5973\n",
      "Epoch 297/500\n",
      "33/33 [==============================] - 0s 5ms/step - loss: 0.6600 - acc: 0.6321 - val_loss: 0.6819 - val_acc: 0.5973\n",
      "Epoch 298/500\n",
      "33/33 [==============================] - 0s 5ms/step - loss: 0.6600 - acc: 0.6321 - val_loss: 0.6819 - val_acc: 0.5973\n",
      "Epoch 299/500\n",
      "33/33 [==============================] - 0s 5ms/step - loss: 0.6600 - acc: 0.6321 - val_loss: 0.6819 - val_acc: 0.5973\n",
      "Epoch 300/500\n",
      "33/33 [==============================] - 0s 5ms/step - loss: 0.6600 - acc: 0.6321 - val_loss: 0.6819 - val_acc: 0.5973\n",
      "Epoch 301/500\n",
      "33/33 [==============================] - 0s 4ms/step - loss: 0.6600 - acc: 0.6321 - val_loss: 0.6819 - val_acc: 0.5973\n",
      "Epoch 302/500\n",
      "33/33 [==============================] - 0s 4ms/step - loss: 0.6600 - acc: 0.6321 - val_loss: 0.6819 - val_acc: 0.5973\n",
      "Epoch 303/500\n",
      "33/33 [==============================] - 0s 4ms/step - loss: 0.6600 - acc: 0.6321 - val_loss: 0.6819 - val_acc: 0.5973\n",
      "Epoch 304/500\n",
      "33/33 [==============================] - 0s 4ms/step - loss: 0.6600 - acc: 0.6321 - val_loss: 0.6819 - val_acc: 0.5973\n",
      "Epoch 305/500\n",
      "33/33 [==============================] - 0s 4ms/step - loss: 0.6600 - acc: 0.6321 - val_loss: 0.6819 - val_acc: 0.5973\n",
      "Epoch 306/500\n",
      "33/33 [==============================] - 0s 5ms/step - loss: 0.6600 - acc: 0.6321 - val_loss: 0.6819 - val_acc: 0.5973\n",
      "Epoch 307/500\n",
      "33/33 [==============================] - 0s 5ms/step - loss: 0.6600 - acc: 0.6321 - val_loss: 0.6819 - val_acc: 0.5973\n",
      "Epoch 308/500\n",
      "33/33 [==============================] - 0s 5ms/step - loss: 0.6600 - acc: 0.6321 - val_loss: 0.6819 - val_acc: 0.5973\n",
      "Epoch 309/500\n",
      "33/33 [==============================] - 0s 5ms/step - loss: 0.6600 - acc: 0.6321 - val_loss: 0.6819 - val_acc: 0.5973\n",
      "Epoch 310/500\n",
      "33/33 [==============================] - 0s 4ms/step - loss: 0.6600 - acc: 0.6321 - val_loss: 0.6819 - val_acc: 0.5973\n",
      "Epoch 311/500\n",
      "33/33 [==============================] - 0s 5ms/step - loss: 0.6600 - acc: 0.6321 - val_loss: 0.6819 - val_acc: 0.5973\n",
      "Epoch 312/500\n",
      "33/33 [==============================] - 0s 5ms/step - loss: 0.6600 - acc: 0.6321 - val_loss: 0.6819 - val_acc: 0.5973\n",
      "Epoch 313/500\n",
      "33/33 [==============================] - 0s 5ms/step - loss: 0.6600 - acc: 0.6321 - val_loss: 0.6819 - val_acc: 0.5973\n",
      "Epoch 314/500\n",
      "33/33 [==============================] - 0s 5ms/step - loss: 0.6600 - acc: 0.6321 - val_loss: 0.6819 - val_acc: 0.5973\n",
      "Epoch 315/500\n",
      "33/33 [==============================] - 0s 4ms/step - loss: 0.6600 - acc: 0.6321 - val_loss: 0.6819 - val_acc: 0.5973\n",
      "Epoch 316/500\n",
      "33/33 [==============================] - 0s 5ms/step - loss: 0.6600 - acc: 0.6321 - val_loss: 0.6819 - val_acc: 0.5973\n",
      "Epoch 317/500\n",
      "33/33 [==============================] - 0s 4ms/step - loss: 0.6600 - acc: 0.6321 - val_loss: 0.6819 - val_acc: 0.5973\n",
      "Epoch 318/500\n",
      "33/33 [==============================] - 0s 4ms/step - loss: 0.6600 - acc: 0.6321 - val_loss: 0.6819 - val_acc: 0.5973\n",
      "Epoch 319/500\n",
      "33/33 [==============================] - 0s 4ms/step - loss: 0.6600 - acc: 0.6321 - val_loss: 0.6819 - val_acc: 0.5973\n",
      "Epoch 320/500\n",
      "33/33 [==============================] - 0s 5ms/step - loss: 0.6600 - acc: 0.6321 - val_loss: 0.6819 - val_acc: 0.5973\n",
      "Epoch 321/500\n",
      "33/33 [==============================] - 0s 5ms/step - loss: 0.6600 - acc: 0.6321 - val_loss: 0.6819 - val_acc: 0.5973\n",
      "Epoch 322/500\n",
      "33/33 [==============================] - 0s 4ms/step - loss: 0.6600 - acc: 0.6321 - val_loss: 0.6819 - val_acc: 0.5973\n",
      "Epoch 323/500\n",
      "33/33 [==============================] - 0s 4ms/step - loss: 0.6600 - acc: 0.6321 - val_loss: 0.6819 - val_acc: 0.5973\n",
      "Epoch 324/500\n",
      "33/33 [==============================] - 0s 4ms/step - loss: 0.6600 - acc: 0.6321 - val_loss: 0.6819 - val_acc: 0.5973\n",
      "Epoch 325/500\n",
      "33/33 [==============================] - 0s 4ms/step - loss: 0.6600 - acc: 0.6321 - val_loss: 0.6819 - val_acc: 0.5973\n",
      "Epoch 326/500\n",
      "33/33 [==============================] - 0s 5ms/step - loss: 0.6600 - acc: 0.6321 - val_loss: 0.6819 - val_acc: 0.5973\n",
      "Epoch 327/500\n",
      "33/33 [==============================] - 0s 5ms/step - loss: 0.6600 - acc: 0.6321 - val_loss: 0.6819 - val_acc: 0.5973\n",
      "Epoch 328/500\n",
      "33/33 [==============================] - 0s 5ms/step - loss: 0.6600 - acc: 0.6321 - val_loss: 0.6819 - val_acc: 0.5973\n",
      "Epoch 329/500\n",
      "33/33 [==============================] - 0s 5ms/step - loss: 0.6600 - acc: 0.6321 - val_loss: 0.6819 - val_acc: 0.5973\n",
      "Epoch 330/500\n",
      "33/33 [==============================] - 0s 5ms/step - loss: 0.6600 - acc: 0.6321 - val_loss: 0.6819 - val_acc: 0.5973\n",
      "Epoch 331/500\n",
      "33/33 [==============================] - 0s 5ms/step - loss: 0.6600 - acc: 0.6321 - val_loss: 0.6819 - val_acc: 0.5973\n",
      "Epoch 332/500\n",
      "33/33 [==============================] - 0s 5ms/step - loss: 0.6600 - acc: 0.6321 - val_loss: 0.6819 - val_acc: 0.5973\n",
      "Epoch 333/500\n",
      "33/33 [==============================] - 0s 5ms/step - loss: 0.6600 - acc: 0.6321 - val_loss: 0.6819 - val_acc: 0.5973\n",
      "Epoch 334/500\n",
      "33/33 [==============================] - 0s 4ms/step - loss: 0.6600 - acc: 0.6321 - val_loss: 0.6819 - val_acc: 0.5973\n",
      "Epoch 335/500\n",
      "33/33 [==============================] - 0s 5ms/step - loss: 0.6600 - acc: 0.6321 - val_loss: 0.6819 - val_acc: 0.5973\n",
      "Epoch 336/500\n",
      "33/33 [==============================] - 0s 5ms/step - loss: 0.6600 - acc: 0.6321 - val_loss: 0.6819 - val_acc: 0.5973\n",
      "Epoch 337/500\n",
      "33/33 [==============================] - 0s 5ms/step - loss: 0.6600 - acc: 0.6321 - val_loss: 0.6819 - val_acc: 0.5973\n",
      "Epoch 338/500\n",
      "33/33 [==============================] - 0s 5ms/step - loss: 0.6600 - acc: 0.6321 - val_loss: 0.6819 - val_acc: 0.5973\n",
      "Epoch 339/500\n",
      "33/33 [==============================] - 0s 6ms/step - loss: 0.6600 - acc: 0.6321 - val_loss: 0.6819 - val_acc: 0.5973\n",
      "Epoch 340/500\n",
      "33/33 [==============================] - 0s 4ms/step - loss: 0.6600 - acc: 0.6321 - val_loss: 0.6819 - val_acc: 0.5973\n",
      "Epoch 341/500\n",
      "33/33 [==============================] - 0s 4ms/step - loss: 0.6600 - acc: 0.6321 - val_loss: 0.6819 - val_acc: 0.5973\n",
      "Epoch 342/500\n",
      "33/33 [==============================] - 0s 4ms/step - loss: 0.6600 - acc: 0.6321 - val_loss: 0.6819 - val_acc: 0.5973\n",
      "Epoch 343/500\n",
      "33/33 [==============================] - 0s 4ms/step - loss: 0.6600 - acc: 0.6321 - val_loss: 0.6819 - val_acc: 0.5973\n",
      "Epoch 344/500\n",
      "33/33 [==============================] - 0s 4ms/step - loss: 0.6600 - acc: 0.6321 - val_loss: 0.6819 - val_acc: 0.5973\n",
      "Epoch 345/500\n",
      "33/33 [==============================] - 0s 5ms/step - loss: 0.6600 - acc: 0.6321 - val_loss: 0.6819 - val_acc: 0.5973\n",
      "Epoch 346/500\n",
      "33/33 [==============================] - 0s 5ms/step - loss: 0.6600 - acc: 0.6321 - val_loss: 0.6819 - val_acc: 0.5973\n",
      "Epoch 347/500\n",
      "33/33 [==============================] - 0s 5ms/step - loss: 0.6600 - acc: 0.6321 - val_loss: 0.6819 - val_acc: 0.5973\n",
      "Epoch 348/500\n",
      "33/33 [==============================] - 0s 4ms/step - loss: 0.6600 - acc: 0.6321 - val_loss: 0.6819 - val_acc: 0.5973\n",
      "Epoch 349/500\n",
      "33/33 [==============================] - 0s 5ms/step - loss: 0.6600 - acc: 0.6321 - val_loss: 0.6819 - val_acc: 0.5973\n",
      "Epoch 350/500\n",
      "33/33 [==============================] - 0s 4ms/step - loss: 0.6600 - acc: 0.6321 - val_loss: 0.6819 - val_acc: 0.5973\n",
      "Epoch 351/500\n",
      "33/33 [==============================] - 0s 5ms/step - loss: 0.6600 - acc: 0.6321 - val_loss: 0.6819 - val_acc: 0.5973\n",
      "Epoch 352/500\n",
      "33/33 [==============================] - 0s 4ms/step - loss: 0.6600 - acc: 0.6321 - val_loss: 0.6819 - val_acc: 0.5973\n",
      "Epoch 353/500\n",
      "33/33 [==============================] - 0s 4ms/step - loss: 0.6600 - acc: 0.6321 - val_loss: 0.6819 - val_acc: 0.5973\n",
      "Epoch 354/500\n",
      "33/33 [==============================] - 0s 4ms/step - loss: 0.6600 - acc: 0.6321 - val_loss: 0.6819 - val_acc: 0.5973\n",
      "Epoch 355/500\n",
      "33/33 [==============================] - 0s 4ms/step - loss: 0.6600 - acc: 0.6321 - val_loss: 0.6819 - val_acc: 0.5973\n",
      "Epoch 356/500\n",
      "33/33 [==============================] - 0s 5ms/step - loss: 0.6600 - acc: 0.6321 - val_loss: 0.6819 - val_acc: 0.5973\n",
      "Epoch 357/500\n",
      "33/33 [==============================] - 0s 5ms/step - loss: 0.6600 - acc: 0.6321 - val_loss: 0.6819 - val_acc: 0.5973\n",
      "Epoch 358/500\n",
      "33/33 [==============================] - 0s 4ms/step - loss: 0.6600 - acc: 0.6321 - val_loss: 0.6819 - val_acc: 0.5973\n",
      "Epoch 359/500\n",
      "33/33 [==============================] - 0s 5ms/step - loss: 0.6600 - acc: 0.6321 - val_loss: 0.6819 - val_acc: 0.5973\n",
      "Epoch 360/500\n",
      "33/33 [==============================] - 0s 5ms/step - loss: 0.6600 - acc: 0.6321 - val_loss: 0.6819 - val_acc: 0.5973\n",
      "Epoch 361/500\n",
      "33/33 [==============================] - 0s 5ms/step - loss: 0.6600 - acc: 0.6321 - val_loss: 0.6819 - val_acc: 0.5973\n",
      "Epoch 362/500\n",
      "33/33 [==============================] - 0s 5ms/step - loss: 0.6600 - acc: 0.6321 - val_loss: 0.6819 - val_acc: 0.5973\n",
      "Epoch 363/500\n",
      "33/33 [==============================] - 0s 4ms/step - loss: 0.6600 - acc: 0.6321 - val_loss: 0.6819 - val_acc: 0.5973\n",
      "Epoch 364/500\n",
      "33/33 [==============================] - 0s 5ms/step - loss: 0.6600 - acc: 0.6321 - val_loss: 0.6819 - val_acc: 0.5973\n",
      "Epoch 365/500\n",
      "33/33 [==============================] - 0s 5ms/step - loss: 0.6600 - acc: 0.6321 - val_loss: 0.6819 - val_acc: 0.5973\n",
      "Epoch 366/500\n",
      "33/33 [==============================] - 0s 5ms/step - loss: 0.6600 - acc: 0.6321 - val_loss: 0.6819 - val_acc: 0.5973\n",
      "Epoch 367/500\n",
      "33/33 [==============================] - 0s 5ms/step - loss: 0.6600 - acc: 0.6321 - val_loss: 0.6819 - val_acc: 0.5973\n",
      "Epoch 368/500\n",
      "33/33 [==============================] - 0s 5ms/step - loss: 0.6600 - acc: 0.6321 - val_loss: 0.6819 - val_acc: 0.5973\n",
      "Epoch 369/500\n",
      "33/33 [==============================] - 0s 5ms/step - loss: 0.6600 - acc: 0.6321 - val_loss: 0.6819 - val_acc: 0.5973\n",
      "Epoch 370/500\n",
      "33/33 [==============================] - 0s 5ms/step - loss: 0.6600 - acc: 0.6321 - val_loss: 0.6819 - val_acc: 0.5973\n",
      "Epoch 371/500\n",
      "33/33 [==============================] - 0s 4ms/step - loss: 0.6600 - acc: 0.6321 - val_loss: 0.6819 - val_acc: 0.5973\n",
      "Epoch 372/500\n",
      "33/33 [==============================] - 0s 5ms/step - loss: 0.6600 - acc: 0.6321 - val_loss: 0.6819 - val_acc: 0.5973\n",
      "Epoch 373/500\n",
      "33/33 [==============================] - 0s 5ms/step - loss: 0.6600 - acc: 0.6321 - val_loss: 0.6819 - val_acc: 0.5973\n",
      "Epoch 374/500\n",
      "33/33 [==============================] - 0s 5ms/step - loss: 0.6600 - acc: 0.6321 - val_loss: 0.6819 - val_acc: 0.5973\n",
      "Epoch 375/500\n",
      "33/33 [==============================] - 0s 5ms/step - loss: 0.6600 - acc: 0.6321 - val_loss: 0.6819 - val_acc: 0.5973\n",
      "Epoch 376/500\n",
      "33/33 [==============================] - 0s 5ms/step - loss: 0.6600 - acc: 0.6321 - val_loss: 0.6819 - val_acc: 0.5973\n",
      "Epoch 377/500\n",
      "33/33 [==============================] - 0s 5ms/step - loss: 0.6600 - acc: 0.6321 - val_loss: 0.6819 - val_acc: 0.5973\n",
      "Epoch 378/500\n",
      "33/33 [==============================] - 0s 5ms/step - loss: 0.6600 - acc: 0.6321 - val_loss: 0.6819 - val_acc: 0.5973\n",
      "Epoch 379/500\n",
      "33/33 [==============================] - 0s 5ms/step - loss: 0.6600 - acc: 0.6321 - val_loss: 0.6819 - val_acc: 0.5973\n",
      "Epoch 380/500\n",
      "33/33 [==============================] - 0s 5ms/step - loss: 0.6600 - acc: 0.6321 - val_loss: 0.6819 - val_acc: 0.5973\n",
      "Epoch 381/500\n",
      "33/33 [==============================] - 0s 5ms/step - loss: 0.6600 - acc: 0.6321 - val_loss: 0.6819 - val_acc: 0.5973\n",
      "Epoch 382/500\n",
      "33/33 [==============================] - 0s 5ms/step - loss: 0.6600 - acc: 0.6321 - val_loss: 0.6819 - val_acc: 0.5973\n",
      "Epoch 383/500\n",
      "33/33 [==============================] - 0s 5ms/step - loss: 0.6600 - acc: 0.6321 - val_loss: 0.6819 - val_acc: 0.5973\n",
      "Epoch 384/500\n",
      "33/33 [==============================] - 0s 5ms/step - loss: 0.6600 - acc: 0.6321 - val_loss: 0.6819 - val_acc: 0.5973\n",
      "Epoch 385/500\n",
      "33/33 [==============================] - 0s 5ms/step - loss: 0.6600 - acc: 0.6321 - val_loss: 0.6819 - val_acc: 0.5973\n",
      "Epoch 386/500\n",
      "33/33 [==============================] - 0s 5ms/step - loss: 0.6600 - acc: 0.6321 - val_loss: 0.6819 - val_acc: 0.5973\n",
      "Epoch 387/500\n",
      "33/33 [==============================] - 0s 5ms/step - loss: 0.6600 - acc: 0.6321 - val_loss: 0.6819 - val_acc: 0.5973\n",
      "Epoch 388/500\n",
      "33/33 [==============================] - 0s 5ms/step - loss: 0.6600 - acc: 0.6321 - val_loss: 0.6819 - val_acc: 0.5973\n",
      "Epoch 389/500\n",
      "33/33 [==============================] - 0s 5ms/step - loss: 0.6600 - acc: 0.6321 - val_loss: 0.6819 - val_acc: 0.5973\n",
      "Epoch 390/500\n",
      "33/33 [==============================] - 0s 5ms/step - loss: 0.6600 - acc: 0.6321 - val_loss: 0.6819 - val_acc: 0.5973\n",
      "Epoch 391/500\n",
      "33/33 [==============================] - 0s 5ms/step - loss: 0.6600 - acc: 0.6321 - val_loss: 0.6819 - val_acc: 0.5973\n",
      "Epoch 392/500\n",
      "33/33 [==============================] - 0s 5ms/step - loss: 0.6600 - acc: 0.6321 - val_loss: 0.6819 - val_acc: 0.5973\n",
      "Epoch 393/500\n",
      "33/33 [==============================] - 0s 5ms/step - loss: 0.6600 - acc: 0.6321 - val_loss: 0.6819 - val_acc: 0.5973\n",
      "Epoch 394/500\n",
      "33/33 [==============================] - 0s 5ms/step - loss: 0.6600 - acc: 0.6321 - val_loss: 0.6819 - val_acc: 0.5973\n",
      "Epoch 395/500\n",
      "33/33 [==============================] - 0s 5ms/step - loss: 0.6600 - acc: 0.6321 - val_loss: 0.6819 - val_acc: 0.5973\n",
      "Epoch 396/500\n",
      "33/33 [==============================] - 0s 5ms/step - loss: 0.6600 - acc: 0.6321 - val_loss: 0.6819 - val_acc: 0.5973\n",
      "Epoch 397/500\n",
      "33/33 [==============================] - 0s 5ms/step - loss: 0.6600 - acc: 0.6321 - val_loss: 0.6819 - val_acc: 0.5973\n",
      "Epoch 398/500\n",
      "33/33 [==============================] - 0s 4ms/step - loss: 0.6600 - acc: 0.6321 - val_loss: 0.6819 - val_acc: 0.5973\n",
      "Epoch 399/500\n",
      "33/33 [==============================] - 0s 4ms/step - loss: 0.6600 - acc: 0.6321 - val_loss: 0.6819 - val_acc: 0.5973\n",
      "Epoch 400/500\n",
      "33/33 [==============================] - 0s 5ms/step - loss: 0.6600 - acc: 0.6321 - val_loss: 0.6819 - val_acc: 0.5973\n",
      "Epoch 401/500\n",
      "33/33 [==============================] - 0s 5ms/step - loss: 0.6600 - acc: 0.6321 - val_loss: 0.6819 - val_acc: 0.5973\n",
      "Epoch 402/500\n",
      "33/33 [==============================] - 0s 4ms/step - loss: 0.6600 - acc: 0.6321 - val_loss: 0.6819 - val_acc: 0.5973\n",
      "Epoch 403/500\n",
      "33/33 [==============================] - 0s 4ms/step - loss: 0.6600 - acc: 0.6321 - val_loss: 0.6819 - val_acc: 0.5973\n",
      "Epoch 404/500\n",
      "33/33 [==============================] - 0s 5ms/step - loss: 0.6600 - acc: 0.6321 - val_loss: 0.6819 - val_acc: 0.5973\n",
      "Epoch 405/500\n",
      "33/33 [==============================] - 0s 4ms/step - loss: 0.6600 - acc: 0.6321 - val_loss: 0.6819 - val_acc: 0.5973\n",
      "Epoch 406/500\n",
      "33/33 [==============================] - 0s 5ms/step - loss: 0.6600 - acc: 0.6321 - val_loss: 0.6819 - val_acc: 0.5973\n",
      "Epoch 407/500\n",
      "33/33 [==============================] - 0s 5ms/step - loss: 0.6600 - acc: 0.6321 - val_loss: 0.6819 - val_acc: 0.5973\n",
      "Epoch 408/500\n",
      "33/33 [==============================] - 0s 4ms/step - loss: 0.6600 - acc: 0.6321 - val_loss: 0.6819 - val_acc: 0.5973\n",
      "Epoch 409/500\n",
      "33/33 [==============================] - 0s 5ms/step - loss: 0.6600 - acc: 0.6321 - val_loss: 0.6819 - val_acc: 0.5973\n",
      "Epoch 410/500\n",
      "33/33 [==============================] - 0s 4ms/step - loss: 0.6600 - acc: 0.6321 - val_loss: 0.6819 - val_acc: 0.5973\n",
      "Epoch 411/500\n",
      "33/33 [==============================] - 0s 5ms/step - loss: 0.6600 - acc: 0.6321 - val_loss: 0.6819 - val_acc: 0.5973\n",
      "Epoch 412/500\n",
      "33/33 [==============================] - 0s 5ms/step - loss: 0.6600 - acc: 0.6321 - val_loss: 0.6819 - val_acc: 0.5973\n",
      "Epoch 413/500\n",
      "33/33 [==============================] - 0s 5ms/step - loss: 0.6600 - acc: 0.6321 - val_loss: 0.6819 - val_acc: 0.5973\n",
      "Epoch 414/500\n",
      "33/33 [==============================] - 0s 5ms/step - loss: 0.6600 - acc: 0.6321 - val_loss: 0.6819 - val_acc: 0.5973\n",
      "Epoch 415/500\n",
      "33/33 [==============================] - 0s 4ms/step - loss: 0.6600 - acc: 0.6321 - val_loss: 0.6819 - val_acc: 0.5973\n",
      "Epoch 416/500\n",
      "33/33 [==============================] - 0s 5ms/step - loss: 0.6600 - acc: 0.6321 - val_loss: 0.6819 - val_acc: 0.5973\n",
      "Epoch 417/500\n",
      "33/33 [==============================] - 0s 5ms/step - loss: 0.6600 - acc: 0.6321 - val_loss: 0.6819 - val_acc: 0.5973\n",
      "Epoch 418/500\n",
      "33/33 [==============================] - 0s 4ms/step - loss: 0.6600 - acc: 0.6321 - val_loss: 0.6819 - val_acc: 0.5973\n",
      "Epoch 419/500\n",
      "33/33 [==============================] - 0s 5ms/step - loss: 0.6600 - acc: 0.6321 - val_loss: 0.6819 - val_acc: 0.5973\n",
      "Epoch 420/500\n",
      "33/33 [==============================] - 0s 4ms/step - loss: 0.6600 - acc: 0.6321 - val_loss: 0.6819 - val_acc: 0.5973\n",
      "Epoch 421/500\n",
      "33/33 [==============================] - 0s 5ms/step - loss: 0.6600 - acc: 0.6321 - val_loss: 0.6819 - val_acc: 0.5973\n",
      "Epoch 422/500\n",
      "33/33 [==============================] - 0s 5ms/step - loss: 0.6600 - acc: 0.6321 - val_loss: 0.6819 - val_acc: 0.5973\n",
      "Epoch 423/500\n",
      "33/33 [==============================] - 0s 4ms/step - loss: 0.6600 - acc: 0.6321 - val_loss: 0.6819 - val_acc: 0.5973\n",
      "Epoch 424/500\n",
      "33/33 [==============================] - 0s 5ms/step - loss: 0.6600 - acc: 0.6321 - val_loss: 0.6819 - val_acc: 0.5973\n",
      "Epoch 425/500\n",
      "33/33 [==============================] - 0s 4ms/step - loss: 0.6600 - acc: 0.6321 - val_loss: 0.6819 - val_acc: 0.5973\n",
      "Epoch 426/500\n",
      "33/33 [==============================] - 0s 4ms/step - loss: 0.6600 - acc: 0.6321 - val_loss: 0.6819 - val_acc: 0.5973\n",
      "Epoch 427/500\n",
      "33/33 [==============================] - 0s 4ms/step - loss: 0.6600 - acc: 0.6321 - val_loss: 0.6819 - val_acc: 0.5973\n",
      "Epoch 428/500\n",
      "33/33 [==============================] - 0s 4ms/step - loss: 0.6600 - acc: 0.6321 - val_loss: 0.6819 - val_acc: 0.5973\n",
      "Epoch 429/500\n",
      "33/33 [==============================] - 0s 4ms/step - loss: 0.6600 - acc: 0.6321 - val_loss: 0.6819 - val_acc: 0.5973\n",
      "Epoch 430/500\n",
      "33/33 [==============================] - 0s 4ms/step - loss: 0.6600 - acc: 0.6321 - val_loss: 0.6819 - val_acc: 0.5973\n",
      "Epoch 431/500\n",
      "33/33 [==============================] - 0s 5ms/step - loss: 0.6600 - acc: 0.6321 - val_loss: 0.6819 - val_acc: 0.5973\n",
      "Epoch 432/500\n",
      "33/33 [==============================] - 0s 5ms/step - loss: 0.6600 - acc: 0.6321 - val_loss: 0.6819 - val_acc: 0.5973\n",
      "Epoch 433/500\n",
      "33/33 [==============================] - 0s 4ms/step - loss: 0.6600 - acc: 0.6321 - val_loss: 0.6819 - val_acc: 0.5973\n",
      "Epoch 434/500\n",
      "33/33 [==============================] - 0s 5ms/step - loss: 0.6600 - acc: 0.6321 - val_loss: 0.6819 - val_acc: 0.5973\n",
      "Epoch 435/500\n",
      "33/33 [==============================] - 0s 4ms/step - loss: 0.6600 - acc: 0.6321 - val_loss: 0.6819 - val_acc: 0.5973\n",
      "Epoch 436/500\n",
      "33/33 [==============================] - 0s 5ms/step - loss: 0.6600 - acc: 0.6321 - val_loss: 0.6819 - val_acc: 0.5973\n",
      "Epoch 437/500\n",
      "33/33 [==============================] - 0s 5ms/step - loss: 0.6600 - acc: 0.6321 - val_loss: 0.6819 - val_acc: 0.5973\n",
      "Epoch 438/500\n",
      "33/33 [==============================] - 0s 5ms/step - loss: 0.6600 - acc: 0.6321 - val_loss: 0.6819 - val_acc: 0.5973\n",
      "Epoch 439/500\n",
      "33/33 [==============================] - 0s 5ms/step - loss: 0.6600 - acc: 0.6321 - val_loss: 0.6819 - val_acc: 0.5973\n",
      "Epoch 440/500\n",
      "33/33 [==============================] - 0s 4ms/step - loss: 0.6600 - acc: 0.6321 - val_loss: 0.6819 - val_acc: 0.5973\n",
      "Epoch 441/500\n",
      "33/33 [==============================] - 0s 4ms/step - loss: 0.6600 - acc: 0.6321 - val_loss: 0.6819 - val_acc: 0.5973\n",
      "Epoch 442/500\n",
      "33/33 [==============================] - 0s 5ms/step - loss: 0.6600 - acc: 0.6321 - val_loss: 0.6819 - val_acc: 0.5973\n",
      "Epoch 443/500\n",
      "33/33 [==============================] - 0s 5ms/step - loss: 0.6600 - acc: 0.6321 - val_loss: 0.6819 - val_acc: 0.5973\n",
      "Epoch 444/500\n",
      "33/33 [==============================] - 0s 5ms/step - loss: 0.6600 - acc: 0.6321 - val_loss: 0.6819 - val_acc: 0.5973\n",
      "Epoch 445/500\n",
      "33/33 [==============================] - 0s 5ms/step - loss: 0.6600 - acc: 0.6321 - val_loss: 0.6819 - val_acc: 0.5973\n",
      "Epoch 446/500\n",
      "33/33 [==============================] - 0s 5ms/step - loss: 0.6600 - acc: 0.6321 - val_loss: 0.6819 - val_acc: 0.5973\n",
      "Epoch 447/500\n",
      "33/33 [==============================] - 0s 5ms/step - loss: 0.6600 - acc: 0.6321 - val_loss: 0.6819 - val_acc: 0.5973\n",
      "Epoch 448/500\n",
      "33/33 [==============================] - 0s 5ms/step - loss: 0.6600 - acc: 0.6321 - val_loss: 0.6819 - val_acc: 0.5973\n",
      "Epoch 449/500\n",
      "33/33 [==============================] - 0s 5ms/step - loss: 0.6600 - acc: 0.6321 - val_loss: 0.6819 - val_acc: 0.5973\n",
      "Epoch 450/500\n",
      "33/33 [==============================] - 0s 5ms/step - loss: 0.6600 - acc: 0.6321 - val_loss: 0.6819 - val_acc: 0.5973\n",
      "Epoch 451/500\n",
      "33/33 [==============================] - 0s 5ms/step - loss: 0.6600 - acc: 0.6321 - val_loss: 0.6819 - val_acc: 0.5973\n",
      "Epoch 452/500\n",
      "33/33 [==============================] - 0s 5ms/step - loss: 0.6600 - acc: 0.6321 - val_loss: 0.6819 - val_acc: 0.5973\n",
      "Epoch 453/500\n",
      "33/33 [==============================] - 0s 5ms/step - loss: 0.6600 - acc: 0.6321 - val_loss: 0.6819 - val_acc: 0.5973\n",
      "Epoch 454/500\n",
      "33/33 [==============================] - 0s 5ms/step - loss: 0.6600 - acc: 0.6321 - val_loss: 0.6819 - val_acc: 0.5973\n",
      "Epoch 455/500\n",
      "33/33 [==============================] - 0s 5ms/step - loss: 0.6600 - acc: 0.6321 - val_loss: 0.6819 - val_acc: 0.5973\n",
      "Epoch 456/500\n",
      "33/33 [==============================] - 0s 4ms/step - loss: 0.6600 - acc: 0.6321 - val_loss: 0.6819 - val_acc: 0.5973\n",
      "Epoch 457/500\n",
      "33/33 [==============================] - 0s 5ms/step - loss: 0.6600 - acc: 0.6321 - val_loss: 0.6819 - val_acc: 0.5973\n",
      "Epoch 458/500\n",
      "33/33 [==============================] - 0s 5ms/step - loss: 0.6600 - acc: 0.6321 - val_loss: 0.6819 - val_acc: 0.5973\n",
      "Epoch 459/500\n",
      "33/33 [==============================] - 0s 4ms/step - loss: 0.6600 - acc: 0.6321 - val_loss: 0.6819 - val_acc: 0.5973\n",
      "Epoch 460/500\n",
      "33/33 [==============================] - 0s 4ms/step - loss: 0.6600 - acc: 0.6321 - val_loss: 0.6819 - val_acc: 0.5973\n",
      "Epoch 461/500\n",
      "33/33 [==============================] - 0s 5ms/step - loss: 0.6600 - acc: 0.6321 - val_loss: 0.6819 - val_acc: 0.5973\n",
      "Epoch 462/500\n",
      "33/33 [==============================] - 0s 5ms/step - loss: 0.6600 - acc: 0.6321 - val_loss: 0.6819 - val_acc: 0.5973\n",
      "Epoch 463/500\n",
      "33/33 [==============================] - 0s 5ms/step - loss: 0.6600 - acc: 0.6321 - val_loss: 0.6819 - val_acc: 0.5973\n",
      "Epoch 464/500\n",
      "33/33 [==============================] - 0s 4ms/step - loss: 0.6600 - acc: 0.6321 - val_loss: 0.6819 - val_acc: 0.5973\n",
      "Epoch 465/500\n",
      "33/33 [==============================] - 0s 5ms/step - loss: 0.6600 - acc: 0.6321 - val_loss: 0.6819 - val_acc: 0.5973\n",
      "Epoch 466/500\n",
      "33/33 [==============================] - 0s 5ms/step - loss: 0.6600 - acc: 0.6321 - val_loss: 0.6819 - val_acc: 0.5973\n",
      "Epoch 467/500\n",
      "33/33 [==============================] - 0s 4ms/step - loss: 0.6600 - acc: 0.6321 - val_loss: 0.6819 - val_acc: 0.5973\n",
      "Epoch 468/500\n",
      "33/33 [==============================] - 0s 5ms/step - loss: 0.6600 - acc: 0.6321 - val_loss: 0.6819 - val_acc: 0.5973\n",
      "Epoch 469/500\n",
      "33/33 [==============================] - 0s 5ms/step - loss: 0.6600 - acc: 0.6321 - val_loss: 0.6819 - val_acc: 0.5973\n",
      "Epoch 470/500\n",
      "33/33 [==============================] - 0s 5ms/step - loss: 0.6600 - acc: 0.6321 - val_loss: 0.6819 - val_acc: 0.5973\n",
      "Epoch 471/500\n",
      "33/33 [==============================] - 0s 4ms/step - loss: 0.6600 - acc: 0.6321 - val_loss: 0.6819 - val_acc: 0.5973\n",
      "Epoch 472/500\n",
      "33/33 [==============================] - 0s 5ms/step - loss: 0.6600 - acc: 0.6321 - val_loss: 0.6819 - val_acc: 0.5973\n",
      "Epoch 473/500\n",
      "33/33 [==============================] - 0s 5ms/step - loss: 0.6600 - acc: 0.6321 - val_loss: 0.6819 - val_acc: 0.5973\n",
      "Epoch 474/500\n",
      "33/33 [==============================] - 0s 5ms/step - loss: 0.6600 - acc: 0.6321 - val_loss: 0.6819 - val_acc: 0.5973\n",
      "Epoch 475/500\n",
      "33/33 [==============================] - 0s 5ms/step - loss: 0.6600 - acc: 0.6321 - val_loss: 0.6819 - val_acc: 0.5973\n",
      "Epoch 476/500\n",
      "33/33 [==============================] - 0s 5ms/step - loss: 0.6600 - acc: 0.6321 - val_loss: 0.6819 - val_acc: 0.5973\n",
      "Epoch 477/500\n",
      "33/33 [==============================] - 0s 5ms/step - loss: 0.6600 - acc: 0.6321 - val_loss: 0.6819 - val_acc: 0.5973\n",
      "Epoch 478/500\n",
      "33/33 [==============================] - 0s 5ms/step - loss: 0.6600 - acc: 0.6321 - val_loss: 0.6819 - val_acc: 0.5973\n",
      "Epoch 479/500\n",
      "33/33 [==============================] - 0s 5ms/step - loss: 0.6600 - acc: 0.6321 - val_loss: 0.6819 - val_acc: 0.5973\n",
      "Epoch 480/500\n",
      "33/33 [==============================] - 0s 4ms/step - loss: 0.6600 - acc: 0.6321 - val_loss: 0.6819 - val_acc: 0.5973\n",
      "Epoch 481/500\n",
      "33/33 [==============================] - 0s 5ms/step - loss: 0.6600 - acc: 0.6321 - val_loss: 0.6819 - val_acc: 0.5973\n",
      "Epoch 482/500\n",
      "33/33 [==============================] - 0s 5ms/step - loss: 0.6600 - acc: 0.6321 - val_loss: 0.6819 - val_acc: 0.5973\n",
      "Epoch 483/500\n",
      "33/33 [==============================] - 0s 5ms/step - loss: 0.6600 - acc: 0.6321 - val_loss: 0.6819 - val_acc: 0.5973\n",
      "Epoch 484/500\n",
      "33/33 [==============================] - 0s 4ms/step - loss: 0.6600 - acc: 0.6321 - val_loss: 0.6819 - val_acc: 0.5973\n",
      "Epoch 485/500\n",
      "33/33 [==============================] - 0s 4ms/step - loss: 0.6600 - acc: 0.6321 - val_loss: 0.6819 - val_acc: 0.5973\n",
      "Epoch 486/500\n",
      "33/33 [==============================] - 0s 5ms/step - loss: 0.6600 - acc: 0.6321 - val_loss: 0.6819 - val_acc: 0.5973\n",
      "Epoch 487/500\n",
      "33/33 [==============================] - 0s 5ms/step - loss: 0.6600 - acc: 0.6321 - val_loss: 0.6819 - val_acc: 0.5973\n",
      "Epoch 488/500\n",
      "33/33 [==============================] - 0s 5ms/step - loss: 0.6600 - acc: 0.6321 - val_loss: 0.6819 - val_acc: 0.5973\n",
      "Epoch 489/500\n",
      "33/33 [==============================] - 0s 5ms/step - loss: 0.6600 - acc: 0.6321 - val_loss: 0.6819 - val_acc: 0.5973\n",
      "Epoch 490/500\n",
      "33/33 [==============================] - 0s 4ms/step - loss: 0.6600 - acc: 0.6321 - val_loss: 0.6819 - val_acc: 0.5973\n",
      "Epoch 491/500\n",
      "33/33 [==============================] - 0s 5ms/step - loss: 0.6600 - acc: 0.6321 - val_loss: 0.6819 - val_acc: 0.5973\n",
      "Epoch 492/500\n",
      "33/33 [==============================] - 0s 4ms/step - loss: 0.6600 - acc: 0.6321 - val_loss: 0.6819 - val_acc: 0.5973\n",
      "Epoch 493/500\n",
      "33/33 [==============================] - 0s 5ms/step - loss: 0.6600 - acc: 0.6321 - val_loss: 0.6819 - val_acc: 0.5973\n",
      "Epoch 494/500\n",
      "33/33 [==============================] - 0s 5ms/step - loss: 0.6600 - acc: 0.6321 - val_loss: 0.6819 - val_acc: 0.5973\n",
      "Epoch 495/500\n",
      "33/33 [==============================] - 0s 5ms/step - loss: 0.6600 - acc: 0.6321 - val_loss: 0.6819 - val_acc: 0.5973\n",
      "Epoch 496/500\n",
      "33/33 [==============================] - 0s 5ms/step - loss: 0.6600 - acc: 0.6321 - val_loss: 0.6819 - val_acc: 0.5973\n",
      "Epoch 497/500\n",
      "33/33 [==============================] - 0s 5ms/step - loss: 0.6600 - acc: 0.6321 - val_loss: 0.6819 - val_acc: 0.5973\n",
      "Epoch 498/500\n",
      "33/33 [==============================] - 0s 5ms/step - loss: 0.6600 - acc: 0.6321 - val_loss: 0.6819 - val_acc: 0.5973\n",
      "Epoch 499/500\n",
      "33/33 [==============================] - 0s 5ms/step - loss: 0.6600 - acc: 0.6321 - val_loss: 0.6819 - val_acc: 0.5973\n",
      "Epoch 500/500\n",
      "33/33 [==============================] - 0s 5ms/step - loss: 0.6600 - acc: 0.6321 - val_loss: 0.6819 - val_acc: 0.5973\n"
     ]
    },
    {
     "data": {
      "text/plain": [
       "<tensorflow.python.keras.callbacks.History at 0x7ff5682f4a50>"
      ]
     },
     "execution_count": 24,
     "metadata": {},
     "output_type": "execute_result"
    }
   ],
   "source": [
    "model.compile(loss='binary_crossentropy',\n",
    "             optimizer=tf.keras.optimizers.RMSprop(),\n",
    "             metrics=['acc'])\n",
    "\n",
    "model.fit(training_batches, \n",
    "         epochs=500, \n",
    "         validation_data=validation_batches,\n",
    "         callbacks=[lr_scheduler])"
   ]
  },
  {
   "cell_type": "code",
   "execution_count": 25,
   "id": "413553d5",
   "metadata": {
    "execution": {
     "iopub.execute_input": "2022-07-12T15:47:06.299233Z",
     "iopub.status.busy": "2022-07-12T15:47:06.298407Z",
     "iopub.status.idle": "2022-07-12T15:47:06.392974Z",
     "shell.execute_reply": "2022-07-12T15:47:06.392283Z",
     "shell.execute_reply.started": "2022-07-12T14:23:13.604719Z"
    },
    "papermill": {
     "duration": 0.597326,
     "end_time": "2022-07-12T15:47:06.393127",
     "exception": false,
     "start_time": "2022-07-12T15:47:05.795801",
     "status": "completed"
    },
    "tags": []
   },
   "outputs": [
    {
     "name": "stdout",
     "output_type": "stream",
     "text": [
      "11/11 [==============================] - 0s 5ms/step - loss: 0.6568 - acc: 0.6540\n"
     ]
    },
    {
     "data": {
      "text/plain": [
       "[0.6567526459693909, 0.6539633870124817]"
      ]
     },
     "execution_count": 25,
     "metadata": {},
     "output_type": "execute_result"
    }
   ],
   "source": [
    "model.evaluate(testing_batches)"
   ]
  },
  {
   "cell_type": "markdown",
   "id": "32bd9abc",
   "metadata": {
    "papermill": {
     "duration": 0.492463,
     "end_time": "2022-07-12T15:47:07.381467",
     "exception": false,
     "start_time": "2022-07-12T15:47:06.889004",
     "status": "completed"
    },
    "tags": []
   },
   "source": [
    "## Binning Data and without input pipeline"
   ]
  },
  {
   "cell_type": "code",
   "execution_count": 26,
   "id": "44bf4f9a",
   "metadata": {
    "execution": {
     "iopub.execute_input": "2022-07-12T15:47:08.384162Z",
     "iopub.status.busy": "2022-07-12T15:47:08.383147Z",
     "iopub.status.idle": "2022-07-12T15:47:08.386777Z",
     "shell.execute_reply": "2022-07-12T15:47:08.386151Z",
     "shell.execute_reply.started": "2022-07-12T14:23:13.711070Z"
    },
    "papermill": {
     "duration": 0.506238,
     "end_time": "2022-07-12T15:47:08.386913",
     "exception": false,
     "start_time": "2022-07-12T15:47:07.880675",
     "status": "completed"
    },
    "tags": []
   },
   "outputs": [],
   "source": [
    "def from_continuous_to_category(datafrmae, num_bins):\n",
    "    \n",
    "    features = list(datafrmae.columns)\n",
    "    features_list = []\n",
    "    \n",
    "    for num, column in enumerate(features):\n",
    "        feature = datafrmae[column]\n",
    "        \n",
    "        bins = np.linspace(feature.min(), feature.max(), num_bins)\n",
    "        which_bin = np.digitize(feature, bins=bins)\n",
    "        \n",
    "        encoder = OneHotEncoder(sparse=False)\n",
    "        encoder.fit(which_bin.reshape(-1, 1))\n",
    "        x_binned = encoder.transform(which_bin.reshape(-1, 1))\n",
    "        \n",
    "        df = pd.DataFrame(x_binned)\n",
    "        features_list.append(df)\n",
    "        \n",
    "    return pd.concat(features_list, axis=1)"
   ]
  },
  {
   "cell_type": "code",
   "execution_count": 27,
   "id": "549e7536",
   "metadata": {
    "execution": {
     "iopub.execute_input": "2022-07-12T15:47:09.498825Z",
     "iopub.status.busy": "2022-07-12T15:47:09.497848Z",
     "iopub.status.idle": "2022-07-12T15:47:09.533208Z",
     "shell.execute_reply": "2022-07-12T15:47:09.533771Z",
     "shell.execute_reply.started": "2022-07-12T14:23:13.721533Z"
    },
    "papermill": {
     "duration": 0.56437,
     "end_time": "2022-07-12T15:47:09.534010",
     "exception": false,
     "start_time": "2022-07-12T15:47:08.969640",
     "status": "completed"
    },
    "tags": []
   },
   "outputs": [],
   "source": [
    "x_train_binned = from_continuous_to_category(x_train, 5)\n",
    "x_val_binned = from_continuous_to_category(x_val, 5)\n",
    "x_test_binned = from_continuous_to_category(x_test, 5)"
   ]
  },
  {
   "cell_type": "code",
   "execution_count": 28,
   "id": "695c0ee7",
   "metadata": {
    "execution": {
     "iopub.execute_input": "2022-07-12T15:47:10.530449Z",
     "iopub.status.busy": "2022-07-12T15:47:10.529776Z",
     "iopub.status.idle": "2022-07-12T15:47:14.044223Z",
     "shell.execute_reply": "2022-07-12T15:47:14.043640Z",
     "shell.execute_reply.started": "2022-07-12T14:23:13.769351Z"
    },
    "papermill": {
     "duration": 4.008772,
     "end_time": "2022-07-12T15:47:14.044382",
     "exception": false,
     "start_time": "2022-07-12T15:47:10.035610",
     "status": "completed"
    },
    "tags": []
   },
   "outputs": [
    {
     "name": "stdout",
     "output_type": "stream",
     "text": [
      "Epoch 1/10\n",
      "66/66 [==============================] - 1s 7ms/step - loss: 2.9853 - acc: 0.5272 - val_loss: 2.3750 - val_acc: 0.5859\n",
      "Epoch 2/10\n",
      "66/66 [==============================] - 0s 3ms/step - loss: 2.1625 - acc: 0.6277 - val_loss: 2.0276 - val_acc: 0.5859\n",
      "Epoch 3/10\n",
      "66/66 [==============================] - 0s 3ms/step - loss: 1.7614 - acc: 0.6538 - val_loss: 1.7625 - val_acc: 0.5859\n",
      "Epoch 4/10\n",
      "66/66 [==============================] - 0s 3ms/step - loss: 1.4976 - acc: 0.6853 - val_loss: 1.5671 - val_acc: 0.5859\n",
      "Epoch 5/10\n",
      "66/66 [==============================] - 0s 3ms/step - loss: 1.3012 - acc: 0.6912 - val_loss: 1.4104 - val_acc: 0.5878\n",
      "Epoch 6/10\n",
      "66/66 [==============================] - 0s 3ms/step - loss: 1.1617 - acc: 0.7002 - val_loss: 1.2686 - val_acc: 0.6126\n",
      "Epoch 7/10\n",
      "66/66 [==============================] - 0s 3ms/step - loss: 1.0499 - acc: 0.7076 - val_loss: 1.1568 - val_acc: 0.6202\n",
      "Epoch 8/10\n",
      "66/66 [==============================] - 0s 3ms/step - loss: 1.0018 - acc: 0.6943 - val_loss: 1.1027 - val_acc: 0.6031\n",
      "Epoch 9/10\n",
      "66/66 [==============================] - 0s 3ms/step - loss: 0.9165 - acc: 0.7257 - val_loss: 1.0690 - val_acc: 0.6031\n",
      "Epoch 10/10\n",
      "66/66 [==============================] - 0s 3ms/step - loss: 0.8743 - acc: 0.7157 - val_loss: 1.0598 - val_acc: 0.5973\n"
     ]
    },
    {
     "data": {
      "text/plain": [
       "<tensorflow.python.keras.callbacks.History at 0x7ff53ae14a10>"
      ]
     },
     "execution_count": 28,
     "metadata": {},
     "output_type": "execute_result"
    }
   ],
   "source": [
    "model = tf.keras.models.Sequential()\n",
    "\n",
    "model.add(tf.keras.layers.Dense(256, activation='relu', input_shape=(x_train_binned.shape[1],),\n",
    "                               kernel_regularizer=tf.keras.regularizers.L2()))\n",
    "model.add(tf.keras.layers.BatchNormalization())\n",
    "model.add(tf.keras.layers.Dense(128, activation='relu',\n",
    "                               kernel_regularizer=tf.keras.regularizers.L2()))\n",
    "model.add(tf.keras.layers.BatchNormalization())\n",
    "model.add(tf.keras.layers.Dense(1, activation='sigmoid'))\n",
    "\n",
    "model.compile(loss='binary_crossentropy',\n",
    "             optimizer='rmsprop',\n",
    "             metrics=['acc'])\n",
    "\n",
    "\n",
    "model.fit(x_train_binned,  y_train,\n",
    "         epochs=10, \n",
    "         validation_data=(x_val_binned, y_val))"
   ]
  },
  {
   "cell_type": "code",
   "execution_count": 29,
   "id": "919dff50",
   "metadata": {
    "execution": {
     "iopub.execute_input": "2022-07-12T15:47:15.121219Z",
     "iopub.status.busy": "2022-07-12T15:47:15.120208Z",
     "iopub.status.idle": "2022-07-12T15:47:15.218259Z",
     "shell.execute_reply": "2022-07-12T15:47:15.217611Z",
     "shell.execute_reply.started": "2022-07-12T14:23:17.210446Z"
    },
    "papermill": {
     "duration": 0.62443,
     "end_time": "2022-07-12T15:47:15.218415",
     "exception": false,
     "start_time": "2022-07-12T15:47:14.593985",
     "status": "completed"
    },
    "tags": []
   },
   "outputs": [
    {
     "name": "stdout",
     "output_type": "stream",
     "text": [
      "21/21 [==============================] - 0s 1ms/step - loss: 1.0352 - acc: 0.5991\n"
     ]
    },
    {
     "data": {
      "text/plain": [
       "[1.035194754600525, 0.5990853905677795]"
      ]
     },
     "execution_count": 29,
     "metadata": {},
     "output_type": "execute_result"
    }
   ],
   "source": [
    "model.evaluate(x_test_binned, y_test)"
   ]
  },
  {
   "cell_type": "code",
   "execution_count": null,
   "id": "5298f044",
   "metadata": {
    "papermill": {
     "duration": 0.510252,
     "end_time": "2022-07-12T15:47:16.239427",
     "exception": false,
     "start_time": "2022-07-12T15:47:15.729175",
     "status": "completed"
    },
    "tags": []
   },
   "outputs": [],
   "source": []
  },
  {
   "cell_type": "markdown",
   "id": "79de6813",
   "metadata": {
    "papermill": {
     "duration": 0.50676,
     "end_time": "2022-07-12T15:47:17.251375",
     "exception": false,
     "start_time": "2022-07-12T15:47:16.744615",
     "status": "completed"
    },
    "tags": []
   },
   "source": [
    "## sklearn scalling, PolynomialFeatures"
   ]
  },
  {
   "cell_type": "code",
   "execution_count": 30,
   "id": "3792b35d",
   "metadata": {
    "execution": {
     "iopub.execute_input": "2022-07-12T15:47:18.271457Z",
     "iopub.status.busy": "2022-07-12T15:47:18.270460Z",
     "iopub.status.idle": "2022-07-12T15:47:18.276007Z",
     "shell.execute_reply": "2022-07-12T15:47:18.275451Z",
     "shell.execute_reply.started": "2022-07-12T14:23:17.311848Z"
    },
    "papermill": {
     "duration": 0.518844,
     "end_time": "2022-07-12T15:47:18.276151",
     "exception": false,
     "start_time": "2022-07-12T15:47:17.757307",
     "status": "completed"
    },
    "tags": []
   },
   "outputs": [],
   "source": [
    "from sklearn.preprocessing import StandardScaler, PolynomialFeatures\n",
    "from sklearn.pipeline import Pipeline"
   ]
  },
  {
   "cell_type": "code",
   "execution_count": 31,
   "id": "feff0edb",
   "metadata": {
    "execution": {
     "iopub.execute_input": "2022-07-12T15:47:19.307836Z",
     "iopub.status.busy": "2022-07-12T15:47:19.307186Z",
     "iopub.status.idle": "2022-07-12T15:47:19.326287Z",
     "shell.execute_reply": "2022-07-12T15:47:19.326750Z",
     "shell.execute_reply.started": "2022-07-12T14:23:17.320028Z"
    },
    "papermill": {
     "duration": 0.539843,
     "end_time": "2022-07-12T15:47:19.326946",
     "exception": false,
     "start_time": "2022-07-12T15:47:18.787103",
     "status": "completed"
    },
    "tags": []
   },
   "outputs": [],
   "source": [
    "pipe = Pipeline([('poly', PolynomialFeatures()),\n",
    "               ('scaling', StandardScaler())])\n",
    "\n",
    "pipe.fit(x_train)\n",
    "\n",
    "x_train_ready = pipe.transform(x_train)\n",
    "x_val_ready = pipe.transform(x_val)\n",
    "x_test_ready = pipe.transform(x_test)"
   ]
  },
  {
   "cell_type": "code",
   "execution_count": 32,
   "id": "a8da0023",
   "metadata": {
    "execution": {
     "iopub.execute_input": "2022-07-12T15:47:20.374604Z",
     "iopub.status.busy": "2022-07-12T15:47:20.373900Z",
     "iopub.status.idle": "2022-07-12T15:47:20.375975Z",
     "shell.execute_reply": "2022-07-12T15:47:20.376672Z",
     "shell.execute_reply.started": "2022-07-12T14:23:17.349232Z"
    },
    "papermill": {
     "duration": 0.524052,
     "end_time": "2022-07-12T15:47:20.376868",
     "exception": false,
     "start_time": "2022-07-12T15:47:19.852816",
     "status": "completed"
    },
    "tags": []
   },
   "outputs": [],
   "source": [
    "class stop_training(tf.keras.callbacks.Callback):\n",
    "    def on_epoch_end(self, epoch, logs={}):\n",
    "        if (logs.get('val_acc')>0.69):\n",
    "            print(\"\\nReached 69% accuracy so canceling training!\")\n",
    "            self.model.stop_training = True\n",
    "\n",
    "my_callbacks = stop_training()\n",
    "\n",
    "\n",
    "early_stopping = tf.keras.callbacks.EarlyStopping(monitor='loss',\n",
    "                                                  patience=5,\n",
    "                                                  restore_best_weights=True)"
   ]
  },
  {
   "cell_type": "code",
   "execution_count": 33,
   "id": "39911978",
   "metadata": {
    "execution": {
     "iopub.execute_input": "2022-07-12T15:47:21.410480Z",
     "iopub.status.busy": "2022-07-12T15:47:21.409791Z",
     "iopub.status.idle": "2022-07-12T15:47:21.421025Z",
     "shell.execute_reply": "2022-07-12T15:47:21.420245Z",
     "shell.execute_reply.started": "2022-07-12T14:23:17.356815Z"
    },
    "papermill": {
     "duration": 0.540831,
     "end_time": "2022-07-12T15:47:21.421191",
     "exception": false,
     "start_time": "2022-07-12T15:47:20.880360",
     "status": "completed"
    },
    "scrolled": true,
    "tags": []
   },
   "outputs": [],
   "source": [
    "model = tf.keras.models.Sequential()\n",
    "\n",
    "        \n",
    "model.add(tf.keras.layers.Dense(512, activation='relu',\n",
    "                               kernel_regularizer=tf.keras.regularizers.L2()))\n",
    "model.add(tf.keras.layers.BatchNormalization())\n",
    "          \n",
    "model.add(tf.keras.layers.Dense(256, activation='relu',\n",
    "                               kernel_regularizer=tf.keras.regularizers.L2()))\n",
    "model.add(tf.keras.layers.BatchNormalization())\n",
    "          \n",
    "model.add(tf.keras.layers.Dense(1, activation='sigmoid'))"
   ]
  },
  {
   "cell_type": "code",
   "execution_count": 34,
   "id": "71ac39ed",
   "metadata": {
    "execution": {
     "iopub.execute_input": "2022-07-12T15:47:22.540204Z",
     "iopub.status.busy": "2022-07-12T15:47:22.539513Z",
     "iopub.status.idle": "2022-07-12T15:47:22.551765Z",
     "shell.execute_reply": "2022-07-12T15:47:22.552370Z",
     "shell.execute_reply.started": "2022-07-12T14:23:17.380679Z"
    },
    "papermill": {
     "duration": 0.52201,
     "end_time": "2022-07-12T15:47:22.552551",
     "exception": false,
     "start_time": "2022-07-12T15:47:22.030541",
     "status": "completed"
    },
    "tags": []
   },
   "outputs": [],
   "source": [
    "model.compile(loss='binary_crossentropy',\n",
    "             optimizer='rmsprop',\n",
    "             metrics=['acc'])"
   ]
  },
  {
   "cell_type": "code",
   "execution_count": 35,
   "id": "4e2aef0f",
   "metadata": {
    "execution": {
     "iopub.execute_input": "2022-07-12T15:47:23.588173Z",
     "iopub.status.busy": "2022-07-12T15:47:23.587461Z",
     "iopub.status.idle": "2022-07-12T15:47:26.552050Z",
     "shell.execute_reply": "2022-07-12T15:47:26.552601Z",
     "shell.execute_reply.started": "2022-07-12T14:23:17.393167Z"
    },
    "papermill": {
     "duration": 3.476628,
     "end_time": "2022-07-12T15:47:26.552776",
     "exception": false,
     "start_time": "2022-07-12T15:47:23.076148",
     "status": "completed"
    },
    "scrolled": true,
    "tags": []
   },
   "outputs": [
    {
     "name": "stdout",
     "output_type": "stream",
     "text": [
      "Epoch 1/5\n",
      "66/66 [==============================] - 2s 8ms/step - loss: 4.8663 - acc: 0.5554 - val_loss: 3.3893 - val_acc: 0.6126\n",
      "Epoch 2/5\n",
      "66/66 [==============================] - 0s 5ms/step - loss: 3.0910 - acc: 0.6561 - val_loss: 2.4037 - val_acc: 0.6183\n",
      "Epoch 3/5\n",
      "66/66 [==============================] - 0s 5ms/step - loss: 2.1903 - acc: 0.6608 - val_loss: 1.7629 - val_acc: 0.6107\n",
      "Epoch 4/5\n",
      "66/66 [==============================] - 0s 5ms/step - loss: 1.5894 - acc: 0.6680 - val_loss: 1.3806 - val_acc: 0.6355\n",
      "Epoch 5/5\n",
      "66/66 [==============================] - 0s 5ms/step - loss: 1.2748 - acc: 0.6620 - val_loss: 1.1500 - val_acc: 0.6260\n"
     ]
    },
    {
     "data": {
      "text/plain": [
       "<tensorflow.python.keras.callbacks.History at 0x7ff53abaac90>"
      ]
     },
     "execution_count": 35,
     "metadata": {},
     "output_type": "execute_result"
    }
   ],
   "source": [
    "model.fit(x_train_ready,  y_train,\n",
    "         epochs=5, \n",
    "         validation_data=(x_val_ready, y_val),\n",
    "         callbacks=[early_stopping, my_callbacks])"
   ]
  },
  {
   "cell_type": "code",
   "execution_count": 36,
   "id": "9e7adf2f",
   "metadata": {
    "execution": {
     "iopub.execute_input": "2022-07-12T15:47:27.638564Z",
     "iopub.status.busy": "2022-07-12T15:47:27.637804Z",
     "iopub.status.idle": "2022-07-12T15:47:27.730807Z",
     "shell.execute_reply": "2022-07-12T15:47:27.730300Z",
     "shell.execute_reply.started": "2022-07-12T14:23:19.339434Z"
    },
    "papermill": {
     "duration": 0.654275,
     "end_time": "2022-07-12T15:47:27.730962",
     "exception": false,
     "start_time": "2022-07-12T15:47:27.076687",
     "status": "completed"
    },
    "tags": []
   },
   "outputs": [
    {
     "name": "stdout",
     "output_type": "stream",
     "text": [
      "21/21 [==============================] - 0s 2ms/step - loss: 1.1020 - acc: 0.6753\n"
     ]
    },
    {
     "data": {
      "text/plain": [
       "[1.101958155632019, 0.6753048896789551]"
      ]
     },
     "execution_count": 36,
     "metadata": {},
     "output_type": "execute_result"
    }
   ],
   "source": [
    "model.evaluate(x_test_ready, y_test)"
   ]
  },
  {
   "cell_type": "code",
   "execution_count": null,
   "id": "f93f482b",
   "metadata": {
    "papermill": {
     "duration": 0.515036,
     "end_time": "2022-07-12T15:47:28.774576",
     "exception": false,
     "start_time": "2022-07-12T15:47:28.259540",
     "status": "completed"
    },
    "tags": []
   },
   "outputs": [],
   "source": []
  },
  {
   "cell_type": "markdown",
   "id": "63dc9a7c",
   "metadata": {
    "papermill": {
     "duration": 0.513584,
     "end_time": "2022-07-12T15:47:29.806295",
     "exception": false,
     "start_time": "2022-07-12T15:47:29.292711",
     "status": "completed"
    },
    "tags": []
   },
   "source": [
    "# Reference:\n",
    "- https://www.kaggle.com/naseralqaydeh/tensorflow-input-pipeline-tf-data"
   ]
  }
 ],
 "metadata": {
  "kernelspec": {
   "display_name": "Python 3",
   "language": "python",
   "name": "python3"
  },
  "language_info": {
   "codemirror_mode": {
    "name": "ipython",
    "version": 3
   },
   "file_extension": ".py",
   "mimetype": "text/x-python",
   "name": "python",
   "nbconvert_exporter": "python",
   "pygments_lexer": "ipython3",
   "version": "3.7.10"
  },
  "papermill": {
   "default_parameters": {},
   "duration": 128.038145,
   "end_time": "2022-07-12T15:47:31.987003",
   "environment_variables": {},
   "exception": null,
   "input_path": "__notebook__.ipynb",
   "output_path": "__notebook__.ipynb",
   "parameters": {},
   "start_time": "2022-07-12T15:45:23.948858",
   "version": "2.3.3"
  }
 },
 "nbformat": 4,
 "nbformat_minor": 5
}
